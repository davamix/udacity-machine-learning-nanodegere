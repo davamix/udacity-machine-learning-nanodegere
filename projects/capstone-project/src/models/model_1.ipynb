{
 "cells": [
  {
   "cell_type": "code",
   "execution_count": 123,
   "metadata": {},
   "outputs": [],
   "source": [
    "import os\n",
    "import numpy as np\n",
    "import keras as K\n",
    "from keras.preprocessing.image import ImageDataGenerator, array_to_img, img_to_array, load_img\n",
    "from keras.optimizers import SGD\n",
    "from keras import metrics\n",
    "from sklearn.metrics import classification_report, roc_auc_score, matthews_corrcoef\n",
    "import matplotlib.pyplot as plt\n",
    "import pandas as pd"
   ]
  },
  {
   "cell_type": "code",
   "execution_count": 68,
   "metadata": {},
   "outputs": [],
   "source": [
    "# Model name used to save the weights in h5 format. The name match with the Jupyter notebook\n",
    "\n",
    "MODEL_NAME = 'model_1'"
   ]
  },
  {
   "cell_type": "code",
   "execution_count": 92,
   "metadata": {},
   "outputs": [],
   "source": [
    "# DATA PATHS\n",
    "\n",
    "TRAIN_FOLDER_PATH = '../../data/train/'\n",
    "VAL_FODLER_PATH = '../../data/validation/'\n",
    "#TEST_FOLDER_PATH = '../../data/test/'\n",
    "TEST_FOLDER_PATH = '../../data/test_manual'\n",
    "PREVIEW_IMAGES_FOLDER = '../../data/preview/'\n",
    "\n",
    "PREDICTION_FILE_PATH = '../../data/' + MODEL_NAME + '.csv'"
   ]
  },
  {
   "cell_type": "code",
   "execution_count": 70,
   "metadata": {},
   "outputs": [],
   "source": [
    "# Data augmentation\n",
    "\n",
    "#datagen = ImageDataGenerator(\n",
    "#    rotation_range=40,\n",
    "#    width_shift_range = 0.2,\n",
    "#    height_shift_range = 0.2,\n",
    "#    horizontal_flip = True,\n",
    "#    fill_mode = 'nearest')\n",
    "\n",
    "#img = load_img(os.path.join(TRAIN_FOLDER_PATH, 'parasitized/cell_1.png'))\n",
    "\n",
    "#x = img_to_array(img)\n",
    "#x = x.reshape((1,) + x.shape)\n",
    "\n",
    "#i = 0\n",
    "#for batch in datagen.flow(x, batch_size=1, save_to_dir=PREVIEW_IMAGES_FOLDER, save_prefix='cell', save_format='png'):\n",
    "#    i+=1\n",
    "#    if i > 5:\n",
    "#        break"
   ]
  },
  {
   "cell_type": "code",
   "execution_count": 71,
   "metadata": {},
   "outputs": [],
   "source": [
    "#from IPython.display import Image, display\n",
    "\n",
    "#for r, d, f in os.walk(PREVIEW_IMAGES_FOLDER):\n",
    "#    for image in f:\n",
    "#        display(Image(os.path.join(r, image)))"
   ]
  },
  {
   "cell_type": "code",
   "execution_count": 124,
   "metadata": {},
   "outputs": [
    {
     "name": "stdout",
     "output_type": "stream",
     "text": [
      "Found 20668 images belonging to 2 classes.\n",
      "Found 5510 images belonging to 2 classes.\n",
      "Found 1376 images belonging to 2 classes.\n"
     ]
    }
   ],
   "source": [
    "# MODEL TRAINING CONFIGURATION\n",
    "\n",
    "batch_size = 32\n",
    "\n",
    "train_datagen = ImageDataGenerator(\n",
    "    rescale = 1./255,\n",
    "    horizontal_flip = True,\n",
    "    vertical_flip = True,\n",
    "    rotation_range = 20\n",
    ")\n",
    "\n",
    "validation_datagen = ImageDataGenerator(rescale=1./255)\n",
    "test_datagen = ImageDataGenerator(rescale=1./255)\n",
    "\n",
    "train_generator = train_datagen.flow_from_directory(\n",
    "    TRAIN_FOLDER_PATH,\n",
    "    target_size = (100,100),\n",
    "    color_mode='rgb',\n",
    "    batch_size = batch_size,\n",
    "    class_mode = 'categorical',\n",
    "    shuffle = True\n",
    ")\n",
    "\n",
    "validation_generator = validation_datagen.flow_from_directory(\n",
    "    VAL_FODLER_PATH,\n",
    "    target_size = (100, 100),\n",
    "    color_mode='rgb',\n",
    "    batch_size = batch_size,\n",
    "    class_mode = 'categorical',\n",
    "    shuffle = False\n",
    ")\n",
    "\n",
    "test_generator = test_datagen.flow_from_directory(\n",
    "    TEST_FOLDER_PATH,\n",
    "    target_size = (100, 100),\n",
    "    color_mode='rgb',\n",
    "    batch_size = batch_size,\n",
    "    class_mode = 'categorical',\n",
    "    shuffle = False\n",
    ")"
   ]
  },
  {
   "cell_type": "code",
   "execution_count": 125,
   "metadata": {},
   "outputs": [
    {
     "name": "stdout",
     "output_type": "stream",
     "text": [
      "_________________________________________________________________\n",
      "Layer (type)                 Output Shape              Param #   \n",
      "=================================================================\n",
      "conv2d_31 (Conv2D)           (None, 98, 98, 32)        896       \n",
      "_________________________________________________________________\n",
      "activation_51 (Activation)   (None, 98, 98, 32)        0         \n",
      "_________________________________________________________________\n",
      "max_pooling2d_31 (MaxPooling (None, 49, 49, 32)        0         \n",
      "_________________________________________________________________\n",
      "conv2d_32 (Conv2D)           (None, 47, 47, 32)        9248      \n",
      "_________________________________________________________________\n",
      "activation_52 (Activation)   (None, 47, 47, 32)        0         \n",
      "_________________________________________________________________\n",
      "max_pooling2d_32 (MaxPooling (None, 23, 23, 32)        0         \n",
      "_________________________________________________________________\n",
      "conv2d_33 (Conv2D)           (None, 23, 23, 64)        2112      \n",
      "_________________________________________________________________\n",
      "activation_53 (Activation)   (None, 23, 23, 64)        0         \n",
      "_________________________________________________________________\n",
      "max_pooling2d_33 (MaxPooling (None, 11, 11, 64)        0         \n",
      "_________________________________________________________________\n",
      "flatten_11 (Flatten)         (None, 7744)              0         \n",
      "_________________________________________________________________\n",
      "dense_21 (Dense)             (None, 64)                495680    \n",
      "_________________________________________________________________\n",
      "activation_54 (Activation)   (None, 64)                0         \n",
      "_________________________________________________________________\n",
      "dropout_11 (Dropout)         (None, 64)                0         \n",
      "_________________________________________________________________\n",
      "dense_22 (Dense)             (None, 2)                 130       \n",
      "_________________________________________________________________\n",
      "activation_55 (Activation)   (None, 2)                 0         \n",
      "=================================================================\n",
      "Total params: 508,066\n",
      "Trainable params: 508,066\n",
      "Non-trainable params: 0\n",
      "_________________________________________________________________\n"
     ]
    }
   ],
   "source": [
    "# Import the architecture/s we want to use and then get the model\n",
    "\n",
    "#import architecture_2\n",
    "\n",
    "#arc2 = architecture_2\n",
    "\n",
    "#model = arc2.get_model()\n",
    "\n",
    "#model.summary()\n",
    "from keras.models import Sequential\n",
    "from keras.layers import Conv2D, MaxPooling2D\n",
    "from keras.layers import Activation, Dropout, Flatten, Dense\n",
    "\n",
    "model = Sequential()\n",
    "model.add(Conv2D(32, (3,3), input_shape=(100,100,3)))\n",
    "model.add(Activation('relu'))\n",
    "model.add(MaxPooling2D(pool_size=(2,2)))\n",
    "\n",
    "model.add(Conv2D(32, (3,3)))\n",
    "model.add(Activation('relu'))\n",
    "model.add(MaxPooling2D(pool_size=(2,2)))\n",
    "\n",
    "model.add(Conv2D(64, (1,1)))\n",
    "model.add(Activation('relu'))\n",
    "model.add(MaxPooling2D(pool_size=(2,2)))\n",
    "\n",
    "model.add(Flatten())\n",
    "model.add(Dense(64))\n",
    "model.add(Activation('relu'))\n",
    "model.add(Dropout(0.5))\n",
    "\n",
    "model.add(Dense(2))\n",
    "model.add(Activation('softmax'))\n",
    "\n",
    "model.summary()"
   ]
  },
  {
   "cell_type": "code",
   "execution_count": 136,
   "metadata": {},
   "outputs": [],
   "source": [
    "def mcc_pred(y_true, y_pred):\n",
    "    y_pred_pos = K.backend.round(K.backend.clip(y_pred, 0, 1))\n",
    "    y_pred_neg = 1 - y_pred_pos\n",
    "\n",
    "    y_pos = K.backend.round(K.backend.clip(y_true, 0, 1))\n",
    "    y_neg = 1 - y_pos\n",
    "\n",
    "    tp = K.backend.sum(y_pos * y_pred_pos)\n",
    "    tn = K.backend.sum(y_neg * y_pred_neg)\n",
    "\n",
    "    fp = K.backend.sum(y_neg * y_pred_pos)\n",
    "    fn = K.backend.sum(y_pos * y_pred_neg)\n",
    "\n",
    "    numerator = (tp * tn - fp * fn)\n",
    "    denominator = K.backend.sqrt((tp + fp) * (tp + fn) * (tn + fp) * (tn + fn))\n",
    "\n",
    "    return numerator / (denominator + K.backend.epsilon())"
   ]
  },
  {
   "cell_type": "code",
   "execution_count": 137,
   "metadata": {},
   "outputs": [],
   "source": [
    "#model.compile(loss='binary_crossentropy', optimizer='sgd', metrics=['accuracy'])\n",
    "INIT_LR = 1e-2\n",
    "NUM_EPOCHS = 25\n",
    "\n",
    "opt = SGD(lr=1e-1, momentum=0.9, decay=1e-1 / NUM_EPOCHS)\n",
    "model.compile(loss=\"categorical_crossentropy\", optimizer=opt, metrics=[\"accuracy\", mcc_pred])"
   ]
  },
  {
   "cell_type": "code",
   "execution_count": 138,
   "metadata": {},
   "outputs": [
    {
     "name": "stdout",
     "output_type": "stream",
     "text": [
      "Epoch 1/25\n",
      "645/645 [==============================] - 60s 93ms/step - loss: 0.6951 - acc: 0.5064 - mcc_pred: 0.0129 - val_loss: 0.6945 - val_acc: 0.5005 - val_mcc_pred: 0.0011\n",
      "Epoch 2/25\n",
      "645/645 [==============================] - 60s 93ms/step - loss: 0.6936 - acc: 0.5052 - mcc_pred: 0.0104 - val_loss: 0.6929 - val_acc: 0.5029 - val_mcc_pred: 0.0058\n",
      "Epoch 3/25\n",
      "645/645 [==============================] - 60s 93ms/step - loss: 0.6634 - acc: 0.5948 - mcc_pred: 0.1896 - val_loss: 0.5464 - val_acc: 0.8030 - val_mcc_pred: 0.6061\n",
      "Epoch 4/25\n",
      "645/645 [==============================] - 59s 92ms/step - loss: 0.3053 - acc: 0.8892 - mcc_pred: 0.7783 - val_loss: 0.2086 - val_acc: 0.9153 - val_mcc_pred: 0.8306\n",
      "Epoch 5/25\n",
      "645/645 [==============================] - 59s 92ms/step - loss: 0.2261 - acc: 0.9278 - mcc_pred: 0.8556 - val_loss: 0.2037 - val_acc: 0.9357 - val_mcc_pred: 0.8715\n",
      "Epoch 6/25\n",
      "645/645 [==============================] - 59s 92ms/step - loss: 0.2148 - acc: 0.9349 - mcc_pred: 0.8697 - val_loss: 0.1890 - val_acc: 0.9432 - val_mcc_pred: 0.8865\n",
      "Epoch 7/25\n",
      "645/645 [==============================] - 59s 92ms/step - loss: 0.1997 - acc: 0.9407 - mcc_pred: 0.8815 - val_loss: 0.1968 - val_acc: 0.9440 - val_mcc_pred: 0.8879\n",
      "Epoch 8/25\n",
      "645/645 [==============================] - 59s 92ms/step - loss: 0.1981 - acc: 0.9407 - mcc_pred: 0.8815 - val_loss: 0.1948 - val_acc: 0.9432 - val_mcc_pred: 0.8865\n",
      "Epoch 9/25\n",
      "645/645 [==============================] - 59s 92ms/step - loss: 0.1923 - acc: 0.9424 - mcc_pred: 0.8849 - val_loss: 0.1705 - val_acc: 0.9472 - val_mcc_pred: 0.8945\n",
      "Epoch 10/25\n",
      "645/645 [==============================] - 61s 95ms/step - loss: 0.1840 - acc: 0.9441 - mcc_pred: 0.8882 - val_loss: 0.1697 - val_acc: 0.9491 - val_mcc_pred: 0.8981\n",
      "Epoch 11/25\n",
      "645/645 [==============================] - 61s 95ms/step - loss: 0.1855 - acc: 0.9462 - mcc_pred: 0.8923 - val_loss: 0.1666 - val_acc: 0.9463 - val_mcc_pred: 0.8927\n",
      "Epoch 12/25\n",
      "645/645 [==============================] - 62s 96ms/step - loss: 0.1801 - acc: 0.9469 - mcc_pred: 0.8938 - val_loss: 0.1655 - val_acc: 0.9456 - val_mcc_pred: 0.8912\n",
      "Epoch 13/25\n",
      "645/645 [==============================] - 62s 96ms/step - loss: 0.1810 - acc: 0.9468 - mcc_pred: 0.8935 - val_loss: 0.1605 - val_acc: 0.9511 - val_mcc_pred: 0.9022\n",
      "Epoch 14/25\n",
      "645/645 [==============================] - 63s 97ms/step - loss: 0.1802 - acc: 0.9471 - mcc_pred: 0.8942 - val_loss: 0.1588 - val_acc: 0.9491 - val_mcc_pred: 0.8981\n",
      "Epoch 15/25\n",
      "645/645 [==============================] - 62s 97ms/step - loss: 0.1766 - acc: 0.9475 - mcc_pred: 0.8949 - val_loss: 0.1594 - val_acc: 0.9516 - val_mcc_pred: 0.9032\n",
      "Epoch 16/25\n",
      "645/645 [==============================] - 62s 96ms/step - loss: 0.1754 - acc: 0.9493 - mcc_pred: 0.8986 - val_loss: 0.1597 - val_acc: 0.9505 - val_mcc_pred: 0.9011\n",
      "Epoch 17/25\n",
      "645/645 [==============================] - 62s 96ms/step - loss: 0.1725 - acc: 0.9501 - mcc_pred: 0.9003 - val_loss: 0.1601 - val_acc: 0.9483 - val_mcc_pred: 0.8967\n",
      "Epoch 18/25\n",
      "645/645 [==============================] - 62s 97ms/step - loss: 0.1732 - acc: 0.9502 - mcc_pred: 0.9004 - val_loss: 0.1602 - val_acc: 0.9498 - val_mcc_pred: 0.8996\n",
      "Epoch 19/25\n",
      "645/645 [==============================] - 63s 97ms/step - loss: 0.1703 - acc: 0.9488 - mcc_pred: 0.8977 - val_loss: 0.1533 - val_acc: 0.9533 - val_mcc_pred: 0.9065\n",
      "Epoch 20/25\n",
      "645/645 [==============================] - 63s 98ms/step - loss: 0.1710 - acc: 0.9501 - mcc_pred: 0.9003 - val_loss: 0.1574 - val_acc: 0.9503 - val_mcc_pred: 0.9007\n",
      "Epoch 21/25\n",
      "645/645 [==============================] - 63s 97ms/step - loss: 0.1662 - acc: 0.9510 - mcc_pred: 0.9021 - val_loss: 0.1537 - val_acc: 0.9524 - val_mcc_pred: 0.9047\n",
      "Epoch 22/25\n",
      "645/645 [==============================] - 60s 93ms/step - loss: 0.1688 - acc: 0.9508 - mcc_pred: 0.9016 - val_loss: 0.1500 - val_acc: 0.9518 - val_mcc_pred: 0.9036\n",
      "Epoch 23/25\n",
      "645/645 [==============================] - 61s 95ms/step - loss: 0.1688 - acc: 0.9498 - mcc_pred: 0.8995 - val_loss: 0.1515 - val_acc: 0.9527 - val_mcc_pred: 0.9054\n",
      "Epoch 24/25\n",
      "645/645 [==============================] - 59s 92ms/step - loss: 0.1641 - acc: 0.9523 - mcc_pred: 0.9045 - val_loss: 0.1504 - val_acc: 0.9533 - val_mcc_pred: 0.9065\n",
      "Epoch 25/25\n",
      "645/645 [==============================] - 59s 91ms/step - loss: 0.1618 - acc: 0.9523 - mcc_pred: 0.9046 - val_loss: 0.1490 - val_acc: 0.9533 - val_mcc_pred: 0.9065\n"
     ]
    }
   ],
   "source": [
    "# MODEL TRAINING\n",
    "\n",
    "history = model.fit_generator(\n",
    "    train_generator,\n",
    "    steps_per_epoch = train_generator.n // train_generator.batch_size,\n",
    "    epochs = NUM_EPOCHS,\n",
    "    validation_data = validation_generator,\n",
    "    validation_steps = validation_generator.n // validation_generator.batch_size,\n",
    "    use_multiprocessing = True\n",
    ")\n",
    "\n",
    "model.save_weights(MODEL_NAME + '.h5')"
   ]
  },
  {
   "cell_type": "code",
   "execution_count": 139,
   "metadata": {},
   "outputs": [
    {
     "data": {
      "image/png": "[encoded data removed]",
      "text/plain": [
       "<Figure size 432x288 with 1 Axes>"
      ]
     },
     "metadata": {},
     "output_type": "display_data"
    },
    {
     "data": {
      "image/png": "[encoded data removed]",
      "text/plain": [
       "<Figure size 432x288 with 1 Axes>"
      ]
     },
     "metadata": {},
     "output_type": "display_data"
    }
   ],
   "source": [
    "# Plot accuracy and loss values\n",
    "\n",
    "plt.plot(history.history['acc'])\n",
    "plt.plot(history.history['val_acc'])\n",
    "plt.title('model accuracy')\n",
    "plt.ylabel('accuracy')\n",
    "plt.xlabel('epoch')\n",
    "plt.legend(['train', 'test'], loc='upper left')\n",
    "plt.show()\n",
    "# summarize history for loss\n",
    "plt.plot(history.history['loss'])\n",
    "plt.plot(history.history['val_loss'])\n",
    "plt.title('model loss')\n",
    "plt.ylabel('loss')\n",
    "plt.xlabel('epoch')\n",
    "plt.legend(['train', 'test'], loc='upper left')\n",
    "plt.show()"
   ]
  },
  {
   "cell_type": "code",
   "execution_count": 140,
   "metadata": {},
   "outputs": [
    {
     "data": {
      "text/plain": [
       "[0.1531784189864993, 0.9529433139534884, 0.9058866279069767]"
      ]
     },
     "execution_count": 140,
     "metadata": {},
     "output_type": "execute_result"
    }
   ],
   "source": [
    "# Evaluate the model\n",
    "\n",
    "model.evaluate_generator(validation_generator, steps= validation_generator.n // validation_generator.batch_size)\n"
   ]
  },
  {
   "cell_type": "code",
   "execution_count": 141,
   "metadata": {},
   "outputs": [
    {
     "name": "stdout",
     "output_type": "stream",
     "text": [
      "              precision    recall  f1-score   support\n",
      "\n",
      " parasitized       0.96      0.95      0.96       688\n",
      "  uninfected       0.96      0.96      0.96       688\n",
      "\n",
      "    accuracy                           0.96      1376\n",
      "   macro avg       0.96      0.96      0.96      1376\n",
      "weighted avg       0.96      0.96      0.96      1376\n",
      "\n"
     ]
    }
   ],
   "source": [
    "# Predictions\n",
    "test_generator.reset()\n",
    "predIdxs = model.predict_generator(test_generator,steps=(test_generator.n // test_generator.batch_size))\n",
    "\n",
    "# for each image in the testing set we need to find the index of the\n",
    "# label with corresponding largest predicted probability\n",
    "predIdxs = np.argmax(predIdxs, axis=1)\n",
    " \n",
    "# show a nicely formatted classification report\n",
    "print(classification_report(test_generator.classes, predIdxs, target_names=test_generator.class_indices.keys()))"
   ]
  },
  {
   "cell_type": "code",
   "execution_count": 142,
   "metadata": {},
   "outputs": [
    {
     "name": "stdout",
     "output_type": "stream",
     "text": [
      "acc: 0.9557\n",
      "sensitivity: 0.9549\n",
      "specificity: 0.9564\n"
     ]
    }
   ],
   "source": [
    "# METRICS\n",
    "\n",
    "cm = confusion_matrix(test_generator.classes, predIdxs)\n",
    "total = sum(sum(cm))\n",
    "acc = (cm[0,0] + cm[1,1]) / total\n",
    "sensitivity = cm[0,0] / (cm[0,0] + cm[0,1])\n",
    "specificity = cm[1,1] / (cm[1,0] + cm[1,1])\n",
    "\n",
    "print(\"acc: {:.4f}\".format(acc))\n",
    "print(\"sensitivity: {:.4f}\".format(sensitivity))\n",
    "print(\"specificity: {:.4f}\".format(specificity))"
   ]
  },
  {
   "cell_type": "code",
   "execution_count": 143,
   "metadata": {},
   "outputs": [
    {
     "ename": "ValueError",
     "evalue": "Only one class present in y_true. ROC AUC score is not defined in that case.",
     "output_type": "error",
     "traceback": [
      "\u001b[0;31m---------------------------------------------------------------------------\u001b[0m",
      "\u001b[0;31mValueError\u001b[0m                                Traceback (most recent call last)",
      "\u001b[0;32m<ipython-input-143-7f8601e861a0>\u001b[0m in \u001b[0;36m<module>\u001b[0;34m\u001b[0m\n\u001b[1;32m      4\u001b[0m \u001b[0mval_pred\u001b[0m \u001b[0;34m=\u001b[0m \u001b[0mmodel\u001b[0m\u001b[0;34m.\u001b[0m\u001b[0mpredict_proba\u001b[0m\u001b[0;34m(\u001b[0m\u001b[0mX_val_sample\u001b[0m\u001b[0;34m)\u001b[0m\u001b[0;34m\u001b[0m\u001b[0m\n\u001b[1;32m      5\u001b[0m \u001b[0mval_pred\u001b[0m \u001b[0;34m=\u001b[0m \u001b[0mnp\u001b[0m\u001b[0;34m.\u001b[0m\u001b[0mreshape\u001b[0m\u001b[0;34m(\u001b[0m\u001b[0mval_pred\u001b[0m\u001b[0;34m,\u001b[0m \u001b[0mval_labels\u001b[0m\u001b[0;34m.\u001b[0m\u001b[0mshape\u001b[0m\u001b[0;34m)\u001b[0m\u001b[0;34m\u001b[0m\u001b[0m\n\u001b[0;32m----> 6\u001b[0;31m \u001b[0mval_score_auc\u001b[0m \u001b[0;34m=\u001b[0m \u001b[0mroc_auc_score\u001b[0m\u001b[0;34m(\u001b[0m\u001b[0mval_labels\u001b[0m\u001b[0;34m,\u001b[0m \u001b[0mval_pred\u001b[0m\u001b[0;34m)\u001b[0m\u001b[0;34m\u001b[0m\u001b[0m\n\u001b[0m\u001b[1;32m      7\u001b[0m \u001b[0mprint\u001b[0m\u001b[0;34m(\u001b[0m\u001b[0;34m\"AUC score: {}\"\u001b[0m\u001b[0;34m.\u001b[0m\u001b[0mformat\u001b[0m\u001b[0;34m(\u001b[0m\u001b[0mval_score_auc\u001b[0m\u001b[0;34m)\u001b[0m\u001b[0;34m)\u001b[0m\u001b[0;34m\u001b[0m\u001b[0m\n",
      "\u001b[0;32m~usr/local/lib/python3.5/dist-packages/sklearn/metrics/ranking.py\u001b[0m in \u001b[0;36mroc_auc_score\u001b[0;34m(y_true, y_score, average, sample_weight, max_fpr)\u001b[0m\n\u001b[1;32m    353\u001b[0m     return _average_binary_score(\n\u001b[1;32m    354\u001b[0m         \u001b[0m_binary_roc_auc_score\u001b[0m\u001b[0;34m,\u001b[0m \u001b[0my_true\u001b[0m\u001b[0;34m,\u001b[0m \u001b[0my_score\u001b[0m\u001b[0;34m,\u001b[0m \u001b[0maverage\u001b[0m\u001b[0;34m,\u001b[0m\u001b[0;34m\u001b[0m\u001b[0m\n\u001b[0;32m--> 355\u001b[0;31m         sample_weight=sample_weight)\n\u001b[0m\u001b[1;32m    356\u001b[0m \u001b[0;34m\u001b[0m\u001b[0m\n\u001b[1;32m    357\u001b[0m \u001b[0;34m\u001b[0m\u001b[0m\n",
      "\u001b[0;32m~usr/local/lib/python3.5/dist-packages/sklearn/metrics/base.py\u001b[0m in \u001b[0;36m_average_binary_score\u001b[0;34m(binary_metric, y_true, y_score, average, sample_weight)\u001b[0m\n\u001b[1;32m    117\u001b[0m         \u001b[0my_score_c\u001b[0m \u001b[0;34m=\u001b[0m \u001b[0my_score\u001b[0m\u001b[0;34m.\u001b[0m\u001b[0mtake\u001b[0m\u001b[0;34m(\u001b[0m\u001b[0;34m[\u001b[0m\u001b[0mc\u001b[0m\u001b[0;34m]\u001b[0m\u001b[0;34m,\u001b[0m \u001b[0maxis\u001b[0m\u001b[0;34m=\u001b[0m\u001b[0mnot_average_axis\u001b[0m\u001b[0;34m)\u001b[0m\u001b[0;34m.\u001b[0m\u001b[0mravel\u001b[0m\u001b[0;34m(\u001b[0m\u001b[0;34m)\u001b[0m\u001b[0;34m\u001b[0m\u001b[0m\n\u001b[1;32m    118\u001b[0m         score[c] = binary_metric(y_true_c, y_score_c,\n\u001b[0;32m--> 119\u001b[0;31m                                  sample_weight=score_weight)\n\u001b[0m\u001b[1;32m    120\u001b[0m \u001b[0;34m\u001b[0m\u001b[0m\n\u001b[1;32m    121\u001b[0m     \u001b[0;31m# Average the results\u001b[0m\u001b[0;34m\u001b[0m\u001b[0;34m\u001b[0m\u001b[0m\n",
      "\u001b[0;32m~usr/local/lib/python3.5/dist-packages/sklearn/metrics/ranking.py\u001b[0m in \u001b[0;36m_binary_roc_auc_score\u001b[0;34m(y_true, y_score, sample_weight)\u001b[0m\n\u001b[1;32m    321\u001b[0m     \u001b[0;32mdef\u001b[0m \u001b[0m_binary_roc_auc_score\u001b[0m\u001b[0;34m(\u001b[0m\u001b[0my_true\u001b[0m\u001b[0;34m,\u001b[0m \u001b[0my_score\u001b[0m\u001b[0;34m,\u001b[0m \u001b[0msample_weight\u001b[0m\u001b[0;34m=\u001b[0m\u001b[0;32mNone\u001b[0m\u001b[0;34m)\u001b[0m\u001b[0;34m:\u001b[0m\u001b[0;34m\u001b[0m\u001b[0m\n\u001b[1;32m    322\u001b[0m         \u001b[0;32mif\u001b[0m \u001b[0mlen\u001b[0m\u001b[0;34m(\u001b[0m\u001b[0mnp\u001b[0m\u001b[0;34m.\u001b[0m\u001b[0munique\u001b[0m\u001b[0;34m(\u001b[0m\u001b[0my_true\u001b[0m\u001b[0;34m)\u001b[0m\u001b[0;34m)\u001b[0m \u001b[0;34m!=\u001b[0m \u001b[0;36m2\u001b[0m\u001b[0;34m:\u001b[0m\u001b[0;34m\u001b[0m\u001b[0m\n\u001b[0;32m--> 323\u001b[0;31m             raise ValueError(\"Only one class present in y_true. ROC AUC score \"\n\u001b[0m\u001b[1;32m    324\u001b[0m                              \"is not defined in that case.\")\n\u001b[1;32m    325\u001b[0m \u001b[0;34m\u001b[0m\u001b[0m\n",
      "\u001b[0;31mValueError\u001b[0m: Only one class present in y_true. ROC AUC score is not defined in that case."
     ]
    }
   ],
   "source": [
    "# AUC metrics\n",
    "\n",
    "X_val_sample, val_labels = next(validation_generator)\n",
    "val_pred = model.predict_proba(X_val_sample)\n",
    "val_pred = np.reshape(val_pred, val_labels.shape)\n",
    "val_score_auc = roc_auc_score(val_labels, val_pred)\n",
    "print(\"AUC score: {}\".format(val_score_auc))"
   ]
  },
  {
   "cell_type": "code",
   "execution_count": 144,
   "metadata": {},
   "outputs": [
    {
     "data": {
      "text/plain": [
       "<matplotlib.legend.Legend at 0x7f40a77b37b8>"
      ]
     },
     "execution_count": 144,
     "metadata": {},
     "output_type": "execute_result"
    },
    {
     "data": {
      "image/png": "[encoded data removed]",
      "text/plain": [
       "<Figure size 432x288 with 1 Axes>"
      ]
     },
     "metadata": {},
     "output_type": "display_data"
    }
   ],
   "source": [
    "# plot the training loss and accuracy\n",
    "#N = num_epochs\n",
    "N = NUM_EPOCHS\n",
    "plt.style.use(\"ggplot\")\n",
    "plt.figure()\n",
    "plt.plot(np.arange(0, N), history.history[\"loss\"], label=\"train_loss\")\n",
    "plt.plot(np.arange(0, N), history.history[\"val_loss\"], label=\"val_loss\")\n",
    "plt.plot(np.arange(0, N), history.history[\"acc\"], label=\"train_acc\")\n",
    "plt.plot(np.arange(0, N), history.history[\"val_acc\"], label=\"val_acc\")\n",
    "plt.title(\"Training Loss and Accuracy on Dataset\")\n",
    "plt.xlabel(\"Epoch #\")\n",
    "plt.ylabel(\"Loss/Accuracy\")\n",
    "plt.legend(loc=\"lower left\")\n",
    "#plt.savefig(\"plot.png\")"
   ]
  },
  {
   "cell_type": "code",
   "execution_count": 71,
   "metadata": {},
   "outputs": [],
   "source": [
    "# Save results into a csv file\n",
    "labels = (train_generator.class_indices)\n",
    "labels = dict((v, k) for k, v in labels.items())\n",
    "\n",
    "predictions = [labels[k] for k in predicted_class_indices]\n",
    "\n",
    "filenames = test_generator.filenames\n",
    "results = pd.DataFrame({\"Filename\":filenames, \"Predictions\":predictions})\n",
    "results.to_csv(PREDICTION_FILE_PATH, index=False)"
   ]
  },
  {
   "cell_type": "code",
   "execution_count": null,
   "metadata": {},
   "outputs": [],
   "source": []
  }
 ],
 "metadata": {
  "kernelspec": {
   "display_name": "Python 3",
   "language": "python",
   "name": "python3"
  },
  "language_info": {
   "codemirror_mode": {
    "name": "ipython",
    "version": 3
   },
   "file_extension": ".py",
   "mimetype": "text/x-python",
   "name": "python",
   "nbconvert_exporter": "python",
   "pygments_lexer": "ipython3",
   "version": "3.5.2"
  }
 },
 "nbformat": 4,
 "nbformat_minor": 2
}
