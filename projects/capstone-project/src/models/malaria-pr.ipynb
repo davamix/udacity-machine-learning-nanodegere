{
 "cells": [
  {
   "cell_type": "code",
   "execution_count": 1,
   "metadata": {},
   "outputs": [],
   "source": [
    "import datetime\n",
    "import numpy as np\n",
    "import matplotlib.pyplot as plt\n",
    "import tensorflow as tf\n",
    "\n",
    "from tensorflow.keras.models import load_model\n",
    "from tensorflow.keras.models import Sequential\n",
    "from tensorflow.keras.layers import Conv2D, MaxPooling2D\n",
    "from tensorflow.keras.layers import Activation, Dropout, Flatten, Dense, GlobalAveragePooling2D\n",
    "from tensorflow.keras.layers import BatchNormalization, Reshape\n",
    "from tensorflow.keras.preprocessing.image import ImageDataGenerator, array_to_img, img_to_array, load_img\n",
    "from tensorflow.keras.optimizers import SGD\n",
    "from tensorflow.keras.callbacks import ModelCheckpoint, EarlyStopping, ReduceLROnPlateau\n",
    "from sklearn.metrics import classification_report\n",
    "from sklearn.metrics import confusion_matrix\n",
    "\n",
    "from metrics import MCC"
   ]
  },
  {
   "cell_type": "code",
   "execution_count": 2,
   "metadata": {},
   "outputs": [],
   "source": [
    "# DATA PATHS\n",
    "\n",
    "TRAIN_FOLDER_PATH = '../../data/train/'\n",
    "VAL_FODLER_PATH = '../../data/validation/'\n",
    "#TEST_FOLDER_PATH = '../../data/test/'\n",
    "TEST_FOLDER_PATH = '../../data/test_manual'\n",
    "PREVIEW_IMAGES_FOLDER = '../../data/preview/'\n",
    "\n",
    "#PREDICTION_FILE_PATH = '../../data/' + MODEL_NAME + '.csv'"
   ]
  },
  {
   "cell_type": "code",
   "execution_count": 3,
   "metadata": {},
   "outputs": [],
   "source": [
    "# Configure initial hyperparameters\n",
    "#img_width = 100\n",
    "#img_height = 100\n",
    "img_depth = 3\n",
    "\n",
    "classes = 2\n",
    "batch_size = 64\n",
    "num_epochs = 2\n",
    "loss = \"categorical_crossentropy\"\n",
    "learning_rate = 1e-1\n",
    "decay = 1e-1\n",
    "momentum = 0.9"
   ]
  },
  {
   "cell_type": "code",
   "execution_count": 4,
   "metadata": {},
   "outputs": [],
   "source": [
    "# MODEL TRAINING CONFIGURATION\n",
    "\n",
    "train_datagen = ImageDataGenerator(\n",
    "    rescale=1 / 255.0,\n",
    "    rotation_range=20,\n",
    "    zoom_range=0.05,\n",
    "    width_shift_range=0.05,\n",
    "    height_shift_range=0.05,\n",
    "    shear_range=0.05,\n",
    "    horizontal_flip=True,\n",
    "    fill_mode=\"nearest\"\n",
    ")\n",
    "\n",
    "validation_datagen = ImageDataGenerator(rescale=1./255)\n",
    "test_datagen = ImageDataGenerator(rescale=1./255)\n",
    "\n",
    "def get_train_generator(img_height, img_width):\n",
    "    train_generator = train_datagen.flow_from_directory(\n",
    "        TRAIN_FOLDER_PATH,\n",
    "        target_size = (img_height,img_width),\n",
    "        color_mode='rgb',\n",
    "        batch_size = batch_size,\n",
    "        class_mode = 'categorical',\n",
    "        shuffle = True\n",
    "    )\n",
    "    \n",
    "    return train_generator\n",
    "\n",
    "def get_validation_generator(img_height, img_width):\n",
    "    validation_generator = validation_datagen.flow_from_directory(\n",
    "        VAL_FODLER_PATH,\n",
    "        target_size = (img_height, img_width),\n",
    "        color_mode='rgb',\n",
    "        batch_size = batch_size,\n",
    "        class_mode = 'categorical',\n",
    "        shuffle = False\n",
    "    )\n",
    "    \n",
    "    return validation_generator\n",
    "\n",
    "def get_test_generator(img_height, img_width):\n",
    "    test_generator = test_datagen.flow_from_directory(\n",
    "        TEST_FOLDER_PATH,\n",
    "        target_size = (img_height, img_width),\n",
    "        color_mode='rgb',\n",
    "        batch_size = batch_size,\n",
    "        class_mode = 'categorical',\n",
    "        shuffle = False\n",
    "    )\n",
    "    \n",
    "    return test_generator"
   ]
  },
  {
   "cell_type": "code",
   "execution_count": 5,
   "metadata": {},
   "outputs": [],
   "source": [
    "# Callbacks\n",
    "def get_callbacks(model_name):    \n",
    "    mc = ModelCheckpoint('best_' + model_name + '.h5', monitor='val_MCC', mode='max', verbose=1, save_best_only=True)\n",
    "    es = EarlyStopping(monitor = 'val_MCC', patience=10, verbose=1, mode='max')\n",
    "    reduce_lr = ReduceLROnPlateau(patience=2)\n",
    "    \n",
    "    return [mc, es, reduce_lr]"
   ]
  },
  {
   "cell_type": "code",
   "execution_count": 6,
   "metadata": {},
   "outputs": [],
   "source": [
    "# Compile the model\n",
    "def compile_model(model):\n",
    "    opt = SGD(lr=learning_rate, momentum=momentum, decay=decay / num_epochs)\n",
    "\n",
    "    model.compile(loss=loss, optimizer = opt, metrics=[\"accuracy\", MCC])\n",
    "    \n",
    "    return model"
   ]
  },
  {
   "cell_type": "code",
   "execution_count": 7,
   "metadata": {},
   "outputs": [],
   "source": [
    "# Fit the model\n",
    "def fit_model(model, train_generator, validation_generator, model_name):\n",
    "    history = model.fit_generator(\n",
    "        train_generator,\n",
    "        steps_per_epoch = train_generator.n // train_generator.batch_size,\n",
    "        epochs = num_epochs,\n",
    "        validation_data = validation_generator,\n",
    "        validation_steps = validation_generator.n // validation_generator.batch_size,\n",
    "        use_multiprocessing = False,\n",
    "        workers=1,\n",
    "        callbacks = get_callbacks(model_name)\n",
    "    )\n",
    "    \n",
    "    return history, model"
   ]
  },
  {
   "cell_type": "code",
   "execution_count": 8,
   "metadata": {},
   "outputs": [],
   "source": [
    "# Save model\n",
    "def save_model(model, model_name):\n",
    "    model.save(model_name + '.h5')"
   ]
  },
  {
   "cell_type": "code",
   "execution_count": 9,
   "metadata": {},
   "outputs": [],
   "source": [
    "# Evaluate the model\n",
    "def evaluate_model(model, validation_generator):\n",
    "    return model.evaluate_generator(validation_generator, steps = validation_generator.n // validation_generator.batch_size)"
   ]
  },
  {
   "cell_type": "code",
   "execution_count": 10,
   "metadata": {},
   "outputs": [],
   "source": [
    "# Predictions\n",
    "def get_predictions(model, test_generator):\n",
    "    test_generator.reset()\n",
    "\n",
    "    predIdxs = model.predict_generator(test_generator,steps=(test_generator.n // test_generator.batch_size) + 1)\n",
    "\n",
    "    # for each image in the testing set we need to find the index of the\n",
    "    # label with corresponding largest predicted probability\n",
    "    predIdxs = np.argmax(predIdxs, axis=1)\n",
    "    \n",
    "    return predIdxs"
   ]
  },
  {
   "cell_type": "code",
   "execution_count": 11,
   "metadata": {},
   "outputs": [],
   "source": [
    "# Plot accuracy and loss values\n",
    "def plot_metrics(history):\n",
    "    plt.figure(figsize=(15,10))\n",
    "    plt.subplot(2,2,1)\n",
    "    plt.plot(history.history['accuracy'])\n",
    "    plt.plot(history.history['val_accuracy'])\n",
    "    plt.title('model accuracy')\n",
    "    plt.ylabel('accuracy')\n",
    "    plt.xlabel('epoch')\n",
    "    plt.legend(['train', 'test'], loc='lower right')\n",
    "\n",
    "    # summarize history for loss\n",
    "    plt.subplot(2,2,2)\n",
    "    plt.plot(history.history['loss'])\n",
    "    plt.plot(history.history['val_loss'])\n",
    "    plt.title('model loss')\n",
    "    plt.ylabel('loss')\n",
    "    plt.xlabel('epoch')\n",
    "    plt.legend(['train', 'test'], loc='upper right')\n",
    "\n",
    "    # Plot MCC values\n",
    "    plt.subplot(2,2,3)\n",
    "    plt.plot(history.history['MCC'])\n",
    "    plt.plot(history.history['val_MCC'])\n",
    "    plt.title('model MCC')\n",
    "    plt.ylabel('MCC')\n",
    "    plt.xlabel('epoch')\n",
    "    plt.legend(['train', 'test'], loc='lower right')\n",
    "    plt.show()"
   ]
  },
  {
   "cell_type": "code",
   "execution_count": 12,
   "metadata": {},
   "outputs": [],
   "source": [
    "# Show evaluation metrics\n",
    "def show_eval_metrics(model, metrics):\n",
    "    for idx, m in enumerate(model.metrics_names):\n",
    "        print(\"{}: {:.4f}\".format(m, metrics[idx]))"
   ]
  },
  {
   "cell_type": "code",
   "execution_count": 13,
   "metadata": {},
   "outputs": [],
   "source": [
    "# Show test metrics\n",
    "def show_test_metrics(predictions, test_generator):\n",
    "    print(classification_report(test_generator.classes, predictions, target_names=test_generator.class_indices.keys()))\n",
    "\n",
    "    cm = confusion_matrix(test_generator.classes, predictions)\n",
    "    total = sum(sum(cm))\n",
    "    acc = (cm[0,0] + cm[1,1]) / total\n",
    "    sensitivity = cm[0,0] / (cm[0,0] + cm[0,1])\n",
    "    specificity = cm[1,1] / (cm[1,0] + cm[1,1])\n",
    "\n",
    "    print(\"acc: {:.4f}\".format(acc))\n",
    "    print(\"sensitivity: {:.4f}\".format(sensitivity))\n",
    "    print(\"specificity: {:.4f}\".format(specificity))"
   ]
  },
  {
   "cell_type": "markdown",
   "metadata": {},
   "source": [
    "### Create the first model for images of 65x65"
   ]
  },
  {
   "cell_type": "code",
   "execution_count": 14,
   "metadata": {},
   "outputs": [
    {
     "name": "stdout",
     "output_type": "stream",
     "text": [
      "Model: \"sequential\"\n",
      "_________________________________________________________________\n",
      "Layer (type)                 Output Shape              Param #   \n",
      "=================================================================\n",
      "conv2d (Conv2D)              (None, 65, 65, 32)        896       \n",
      "_________________________________________________________________\n",
      "activation (Activation)      (None, 65, 65, 32)        0         \n",
      "_________________________________________________________________\n",
      "max_pooling2d (MaxPooling2D) (None, 32, 32, 32)        0         \n",
      "_________________________________________________________________\n",
      "dropout (Dropout)            (None, 32, 32, 32)        0         \n",
      "_________________________________________________________________\n",
      "batch_normalization (BatchNo (None, 32, 32, 32)        128       \n",
      "_________________________________________________________________\n",
      "conv2d_1 (Conv2D)            (None, 32, 32, 64)        18496     \n",
      "_________________________________________________________________\n",
      "activation_1 (Activation)    (None, 32, 32, 64)        0         \n",
      "_________________________________________________________________\n",
      "conv2d_2 (Conv2D)            (None, 32, 32, 64)        36928     \n",
      "_________________________________________________________________\n",
      "activation_2 (Activation)    (None, 32, 32, 64)        0         \n",
      "_________________________________________________________________\n",
      "max_pooling2d_1 (MaxPooling2 (None, 16, 16, 64)        0         \n",
      "_________________________________________________________________\n",
      "dropout_1 (Dropout)          (None, 16, 16, 64)        0         \n",
      "_________________________________________________________________\n",
      "batch_normalization_1 (Batch (None, 16, 16, 64)        256       \n",
      "_________________________________________________________________\n",
      "conv2d_3 (Conv2D)            (None, 16, 16, 128)       73856     \n",
      "_________________________________________________________________\n",
      "activation_3 (Activation)    (None, 16, 16, 128)       0         \n",
      "_________________________________________________________________\n",
      "conv2d_4 (Conv2D)            (None, 16, 16, 128)       147584    \n",
      "_________________________________________________________________\n",
      "activation_4 (Activation)    (None, 16, 16, 128)       0         \n",
      "_________________________________________________________________\n",
      "conv2d_5 (Conv2D)            (None, 16, 16, 128)       147584    \n",
      "_________________________________________________________________\n",
      "activation_5 (Activation)    (None, 16, 16, 128)       0         \n",
      "_________________________________________________________________\n",
      "global_average_pooling2d (Gl (None, 128)               0         \n",
      "_________________________________________________________________\n",
      "dense (Dense)                (None, 2)                 258       \n",
      "_________________________________________________________________\n",
      "activation_6 (Activation)    (None, 2)                 0         \n",
      "=================================================================\n",
      "Total params: 425,986\n",
      "Trainable params: 425,794\n",
      "Non-trainable params: 192\n",
      "_________________________________________________________________\n"
     ]
    }
   ],
   "source": [
    "# Model architecture for the first size\n",
    "\n",
    "MODEL_1_NAME = \"model_65\"\n",
    "\n",
    "img_width = 65\n",
    "img_height = 65\n",
    "\n",
    "model_1 = Sequential()\n",
    "\n",
    "model_1.add(Conv2D(32, (3,3), padding=\"same\", input_shape=(img_width, img_height, img_depth)))\n",
    "model_1.add(Activation(\"relu\"))\n",
    "model_1.add(MaxPooling2D(pool_size=(2,2)))\n",
    "model_1.add(Dropout(0.25))\n",
    "model_1.add(BatchNormalization())\n",
    "\n",
    "model_1.add(Conv2D(64, (3, 3), padding=\"same\"))\n",
    "model_1.add(Activation(\"relu\"))\n",
    "model_1.add(Conv2D(64, (3, 3), padding=\"same\"))\n",
    "model_1.add(Activation(\"relu\"))\n",
    "\n",
    "model_1.add(MaxPooling2D(pool_size=(2, 2)))\n",
    "model_1.add(Dropout(0.25))\n",
    "model_1.add(BatchNormalization())\n",
    "\n",
    "model_1.add(Conv2D(128, (3, 3), padding=\"same\"))\n",
    "model_1.add(Activation(\"relu\"))\n",
    "model_1.add(Conv2D(128, (3, 3), padding=\"same\"))\n",
    "model_1.add(Activation(\"relu\"))\n",
    "model_1.add(Conv2D(128, (3, 3), padding=\"same\"))\n",
    "model_1.add(Activation(\"relu\"))\n",
    "\n",
    "model_1.add(GlobalAveragePooling2D())\n",
    "model_1.add(Dense(classes))\n",
    "model_1.add(Activation(\"softmax\"))\n",
    "\n",
    "model_1.summary()"
   ]
  },
  {
   "cell_type": "code",
   "execution_count": 15,
   "metadata": {},
   "outputs": [],
   "source": [
    "# Compile\n",
    "model_1 = compile_model(model_1)"
   ]
  },
  {
   "cell_type": "code",
   "execution_count": 16,
   "metadata": {},
   "outputs": [
    {
     "name": "stdout",
     "output_type": "stream",
     "text": [
      "Found 20668 images belonging to 2 classes.\n",
      "Found 5510 images belonging to 2 classes.\n",
      "Found 1376 images belonging to 2 classes.\n"
     ]
    }
   ],
   "source": [
    "#Create the generators\n",
    "train_generator = get_train_generator(img_height, img_width)\n",
    "validation_generator = get_validation_generator(img_height, img_width)\n",
    "test_generator = get_test_generator(img_height, img_width)"
   ]
  },
  {
   "cell_type": "code",
   "execution_count": 17,
   "metadata": {},
   "outputs": [
    {
     "name": "stdout",
     "output_type": "stream",
     "text": [
      "Epoch 1/2\n"
     ]
    },
    {
     "name": "stderr",
     "output_type": "stream",
     "text": [
      "WARNING: Logging before flag parsing goes to stderr.\n",
      "W0619 00:24:19.306297 140582017648448 deprecation.py:323] From /usr/local/lib/python3.6/dist-packages/tensorflow/python/ops/math_grad.py:1250: add_dispatch_support.<locals>.wrapper (from tensorflow.python.ops.array_ops) is deprecated and will be removed in a future version.\n",
      "Instructions for updating:\n",
      "Use tf.where in 2.0, which has the same broadcast rule as np.where\n"
     ]
    },
    {
     "name": "stdout",
     "output_type": "stream",
     "text": [
      "321/322 [============================>.] - ETA: 0s - loss: 0.5457 - accuracy: 0.7365 - MCC: 0.4731\n",
      "Epoch 00001: val_MCC improved from -inf to 0.83212, saving model to best_model_65.h5\n",
      "322/322 [==============================] - 35s 107ms/step - loss: 0.5443 - accuracy: 0.7372 - MCC: 0.4745 - val_loss: 0.4141 - val_accuracy: 0.9161 - val_MCC: 0.8321\n",
      "Epoch 2/2\n",
      "321/322 [============================>.] - ETA: 0s - loss: 0.3896 - accuracy: 0.8658 - MCC: 0.7316\n",
      "Epoch 00002: val_MCC did not improve from 0.83212\n",
      "322/322 [==============================] - 32s 101ms/step - loss: 0.3899 - accuracy: 0.8659 - MCC: 0.7317 - val_loss: 0.3104 - val_accuracy: 0.9068 - val_MCC: 0.8136\n"
     ]
    }
   ],
   "source": [
    "# Train\n",
    "history, model_1 = fit_model(model_1, train_generator, validation_generator, MODEL_1_NAME)"
   ]
  },
  {
   "cell_type": "code",
   "execution_count": 18,
   "metadata": {},
   "outputs": [],
   "source": [
    "# Save model\n",
    "save_model(model_1, MODEL_1_NAME)"
   ]
  },
  {
   "cell_type": "code",
   "execution_count": 19,
   "metadata": {},
   "outputs": [
    {
     "name": "stdout",
     "output_type": "stream",
     "text": [
      "loss: 0.3104\n",
      "accuracy: 0.9068\n",
      "MCC: 0.8136\n"
     ]
    }
   ],
   "source": [
    "# Evaluate\n",
    "metrics = evaluate_model(model_1, validation_generator)\n",
    "show_eval_metrics(model_1, metrics)"
   ]
  },
  {
   "cell_type": "code",
   "execution_count": 20,
   "metadata": {},
   "outputs": [
    {
     "data": {
      "image/png": "[encoded data removed]",
      "text/plain": [
       "<Figure size 1080x720 with 3 Axes>"
      ]
     },
     "metadata": {
      "needs_background": "light"
     },
     "output_type": "display_data"
    }
   ],
   "source": [
    "# Plot metrics from history\n",
    "plot_metrics(history)"
   ]
  },
  {
   "cell_type": "code",
   "execution_count": 21,
   "metadata": {},
   "outputs": [],
   "source": [
    "# Predict\n",
    "predictions = get_predictions(model_1, test_generator)"
   ]
  },
  {
   "cell_type": "code",
   "execution_count": 22,
   "metadata": {},
   "outputs": [
    {
     "name": "stdout",
     "output_type": "stream",
     "text": [
      "              precision    recall  f1-score   support\n",
      "\n",
      " parasitized       0.98      0.82      0.89       688\n",
      "  uninfected       0.84      0.99      0.91       688\n",
      "\n",
      "    accuracy                           0.90      1376\n",
      "   macro avg       0.91      0.90      0.90      1376\n",
      "weighted avg       0.91      0.90      0.90      1376\n",
      "\n",
      "acc: 0.9019\n",
      "sensitivity: 0.8183\n",
      "specificity: 0.9855\n"
     ]
    }
   ],
   "source": [
    "# Show final metrics\n",
    "show_test_metrics(predictions, test_generator)"
   ]
  },
  {
   "cell_type": "markdown",
   "metadata": {},
   "source": [
    "### Create next model with a size of images of 130x130"
   ]
  },
  {
   "cell_type": "code",
   "execution_count": 23,
   "metadata": {},
   "outputs": [
    {
     "name": "stdout",
     "output_type": "stream",
     "text": [
      "Model: \"sequential_1\"\n",
      "_________________________________________________________________\n",
      "Layer (type)                 Output Shape              Param #   \n",
      "=================================================================\n",
      "conv2d_6 (Conv2D)            (None, 130, 130, 32)      896       \n",
      "_________________________________________________________________\n",
      "activation_7 (Activation)    (None, 130, 130, 32)      0         \n",
      "_________________________________________________________________\n",
      "max_pooling2d_2 (MaxPooling2 (None, 65, 65, 32)        0         \n",
      "_________________________________________________________________\n",
      "dropout_2 (Dropout)          (None, 65, 65, 32)        0         \n",
      "_________________________________________________________________\n",
      "batch_normalization_2 (Batch (None, 65, 65, 32)        128       \n",
      "_________________________________________________________________\n",
      "dropout (Dropout)            multiple                  0         \n",
      "_________________________________________________________________\n",
      "batch_normalization (BatchNo multiple                  128       \n",
      "_________________________________________________________________\n",
      "conv2d_1 (Conv2D)            multiple                  18496     \n",
      "_________________________________________________________________\n",
      "activation_1 (Activation)    multiple                  0         \n",
      "_________________________________________________________________\n",
      "conv2d_2 (Conv2D)            multiple                  36928     \n",
      "_________________________________________________________________\n",
      "activation_2 (Activation)    multiple                  0         \n",
      "_________________________________________________________________\n",
      "max_pooling2d_1 (MaxPooling2 multiple                  0         \n",
      "_________________________________________________________________\n",
      "dropout_1 (Dropout)          multiple                  0         \n",
      "_________________________________________________________________\n",
      "batch_normalization_1 (Batch multiple                  256       \n",
      "_________________________________________________________________\n",
      "conv2d_3 (Conv2D)            multiple                  73856     \n",
      "_________________________________________________________________\n",
      "activation_3 (Activation)    multiple                  0         \n",
      "_________________________________________________________________\n",
      "conv2d_4 (Conv2D)            multiple                  147584    \n",
      "_________________________________________________________________\n",
      "activation_4 (Activation)    multiple                  0         \n",
      "_________________________________________________________________\n",
      "conv2d_5 (Conv2D)            multiple                  147584    \n",
      "_________________________________________________________________\n",
      "activation_5 (Activation)    multiple                  0         \n",
      "_________________________________________________________________\n",
      "global_average_pooling2d (Gl (None, 128)               0         \n",
      "_________________________________________________________________\n",
      "dense (Dense)                (None, 2)                 258       \n",
      "_________________________________________________________________\n",
      "activation_6 (Activation)    (None, 2)                 0         \n",
      "=================================================================\n",
      "Total params: 426,114\n",
      "Trainable params: 960\n",
      "Non-trainable params: 425,154\n",
      "_________________________________________________________________\n"
     ]
    }
   ],
   "source": [
    "# Configure the new size for the images\n",
    "MODEL_2_NAME = \"model_2\"\n",
    "\n",
    "img_height = 130\n",
    "img_width = 130\n",
    "\n",
    "# Create the new model.\n",
    "# Add an input layer for the new size, then apply MaxPooling to downsample to the size of the previous model\n",
    "model_2 = Sequential()\n",
    "model_2.add(Conv2D(32, (3,3), padding=\"same\", input_shape=(img_width, img_height, img_depth)))\n",
    "model_2.add(Activation(\"relu\"))\n",
    "model_2.add(MaxPooling2D(pool_size=(2,2)))\n",
    "model_2.add(Dropout(0.25))\n",
    "model_2.add(BatchNormalization())\n",
    "\n",
    "# Load the pretrained model\n",
    "prior = load_model(MODEL_1_NAME + '.h5', custom_objects={'MCC': MCC})\n",
    "\n",
    "#for i, layer in enumerate(model_130.layers):\n",
    "#    print(i, layer.name, layer.input_shape, layer.output_shape)\n",
    "\n",
    "#for i, layer in enumerate(prior.layers[3:]):\n",
    "#    print(i, layer.name, layer.input_shape, layer.output_shape)\n",
    "\n",
    "# Stack the new model over the old one, removing the original input layers\n",
    "for layer in prior.layers[3:]:\n",
    "    layer.trainable = False\n",
    "    model_2.add(layer)\n",
    "\n",
    "#for layer in prior.layers[-3:]:\n",
    "    #print(layer.name, layer.trainable)\n",
    "#    layer.trainable = True\n",
    "#    model_130.add(layer)\n",
    "    \n",
    "#for layer in model_130.layers:\n",
    "#    print(layer.name, layer.input_shape, layer.output_shape, layer.trainable)\n",
    "\n",
    "model_2.summary()"
   ]
  },
  {
   "cell_type": "code",
   "execution_count": 24,
   "metadata": {},
   "outputs": [],
   "source": [
    "# Compile\n",
    "model_2 = compile_model(model_2)"
   ]
  },
  {
   "cell_type": "code",
   "execution_count": 25,
   "metadata": {},
   "outputs": [
    {
     "name": "stdout",
     "output_type": "stream",
     "text": [
      "Found 20668 images belonging to 2 classes.\n",
      "Found 5510 images belonging to 2 classes.\n",
      "Found 1376 images belonging to 2 classes.\n"
     ]
    }
   ],
   "source": [
    "#Create the generators\n",
    "train_generator = get_train_generator(img_height, img_width)\n",
    "validation_generator = get_validation_generator(img_height, img_width)\n",
    "test_generator = get_test_generator(img_height, img_width)"
   ]
  },
  {
   "cell_type": "code",
   "execution_count": 26,
   "metadata": {},
   "outputs": [
    {
     "name": "stdout",
     "output_type": "stream",
     "text": [
      "Epoch 1/2\n",
      "321/322 [============================>.] - ETA: 0s - loss: 1.1887 - accuracy: 0.7299 - MCC: 0.4598\n",
      "Epoch 00001: val_MCC improved from -inf to 0.30741, saving model to best_model_2.h5\n",
      "322/322 [==============================] - 68s 210ms/step - loss: 1.1863 - accuracy: 0.7301 - MCC: 0.4604 - val_loss: 4.7202 - val_accuracy: 0.6537 - val_MCC: 0.3074\n",
      "Epoch 2/2\n",
      "321/322 [============================>.] - ETA: 0s - loss: 0.4516 - accuracy: 0.8190 - MCC: 0.6379\n",
      "Epoch 00002: val_MCC improved from 0.30741 to 0.37391, saving model to best_model_2.h5\n",
      "322/322 [==============================] - 66s 205ms/step - loss: 0.4523 - accuracy: 0.8189 - MCC: 0.6377 - val_loss: 4.4395 - val_accuracy: 0.6870 - val_MCC: 0.3739\n"
     ]
    }
   ],
   "source": [
    "# Train\n",
    "history, model_2 = fit_model(model_2, train_generator, validation_generator, MODEL_2_NAME)"
   ]
  },
  {
   "cell_type": "code",
   "execution_count": 27,
   "metadata": {},
   "outputs": [],
   "source": [
    "# Save model\n",
    "save_model(model_2, MODEL_2_NAME)"
   ]
  },
  {
   "cell_type": "code",
   "execution_count": 28,
   "metadata": {},
   "outputs": [
    {
     "name": "stdout",
     "output_type": "stream",
     "text": [
      "loss: 4.4395\n",
      "accuracy: 0.6870\n",
      "MCC: 0.3739\n"
     ]
    }
   ],
   "source": [
    "# Evaluate\n",
    "metrics = evaluate_model(model_2, validation_generator)\n",
    "show_eval_metrics(model_2, metrics)"
   ]
  },
  {
   "cell_type": "code",
   "execution_count": 29,
   "metadata": {},
   "outputs": [
    {
     "data": {
      "image/png": "[encoded data removed]",
      "text/plain": [
       "<Figure size 1080x720 with 3 Axes>"
      ]
     },
     "metadata": {
      "needs_background": "light"
     },
     "output_type": "display_data"
    }
   ],
   "source": [
    "# Plot metrics from history\n",
    "plot_metrics(history)"
   ]
  },
  {
   "cell_type": "code",
   "execution_count": 30,
   "metadata": {},
   "outputs": [],
   "source": [
    "# Predict\n",
    "predictions = get_predictions(model_2, test_generator)"
   ]
  },
  {
   "cell_type": "code",
   "execution_count": 31,
   "metadata": {},
   "outputs": [
    {
     "name": "stdout",
     "output_type": "stream",
     "text": [
      "              precision    recall  f1-score   support\n",
      "\n",
      " parasitized       0.62      0.95      0.75       688\n",
      "  uninfected       0.90      0.42      0.58       688\n",
      "\n",
      "    accuracy                           0.69      1376\n",
      "   macro avg       0.76      0.69      0.66      1376\n",
      "weighted avg       0.76      0.69      0.66      1376\n",
      "\n",
      "acc: 0.6875\n",
      "sensitivity: 0.9506\n",
      "specificity: 0.4244\n"
     ]
    }
   ],
   "source": [
    "# Show final metrics\n",
    "show_test_metrics(predictions, test_generator)"
   ]
  },
  {
   "cell_type": "markdown",
   "metadata": {},
   "source": [
    "### Create next model with a size of images of 260x260"
   ]
  },
  {
   "cell_type": "code",
   "execution_count": 32,
   "metadata": {},
   "outputs": [
    {
     "name": "stdout",
     "output_type": "stream",
     "text": [
      "Model: \"sequential_2\"\n",
      "_________________________________________________________________\n",
      "Layer (type)                 Output Shape              Param #   \n",
      "=================================================================\n",
      "conv2d_7 (Conv2D)            (None, 260, 260, 32)      896       \n",
      "_________________________________________________________________\n",
      "activation_8 (Activation)    (None, 260, 260, 32)      0         \n",
      "_________________________________________________________________\n",
      "max_pooling2d_3 (MaxPooling2 (None, 130, 130, 32)      0         \n",
      "_________________________________________________________________\n",
      "dropout_3 (Dropout)          (None, 130, 130, 32)      0         \n",
      "_________________________________________________________________\n",
      "batch_normalization_3 (Batch (None, 130, 130, 32)      128       \n",
      "_________________________________________________________________\n",
      "dropout_2 (Dropout)          multiple                  0         \n",
      "_________________________________________________________________\n",
      "batch_normalization_2 (Batch multiple                  128       \n",
      "_________________________________________________________________\n",
      "dropout (Dropout)            multiple                  0         \n",
      "_________________________________________________________________\n",
      "batch_normalization (BatchNo multiple                  128       \n",
      "_________________________________________________________________\n",
      "conv2d_1 (Conv2D)            multiple                  18496     \n",
      "_________________________________________________________________\n",
      "activation_1 (Activation)    multiple                  0         \n",
      "_________________________________________________________________\n",
      "conv2d_2 (Conv2D)            multiple                  36928     \n",
      "_________________________________________________________________\n",
      "activation_2 (Activation)    multiple                  0         \n",
      "_________________________________________________________________\n",
      "max_pooling2d_1 (MaxPooling2 multiple                  0         \n",
      "_________________________________________________________________\n",
      "dropout_1 (Dropout)          multiple                  0         \n",
      "_________________________________________________________________\n",
      "batch_normalization_1 (Batch multiple                  256       \n",
      "_________________________________________________________________\n",
      "conv2d_3 (Conv2D)            multiple                  73856     \n",
      "_________________________________________________________________\n",
      "activation_3 (Activation)    multiple                  0         \n",
      "_________________________________________________________________\n",
      "conv2d_4 (Conv2D)            multiple                  147584    \n",
      "_________________________________________________________________\n",
      "activation_4 (Activation)    multiple                  0         \n",
      "_________________________________________________________________\n",
      "conv2d_5 (Conv2D)            multiple                  147584    \n",
      "_________________________________________________________________\n",
      "activation_5 (Activation)    multiple                  0         \n",
      "_________________________________________________________________\n",
      "global_average_pooling2d (Gl (None, 128)               0         \n",
      "_________________________________________________________________\n",
      "dense (Dense)                (None, 2)                 258       \n",
      "_________________________________________________________________\n",
      "activation_6 (Activation)    (None, 2)                 0         \n",
      "=================================================================\n",
      "Total params: 426,242\n",
      "Trainable params: 960\n",
      "Non-trainable params: 425,282\n",
      "_________________________________________________________________\n"
     ]
    }
   ],
   "source": [
    "# Create a new model for the next size and train\n",
    "MODEL_3_NAME = \"model_3\"\n",
    "\n",
    "img_height = 260\n",
    "img_width = 260\n",
    "\n",
    "model_3 = Sequential()\n",
    "model_3.add(Conv2D(32, (3,3), padding=\"same\", input_shape=(img_width, img_height, img_depth)))\n",
    "model_3.add(Activation(\"relu\"))\n",
    "model_3.add(MaxPooling2D(pool_size=(2,2)))\n",
    "model_3.add(Dropout(0.25))\n",
    "model_3.add(BatchNormalization())\n",
    "\n",
    "# Load the pretrained model\n",
    "prior = load_model(MODEL_2_NAME + '.h5', custom_objects={'MCC': MCC})\n",
    "\n",
    "# Stack the new model over the old one, removing the original input layers\n",
    "for layer in prior.layers[3:]:\n",
    "    layer.trainable = False\n",
    "    model_3.add(layer)\n",
    "\n",
    "model_3.summary()"
   ]
  },
  {
   "cell_type": "code",
   "execution_count": 33,
   "metadata": {},
   "outputs": [],
   "source": [
    "# Compile\n",
    "model_3 = compile_model(model_3)"
   ]
  },
  {
   "cell_type": "code",
   "execution_count": 34,
   "metadata": {},
   "outputs": [
    {
     "name": "stdout",
     "output_type": "stream",
     "text": [
      "Found 20668 images belonging to 2 classes.\n",
      "Found 5510 images belonging to 2 classes.\n",
      "Found 1376 images belonging to 2 classes.\n"
     ]
    }
   ],
   "source": [
    "#Create the generators\n",
    "train_generator = get_train_generator(img_height, img_width)\n",
    "validation_generator = get_validation_generator(img_height, img_width)\n",
    "test_generator = get_test_generator(img_height, img_width)"
   ]
  },
  {
   "cell_type": "code",
   "execution_count": 35,
   "metadata": {},
   "outputs": [
    {
     "name": "stdout",
     "output_type": "stream",
     "text": [
      "Epoch 1/2\n",
      "321/322 [============================>.] - ETA: 0s - loss: 1.6142 - accuracy: 0.7239 - MCC: 0.4478\n",
      "Epoch 00001: val_MCC improved from -inf to 0.00109, saving model to best_model_3.h5\n",
      "322/322 [==============================] - 219s 679ms/step - loss: 1.6117 - accuracy: 0.7243 - MCC: 0.4487 - val_loss: 8.0503 - val_accuracy: 0.5005 - val_MCC: 0.0011\n",
      "Epoch 2/2\n",
      "321/322 [============================>.] - ETA: 0s - loss: 0.9370 - accuracy: 0.8292 - MCC: 0.6584\n",
      "Epoch 00002: val_MCC did not improve from 0.00109\n",
      "322/322 [==============================] - 220s 683ms/step - loss: 0.9366 - accuracy: 0.8291 - MCC: 0.6581 - val_loss: 8.0503 - val_accuracy: 0.5005 - val_MCC: 0.0011\n"
     ]
    }
   ],
   "source": [
    "# Train\n",
    "history, model_3 = fit_model(model_3, train_generator, validation_generator, MODEL_3_NAME)"
   ]
  },
  {
   "cell_type": "code",
   "execution_count": 36,
   "metadata": {},
   "outputs": [],
   "source": [
    "# Save model\n",
    "save_model(model_3, MODEL_3_NAME)"
   ]
  },
  {
   "cell_type": "code",
   "execution_count": 37,
   "metadata": {},
   "outputs": [
    {
     "name": "stdout",
     "output_type": "stream",
     "text": [
      "loss: 8.0503\n",
      "accuracy: 0.5005\n",
      "MCC: 0.0011\n"
     ]
    }
   ],
   "source": [
    "# Evaluate\n",
    "metrics = evaluate_model(model_3, validation_generator)\n",
    "show_eval_metrics(model_3, metrics)"
   ]
  },
  {
   "cell_type": "code",
   "execution_count": 38,
   "metadata": {},
   "outputs": [
    {
     "data": {
      "image/png": "[encoded data removed]",
      "text/plain": [
       "<Figure size 1080x720 with 3 Axes>"
      ]
     },
     "metadata": {
      "needs_background": "light"
     },
     "output_type": "display_data"
    }
   ],
   "source": [
    "# Plot metrics from history\n",
    "plot_metrics(history)"
   ]
  },
  {
   "cell_type": "code",
   "execution_count": 39,
   "metadata": {},
   "outputs": [],
   "source": [
    "# Predict\n",
    "predictions = get_predictions(model_3, test_generator)"
   ]
  },
  {
   "cell_type": "code",
   "execution_count": 40,
   "metadata": {},
   "outputs": [
    {
     "name": "stdout",
     "output_type": "stream",
     "text": [
      "              precision    recall  f1-score   support\n",
      "\n",
      " parasitized       0.50      1.00      0.67       688\n",
      "  uninfected       0.00      0.00      0.00       688\n",
      "\n",
      "    accuracy                           0.50      1376\n",
      "   macro avg       0.25      0.50      0.33      1376\n",
      "weighted avg       0.25      0.50      0.33      1376\n",
      "\n",
      "acc: 0.5000\n",
      "sensitivity: 1.0000\n",
      "specificity: 0.0000\n"
     ]
    },
    {
     "name": "stderr",
     "output_type": "stream",
     "text": [
      "/usr/local/lib/python3.6/dist-packages/sklearn/metrics/classification.py:1437: UndefinedMetricWarning: Precision and F-score are ill-defined and being set to 0.0 in labels with no predicted samples.\n",
      "  'precision', 'predicted', average, warn_for)\n"
     ]
    }
   ],
   "source": [
    "# Show final metrics\n",
    "show_test_metrics(predictions, test_generator)"
   ]
  }
 ],
 "metadata": {
  "kernelspec": {
   "display_name": "Python 3",
   "language": "python",
   "name": "python3"
  },
  "language_info": {
   "codemirror_mode": {
    "name": "ipython",
    "version": 3
   },
   "file_extension": ".py",
   "mimetype": "text/x-python",
   "name": "python",
   "nbconvert_exporter": "python",
   "pygments_lexer": "ipython3",
   "version": "3.6.7"
  }
 },
 "nbformat": 4,
 "nbformat_minor": 2
}
