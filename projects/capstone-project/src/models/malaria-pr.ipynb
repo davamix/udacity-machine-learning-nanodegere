{
 "cells": [
  {
   "cell_type": "code",
   "execution_count": 1,
   "metadata": {},
   "outputs": [],
   "source": [
    "import datetime\n",
    "import numpy as np\n",
    "import matplotlib.pyplot as plt\n",
    "import tensorflow as tf\n",
    "\n",
    "from tensorflow.keras.models import load_model\n",
    "from tensorflow.keras.models import Sequential\n",
    "from tensorflow.keras.layers import Conv2D, MaxPooling2D\n",
    "from tensorflow.keras.layers import Activation, Dropout, Flatten, Dense, GlobalAveragePooling2D\n",
    "from tensorflow.keras.layers import BatchNormalization, Reshape\n",
    "from tensorflow.keras.preprocessing.image import ImageDataGenerator, array_to_img, img_to_array, load_img\n",
    "from tensorflow.keras.optimizers import SGD\n",
    "from tensorflow.keras.callbacks import ModelCheckpoint, EarlyStopping, ReduceLROnPlateau\n",
    "from sklearn.metrics import classification_report\n",
    "from sklearn.metrics import confusion_matrix\n",
    "\n",
    "from metrics import MCC"
   ]
  },
  {
   "cell_type": "code",
   "execution_count": 2,
   "metadata": {},
   "outputs": [],
   "source": [
    "# DATA PATHS\n",
    "\n",
    "TRAIN_FOLDER_PATH = '../../data/train/'\n",
    "VAL_FODLER_PATH = '../../data/validation/'\n",
    "#TEST_FOLDER_PATH = '../../data/test/'\n",
    "TEST_FOLDER_PATH = '../../data/test_manual'\n",
    "PREVIEW_IMAGES_FOLDER = '../../data/preview/'\n",
    "\n",
    "#PREDICTION_FILE_PATH = '../../data/' + MODEL_NAME + '.csv'"
   ]
  },
  {
   "cell_type": "code",
   "execution_count": 3,
   "metadata": {},
   "outputs": [],
   "source": [
    "# Configure initial hyperparameters\n",
    "#img_width = 100\n",
    "#img_height = 100\n",
    "img_depth = 3\n",
    "\n",
    "classes = 2\n",
    "batch_size = 64\n",
    "num_epochs = 20\n",
    "loss = \"categorical_crossentropy\"\n",
    "learning_rate = 1e-1\n",
    "decay = 1e-1\n",
    "momentum = 0.9"
   ]
  },
  {
   "cell_type": "code",
   "execution_count": 4,
   "metadata": {},
   "outputs": [],
   "source": [
    "# MODEL TRAINING CONFIGURATION\n",
    "\n",
    "train_datagen = ImageDataGenerator(\n",
    "    rescale=1 / 255.0,\n",
    "    rotation_range=20,\n",
    "    zoom_range=0.05,\n",
    "    width_shift_range=0.05,\n",
    "    height_shift_range=0.05,\n",
    "    shear_range=0.05,\n",
    "    horizontal_flip=True,\n",
    "    fill_mode=\"nearest\"\n",
    ")\n",
    "\n",
    "validation_datagen = ImageDataGenerator(rescale=1./255)\n",
    "test_datagen = ImageDataGenerator(rescale=1./255)\n",
    "\n",
    "def get_train_generator(img_height, img_width):\n",
    "    train_generator = train_datagen.flow_from_directory(\n",
    "        TRAIN_FOLDER_PATH,\n",
    "        target_size = (img_height,img_width),\n",
    "        color_mode='rgb',\n",
    "        batch_size = batch_size,\n",
    "        class_mode = 'categorical',\n",
    "        shuffle = True\n",
    "    )\n",
    "    \n",
    "    return train_generator\n",
    "\n",
    "def get_validation_generator(img_height, img_width):\n",
    "    validation_generator = validation_datagen.flow_from_directory(\n",
    "        VAL_FODLER_PATH,\n",
    "        target_size = (img_height, img_width),\n",
    "        color_mode='rgb',\n",
    "        batch_size = batch_size,\n",
    "        class_mode = 'categorical',\n",
    "        shuffle = False\n",
    "    )\n",
    "    \n",
    "    return validation_generator\n",
    "\n",
    "def get_test_generator(img_height, img_width):\n",
    "    test_generator = test_datagen.flow_from_directory(\n",
    "        TEST_FOLDER_PATH,\n",
    "        target_size = (img_height, img_width),\n",
    "        color_mode='rgb',\n",
    "        batch_size = batch_size,\n",
    "        class_mode = 'categorical',\n",
    "        shuffle = False\n",
    "    )\n",
    "    \n",
    "    return test_generator"
   ]
  },
  {
   "cell_type": "code",
   "execution_count": 5,
   "metadata": {},
   "outputs": [],
   "source": [
    "# Callbacks\n",
    "def get_callbacks(model_name):    \n",
    "    mc = ModelCheckpoint('best_' + model_name + '.h5', monitor='val_MCC', mode='max', verbose=1, save_best_only=True)\n",
    "    es = EarlyStopping(monitor = 'val_MCC', patience=10, verbose=1, mode='max')\n",
    "    reduce_lr = ReduceLROnPlateau(patience=2)\n",
    "    \n",
    "    return [mc, es, reduce_lr]"
   ]
  },
  {
   "cell_type": "code",
   "execution_count": 6,
   "metadata": {},
   "outputs": [],
   "source": [
    "# Compile the model\n",
    "def compile_model(model):\n",
    "    opt = SGD(lr=learning_rate, momentum=momentum, decay=decay / num_epochs)\n",
    "\n",
    "    model.compile(loss=loss, optimizer = opt, metrics=[\"accuracy\", MCC])\n",
    "    \n",
    "    return model"
   ]
  },
  {
   "cell_type": "code",
   "execution_count": 7,
   "metadata": {},
   "outputs": [],
   "source": [
    "# Fit the model\n",
    "def fit_model(model, train_generator, validation_generator, model_name):\n",
    "    history = model.fit_generator(\n",
    "        train_generator,\n",
    "        steps_per_epoch = train_generator.n // train_generator.batch_size,\n",
    "        epochs = num_epochs,\n",
    "        validation_data = validation_generator,\n",
    "        validation_steps = validation_generator.n // validation_generator.batch_size,\n",
    "        use_multiprocessing = False,\n",
    "        workers=1,\n",
    "        callbacks = get_callbacks(model_name)\n",
    "    )\n",
    "    \n",
    "    return history, model"
   ]
  },
  {
   "cell_type": "code",
   "execution_count": 8,
   "metadata": {},
   "outputs": [],
   "source": [
    "# Save model\n",
    "def save_model(model, model_name):\n",
    "    model.save(model_name + '.h5')"
   ]
  },
  {
   "cell_type": "code",
   "execution_count": 9,
   "metadata": {},
   "outputs": [],
   "source": [
    "# Evaluate the model\n",
    "def evaluate_model(model, validation_generator):\n",
    "    return model.evaluate_generator(validation_generator, steps = validation_generator.n // validation_generator.batch_size)"
   ]
  },
  {
   "cell_type": "code",
   "execution_count": 10,
   "metadata": {},
   "outputs": [],
   "source": [
    "# Predictions\n",
    "def get_predictions(model, test_generator):\n",
    "    test_generator.reset()\n",
    "\n",
    "    predIdxs = model.predict_generator(test_generator,steps=(test_generator.n // test_generator.batch_size) + 1)\n",
    "\n",
    "    # for each image in the testing set we need to find the index of the\n",
    "    # label with corresponding largest predicted probability\n",
    "    predIdxs = np.argmax(predIdxs, axis=1)\n",
    "    \n",
    "    return predIdxs"
   ]
  },
  {
   "cell_type": "code",
   "execution_count": 11,
   "metadata": {},
   "outputs": [],
   "source": [
    "# Plot accuracy and loss values\n",
    "def plot_metrics(history):\n",
    "    plt.figure(figsize=(15,10))\n",
    "    plt.subplot(2,2,1)\n",
    "    plt.plot(history.history['accuracy'])\n",
    "    plt.plot(history.history['val_accuracy'])\n",
    "    plt.title('model accuracy')\n",
    "    plt.ylabel('accuracy')\n",
    "    plt.xlabel('epoch')\n",
    "    plt.legend(['train', 'test'], loc='lower right')\n",
    "\n",
    "    # summarize history for loss\n",
    "    plt.subplot(2,2,2)\n",
    "    plt.plot(history.history['loss'])\n",
    "    plt.plot(history.history['val_loss'])\n",
    "    plt.title('model loss')\n",
    "    plt.ylabel('loss')\n",
    "    plt.xlabel('epoch')\n",
    "    plt.legend(['train', 'test'], loc='upper right')\n",
    "\n",
    "    # Plot MCC values\n",
    "    plt.subplot(2,2,3)\n",
    "    plt.plot(history.history['MCC'])\n",
    "    plt.plot(history.history['val_MCC'])\n",
    "    plt.title('model MCC')\n",
    "    plt.ylabel('MCC')\n",
    "    plt.xlabel('epoch')\n",
    "    plt.legend(['train', 'test'], loc='lower right')\n",
    "    plt.show()"
   ]
  },
  {
   "cell_type": "code",
   "execution_count": 12,
   "metadata": {},
   "outputs": [],
   "source": [
    "# Show evaluation metrics\n",
    "def show_eval_metrics(model, metrics):\n",
    "    for idx, m in enumerate(model.metrics_names):\n",
    "        print(\"{}: {:.4f}\".format(m, metrics[idx]))"
   ]
  },
  {
   "cell_type": "code",
   "execution_count": 13,
   "metadata": {},
   "outputs": [],
   "source": [
    "# Show test metrics\n",
    "def show_test_metrics(predictions, test_generator):\n",
    "    print(classification_report(test_generator.classes, predictions, target_names=test_generator.class_indices.keys()))\n",
    "\n",
    "    cm = confusion_matrix(test_generator.classes, predictions)\n",
    "    total = sum(sum(cm))\n",
    "    acc = (cm[0,0] + cm[1,1]) / total\n",
    "    sensitivity = cm[0,0] / (cm[0,0] + cm[0,1])\n",
    "    specificity = cm[1,1] / (cm[1,0] + cm[1,1])\n",
    "\n",
    "    print(\"acc: {:.4f}\".format(acc))\n",
    "    print(\"sensitivity: {:.4f}\".format(sensitivity))\n",
    "    print(\"specificity: {:.4f}\".format(specificity))"
   ]
  },
  {
   "cell_type": "markdown",
   "metadata": {},
   "source": [
    "### Create the first model for images of 65x65"
   ]
  },
  {
   "cell_type": "code",
   "execution_count": 14,
   "metadata": {},
   "outputs": [
    {
     "name": "stdout",
     "output_type": "stream",
     "text": [
      "Model: \"sequential\"\n",
      "_________________________________________________________________\n",
      "Layer (type)                 Output Shape              Param #   \n",
      "=================================================================\n",
      "conv2d (Conv2D)              (None, 36, 36, 32)        896       \n",
      "_________________________________________________________________\n",
      "activation (Activation)      (None, 36, 36, 32)        0         \n",
      "_________________________________________________________________\n",
      "max_pooling2d (MaxPooling2D) (None, 18, 18, 32)        0         \n",
      "_________________________________________________________________\n",
      "dropout (Dropout)            (None, 18, 18, 32)        0         \n",
      "_________________________________________________________________\n",
      "batch_normalization (BatchNo (None, 18, 18, 32)        128       \n",
      "_________________________________________________________________\n",
      "conv2d_1 (Conv2D)            (None, 18, 18, 64)        18496     \n",
      "_________________________________________________________________\n",
      "activation_1 (Activation)    (None, 18, 18, 64)        0         \n",
      "_________________________________________________________________\n",
      "conv2d_2 (Conv2D)            (None, 18, 18, 64)        36928     \n",
      "_________________________________________________________________\n",
      "activation_2 (Activation)    (None, 18, 18, 64)        0         \n",
      "_________________________________________________________________\n",
      "max_pooling2d_1 (MaxPooling2 (None, 9, 9, 64)          0         \n",
      "_________________________________________________________________\n",
      "dropout_1 (Dropout)          (None, 9, 9, 64)          0         \n",
      "_________________________________________________________________\n",
      "batch_normalization_1 (Batch (None, 9, 9, 64)          256       \n",
      "_________________________________________________________________\n",
      "conv2d_3 (Conv2D)            (None, 9, 9, 128)         73856     \n",
      "_________________________________________________________________\n",
      "activation_3 (Activation)    (None, 9, 9, 128)         0         \n",
      "_________________________________________________________________\n",
      "conv2d_4 (Conv2D)            (None, 9, 9, 128)         147584    \n",
      "_________________________________________________________________\n",
      "activation_4 (Activation)    (None, 9, 9, 128)         0         \n",
      "_________________________________________________________________\n",
      "conv2d_5 (Conv2D)            (None, 9, 9, 128)         147584    \n",
      "_________________________________________________________________\n",
      "activation_5 (Activation)    (None, 9, 9, 128)         0         \n",
      "_________________________________________________________________\n",
      "global_average_pooling2d (Gl (None, 128)               0         \n",
      "_________________________________________________________________\n",
      "dense (Dense)                (None, 2)                 258       \n",
      "_________________________________________________________________\n",
      "activation_6 (Activation)    (None, 2)                 0         \n",
      "=================================================================\n",
      "Total params: 425,986\n",
      "Trainable params: 425,794\n",
      "Non-trainable params: 192\n",
      "_________________________________________________________________\n"
     ]
    }
   ],
   "source": [
    "# Model architecture for the first size\n",
    "\n",
    "MODEL_1_NAME = \"model_1\"\n",
    "\n",
    "img_width = 36\n",
    "img_height = 36\n",
    "\n",
    "model_1 = Sequential()\n",
    "\n",
    "model_1.add(Conv2D(32, (3,3), padding=\"same\", input_shape=(img_width, img_height, img_depth)))\n",
    "model_1.add(Activation(\"relu\"))\n",
    "model_1.add(MaxPooling2D(pool_size=(2,2)))\n",
    "model_1.add(Dropout(0.25))\n",
    "model_1.add(BatchNormalization())\n",
    "\n",
    "model_1.add(Conv2D(64, (3, 3), padding=\"same\"))\n",
    "model_1.add(Activation(\"relu\"))\n",
    "model_1.add(Conv2D(64, (3, 3), padding=\"same\"))\n",
    "model_1.add(Activation(\"relu\"))\n",
    "\n",
    "model_1.add(MaxPooling2D(pool_size=(2, 2)))\n",
    "model_1.add(Dropout(0.25))\n",
    "model_1.add(BatchNormalization())\n",
    "\n",
    "model_1.add(Conv2D(128, (3, 3), padding=\"same\"))\n",
    "model_1.add(Activation(\"relu\"))\n",
    "model_1.add(Conv2D(128, (3, 3), padding=\"same\"))\n",
    "model_1.add(Activation(\"relu\"))\n",
    "model_1.add(Conv2D(128, (3, 3), padding=\"same\"))\n",
    "model_1.add(Activation(\"relu\"))\n",
    "\n",
    "model_1.add(GlobalAveragePooling2D())\n",
    "model_1.add(Dense(classes))\n",
    "model_1.add(Activation(\"softmax\"))\n",
    "\n",
    "model_1.summary()"
   ]
  },
  {
   "cell_type": "code",
   "execution_count": 15,
   "metadata": {},
   "outputs": [],
   "source": [
    "# Compile\n",
    "model_1 = compile_model(model_1)"
   ]
  },
  {
   "cell_type": "code",
   "execution_count": 16,
   "metadata": {},
   "outputs": [
    {
     "name": "stdout",
     "output_type": "stream",
     "text": [
      "Found 20668 images belonging to 2 classes.\n",
      "Found 5510 images belonging to 2 classes.\n",
      "Found 1376 images belonging to 2 classes.\n"
     ]
    }
   ],
   "source": [
    "#Create the generators\n",
    "train_generator = get_train_generator(img_height, img_width)\n",
    "validation_generator = get_validation_generator(img_height, img_width)\n",
    "test_generator = get_test_generator(img_height, img_width)"
   ]
  },
  {
   "cell_type": "code",
   "execution_count": 17,
   "metadata": {},
   "outputs": [
    {
     "name": "stderr",
     "output_type": "stream",
     "text": [
      "WARNING: Logging before flag parsing goes to stderr.\n",
      "W0619 06:08:10.037034 139850191050560 deprecation.py:323] From /usr/local/lib/python3.6/dist-packages/tensorflow/python/ops/math_grad.py:1250: add_dispatch_support.<locals>.wrapper (from tensorflow.python.ops.array_ops) is deprecated and will be removed in a future version.\n",
      "Instructions for updating:\n",
      "Use tf.where in 2.0, which has the same broadcast rule as np.where\n"
     ]
    },
    {
     "name": "stdout",
     "output_type": "stream",
     "text": [
      "Epoch 1/20\n",
      "321/322 [============================>.] - ETA: 0s - loss: 0.5464 - accuracy: 0.7173 - MCC: 0.4346\n",
      "Epoch 00001: val_MCC improved from -inf to 0.85283, saving model to best_model_1.h5\n",
      "322/322 [==============================] - 26s 80ms/step - loss: 0.5456 - accuracy: 0.7178 - MCC: 0.4355 - val_loss: 0.2450 - val_accuracy: 0.9264 - val_MCC: 0.8528\n",
      "Epoch 2/20\n",
      "321/322 [============================>.] - ETA: 0s - loss: 0.2151 - accuracy: 0.9278 - MCC: 0.8556\n",
      "Epoch 00002: val_MCC did not improve from 0.85283\n",
      "322/322 [==============================] - 24s 73ms/step - loss: 0.2150 - accuracy: 0.9279 - MCC: 0.8558 - val_loss: 0.2090 - val_accuracy: 0.9179 - val_MCC: 0.8358\n",
      "Epoch 3/20\n",
      "321/322 [============================>.] - ETA: 0s - loss: 0.1818 - accuracy: 0.9416 - MCC: 0.8831\n",
      "Epoch 00003: val_MCC did not improve from 0.85283\n",
      "322/322 [==============================] - 23s 73ms/step - loss: 0.1816 - accuracy: 0.9416 - MCC: 0.8832 - val_loss: 0.2107 - val_accuracy: 0.9211 - val_MCC: 0.8423\n",
      "Epoch 4/20\n",
      "321/322 [============================>.] - ETA: 0s - loss: 0.1716 - accuracy: 0.9434 - MCC: 0.8869\n",
      "Epoch 00004: val_MCC improved from 0.85283 to 0.85647, saving model to best_model_1.h5\n",
      "322/322 [==============================] - 24s 73ms/step - loss: 0.1716 - accuracy: 0.9436 - MCC: 0.8871 - val_loss: 0.2068 - val_accuracy: 0.9282 - val_MCC: 0.8565\n",
      "Epoch 5/20\n",
      "321/322 [============================>.] - ETA: 0s - loss: 0.1607 - accuracy: 0.9467 - MCC: 0.8935\n",
      "Epoch 00005: val_MCC improved from 0.85647 to 0.86446, saving model to best_model_1.h5\n",
      "322/322 [==============================] - 23s 73ms/step - loss: 0.1605 - accuracy: 0.9469 - MCC: 0.8937 - val_loss: 0.1861 - val_accuracy: 0.9322 - val_MCC: 0.8645\n",
      "Epoch 6/20\n",
      "321/322 [============================>.] - ETA: 0s - loss: 0.1566 - accuracy: 0.9482 - MCC: 0.8965\n",
      "Epoch 00006: val_MCC did not improve from 0.86446\n",
      "322/322 [==============================] - 23s 73ms/step - loss: 0.1565 - accuracy: 0.9483 - MCC: 0.8965 - val_loss: 0.1892 - val_accuracy: 0.9273 - val_MCC: 0.8547\n",
      "Epoch 7/20\n",
      "321/322 [============================>.] - ETA: 0s - loss: 0.1527 - accuracy: 0.9491 - MCC: 0.8981\n",
      "Epoch 00007: val_MCC did not improve from 0.86446\n",
      "322/322 [==============================] - 23s 72ms/step - loss: 0.1527 - accuracy: 0.9490 - MCC: 0.8981 - val_loss: 0.2235 - val_accuracy: 0.9311 - val_MCC: 0.8623\n",
      "Epoch 8/20\n",
      "321/322 [============================>.] - ETA: 0s - loss: 0.1482 - accuracy: 0.9503 - MCC: 0.9007\n",
      "Epoch 00008: val_MCC improved from 0.86446 to 0.86846, saving model to best_model_1.h5\n",
      "322/322 [==============================] - 24s 73ms/step - loss: 0.1483 - accuracy: 0.9503 - MCC: 0.9005 - val_loss: 0.1831 - val_accuracy: 0.9342 - val_MCC: 0.8685\n",
      "Epoch 9/20\n",
      "321/322 [============================>.] - ETA: 0s - loss: 0.1463 - accuracy: 0.9515 - MCC: 0.9030\n",
      "Epoch 00009: val_MCC did not improve from 0.86846\n",
      "322/322 [==============================] - 23s 72ms/step - loss: 0.1462 - accuracy: 0.9515 - MCC: 0.9030 - val_loss: 0.1881 - val_accuracy: 0.9328 - val_MCC: 0.8656\n",
      "Epoch 10/20\n",
      "321/322 [============================>.] - ETA: 0s - loss: 0.1470 - accuracy: 0.9515 - MCC: 0.9029\n",
      "Epoch 00010: val_MCC did not improve from 0.86846\n",
      "322/322 [==============================] - 23s 72ms/step - loss: 0.1467 - accuracy: 0.9515 - MCC: 0.9030 - val_loss: 0.1857 - val_accuracy: 0.9328 - val_MCC: 0.8656\n",
      "Epoch 11/20\n",
      "321/322 [============================>.] - ETA: 0s - loss: 0.1486 - accuracy: 0.9508 - MCC: 0.9017\n",
      "Epoch 00011: val_MCC did not improve from 0.86846\n",
      "322/322 [==============================] - 23s 72ms/step - loss: 0.1486 - accuracy: 0.9508 - MCC: 0.9016 - val_loss: 0.1920 - val_accuracy: 0.9322 - val_MCC: 0.8645\n",
      "Epoch 12/20\n",
      "321/322 [============================>.] - ETA: 0s - loss: 0.1421 - accuracy: 0.9527 - MCC: 0.9054\n",
      "Epoch 00012: val_MCC did not improve from 0.86846\n",
      "322/322 [==============================] - 23s 72ms/step - loss: 0.1423 - accuracy: 0.9526 - MCC: 0.9053 - val_loss: 0.1952 - val_accuracy: 0.9313 - val_MCC: 0.8626\n",
      "Epoch 13/20\n",
      "321/322 [============================>.] - ETA: 0s - loss: 0.1453 - accuracy: 0.9510 - MCC: 0.9021\n",
      "Epoch 00013: val_MCC did not improve from 0.86846\n",
      "322/322 [==============================] - 23s 72ms/step - loss: 0.1451 - accuracy: 0.9511 - MCC: 0.9022 - val_loss: 0.1955 - val_accuracy: 0.9320 - val_MCC: 0.8641\n",
      "Epoch 14/20\n",
      "321/322 [============================>.] - ETA: 0s - loss: 0.1439 - accuracy: 0.9520 - MCC: 0.9041\n",
      "Epoch 00014: val_MCC did not improve from 0.86846\n",
      "322/322 [==============================] - 23s 72ms/step - loss: 0.1442 - accuracy: 0.9520 - MCC: 0.9039 - val_loss: 0.1952 - val_accuracy: 0.9313 - val_MCC: 0.8626\n",
      "Epoch 15/20\n",
      "321/322 [============================>.] - ETA: 0s - loss: 0.1439 - accuracy: 0.9527 - MCC: 0.9055\n",
      "Epoch 00015: val_MCC did not improve from 0.86846\n",
      "322/322 [==============================] - 23s 72ms/step - loss: 0.1437 - accuracy: 0.9528 - MCC: 0.9057 - val_loss: 0.1956 - val_accuracy: 0.9315 - val_MCC: 0.8630\n",
      "Epoch 16/20\n",
      "321/322 [============================>.] - ETA: 0s - loss: 0.1444 - accuracy: 0.9523 - MCC: 0.9046\n",
      "Epoch 00016: val_MCC did not improve from 0.86846\n",
      "322/322 [==============================] - 23s 71ms/step - loss: 0.1441 - accuracy: 0.9524 - MCC: 0.9048 - val_loss: 0.1957 - val_accuracy: 0.9319 - val_MCC: 0.8637\n",
      "Epoch 17/20\n",
      "321/322 [============================>.] - ETA: 0s - loss: 0.1457 - accuracy: 0.9520 - MCC: 0.9041\n",
      "Epoch 00017: val_MCC did not improve from 0.86846\n",
      "322/322 [==============================] - 23s 72ms/step - loss: 0.1457 - accuracy: 0.9520 - MCC: 0.9041 - val_loss: 0.1952 - val_accuracy: 0.9313 - val_MCC: 0.8626\n",
      "Epoch 18/20\n",
      "321/322 [============================>.] - ETA: 0s - loss: 0.1416 - accuracy: 0.9544 - MCC: 0.9089\n",
      "Epoch 00018: val_MCC did not improve from 0.86846\n",
      "322/322 [==============================] - 23s 72ms/step - loss: 0.1416 - accuracy: 0.9544 - MCC: 0.9088 - val_loss: 0.1953 - val_accuracy: 0.9313 - val_MCC: 0.8626\n",
      "Epoch 00018: early stopping\n"
     ]
    }
   ],
   "source": [
    "# Train\n",
    "history, model_1 = fit_model(model_1, train_generator, validation_generator, MODEL_1_NAME)"
   ]
  },
  {
   "cell_type": "code",
   "execution_count": 18,
   "metadata": {},
   "outputs": [],
   "source": [
    "# Save model\n",
    "save_model(model_1, MODEL_1_NAME)"
   ]
  },
  {
   "cell_type": "code",
   "execution_count": 19,
   "metadata": {},
   "outputs": [
    {
     "name": "stdout",
     "output_type": "stream",
     "text": [
      "loss: 0.1953\n",
      "accuracy: 0.9313\n",
      "MCC: 0.8626\n"
     ]
    }
   ],
   "source": [
    "# Evaluate\n",
    "metrics = evaluate_model(model_1, validation_generator)\n",
    "show_eval_metrics(model_1, metrics)"
   ]
  },
  {
   "cell_type": "code",
   "execution_count": 20,
   "metadata": {},
   "outputs": [
    {
     "data": {
      "image/png": "[encoded data removed]",
      "text/plain": [
       "<Figure size 1080x720 with 3 Axes>"
      ]
     },
     "metadata": {
      "needs_background": "light"
     },
     "output_type": "display_data"
    }
   ],
   "source": [
    "# Plot metrics from history\n",
    "plot_metrics(history)"
   ]
  },
  {
   "cell_type": "code",
   "execution_count": 21,
   "metadata": {},
   "outputs": [],
   "source": [
    "# Predict\n",
    "predictions = get_predictions(model_1, test_generator)"
   ]
  },
  {
   "cell_type": "code",
   "execution_count": 22,
   "metadata": {},
   "outputs": [
    {
     "name": "stdout",
     "output_type": "stream",
     "text": [
      "              precision    recall  f1-score   support\n",
      "\n",
      " parasitized       0.93      0.93      0.93       688\n",
      "  uninfected       0.93      0.93      0.93       688\n",
      "\n",
      "    accuracy                           0.93      1376\n",
      "   macro avg       0.93      0.93      0.93      1376\n",
      "weighted avg       0.93      0.93      0.93      1376\n",
      "\n",
      "acc: 0.9310\n",
      "sensitivity: 0.9288\n",
      "specificity: 0.9331\n"
     ]
    }
   ],
   "source": [
    "# Show final metrics\n",
    "show_test_metrics(predictions, test_generator)"
   ]
  },
  {
   "cell_type": "markdown",
   "metadata": {},
   "source": [
    "### Create next model with a size of images of 130x130"
   ]
  },
  {
   "cell_type": "code",
   "execution_count": 23,
   "metadata": {},
   "outputs": [
    {
     "name": "stdout",
     "output_type": "stream",
     "text": [
      "Model: \"sequential_1\"\n",
      "_________________________________________________________________\n",
      "Layer (type)                 Output Shape              Param #   \n",
      "=================================================================\n",
      "conv2d_6 (Conv2D)            (None, 72, 72, 32)        896       \n",
      "_________________________________________________________________\n",
      "activation_7 (Activation)    (None, 72, 72, 32)        0         \n",
      "_________________________________________________________________\n",
      "max_pooling2d_2 (MaxPooling2 (None, 36, 36, 32)        0         \n",
      "_________________________________________________________________\n",
      "dropout_2 (Dropout)          (None, 36, 36, 32)        0         \n",
      "_________________________________________________________________\n",
      "batch_normalization_2 (Batch (None, 36, 36, 32)        128       \n",
      "_________________________________________________________________\n",
      "conv2d_7 (Conv2D)            (None, 36, 36, 32)        9248      \n",
      "_________________________________________________________________\n",
      "activation (Activation)      (None, 36, 36, 32)        0         \n",
      "_________________________________________________________________\n",
      "max_pooling2d (MaxPooling2D) (None, 18, 18, 32)        0         \n",
      "_________________________________________________________________\n",
      "dropout (Dropout)            (None, 18, 18, 32)        0         \n",
      "_________________________________________________________________\n",
      "batch_normalization (BatchNo (None, 18, 18, 32)        128       \n",
      "_________________________________________________________________\n",
      "conv2d_1 (Conv2D)            (None, 18, 18, 64)        18496     \n",
      "_________________________________________________________________\n",
      "activation_1 (Activation)    (None, 18, 18, 64)        0         \n",
      "_________________________________________________________________\n",
      "conv2d_2 (Conv2D)            (None, 18, 18, 64)        36928     \n",
      "_________________________________________________________________\n",
      "activation_2 (Activation)    (None, 18, 18, 64)        0         \n",
      "_________________________________________________________________\n",
      "max_pooling2d_1 (MaxPooling2 (None, 9, 9, 64)          0         \n",
      "_________________________________________________________________\n",
      "dropout_1 (Dropout)          (None, 9, 9, 64)          0         \n",
      "_________________________________________________________________\n",
      "batch_normalization_1 (Batch (None, 9, 9, 64)          256       \n",
      "_________________________________________________________________\n",
      "conv2d_3 (Conv2D)            (None, 9, 9, 128)         73856     \n",
      "_________________________________________________________________\n",
      "activation_3 (Activation)    (None, 9, 9, 128)         0         \n",
      "_________________________________________________________________\n",
      "conv2d_4 (Conv2D)            (None, 9, 9, 128)         147584    \n",
      "_________________________________________________________________\n",
      "activation_4 (Activation)    (None, 9, 9, 128)         0         \n",
      "_________________________________________________________________\n",
      "conv2d_5 (Conv2D)            (None, 9, 9, 128)         147584    \n",
      "_________________________________________________________________\n",
      "activation_5 (Activation)    (None, 9, 9, 128)         0         \n",
      "_________________________________________________________________\n",
      "global_average_pooling2d (Gl (None, 128)               0         \n",
      "_________________________________________________________________\n",
      "dense (Dense)                (None, 2)                 258       \n",
      "_________________________________________________________________\n",
      "activation_6 (Activation)    (None, 2)                 0         \n",
      "=================================================================\n",
      "Total params: 435,362\n",
      "Trainable params: 10,208\n",
      "Non-trainable params: 425,154\n",
      "_________________________________________________________________\n"
     ]
    }
   ],
   "source": [
    "# Configure the new size for the images\n",
    "MODEL_2_NAME = \"model_2\"\n",
    "\n",
    "img_height = 72\n",
    "img_width = 72\n",
    "\n",
    "# Create the new model.\n",
    "# Add an input layer for the new size, then apply MaxPooling to downsample to the size of the previous model\n",
    "model_2 = Sequential()\n",
    "model_2.add(Conv2D(32, (3,3), padding=\"same\", input_shape=(img_width, img_height, img_depth)))\n",
    "model_2.add(Activation(\"relu\"))\n",
    "model_2.add(MaxPooling2D(pool_size=(2,2)))\n",
    "model_2.add(Dropout(0.25))\n",
    "model_2.add(BatchNormalization())\n",
    "model_2.add(Conv2D(32, (3,3), padding=\"same\"))\n",
    "\n",
    "# Load the pretrained model\n",
    "prior = load_model(MODEL_1_NAME + '.h5', custom_objects={'MCC': MCC})\n",
    "\n",
    "#for i, layer in enumerate(model_2.layers):\n",
    "#    print(i, layer.name, layer.input_shape, layer.output_shape)\n",
    "\n",
    "#for i, layer in enumerate(prior.layers[1:]):\n",
    "#    print(i, layer.name, layer.input_shape, layer.output_shape)\n",
    "\n",
    "# Stack the new model over the old one, removing the original input layers\n",
    "#for layer in prior.layers[5:]:\n",
    "for layer in prior.layers[1:]:\n",
    "    layer.trainable = False\n",
    "    model_2.add(layer)\n",
    "\n",
    "#for layer in prior.layers[-3:]:\n",
    "    #print(layer.name, layer.trainable)\n",
    "#    layer.trainable = True\n",
    "#    model_2.add(layer)\n",
    "    \n",
    "#for layer in model_2.layers:\n",
    "#    print(layer.name, layer.input_shape, layer.output_shape, layer.trainable)\n",
    "\n",
    "model_2.summary()"
   ]
  },
  {
   "cell_type": "code",
   "execution_count": 24,
   "metadata": {},
   "outputs": [],
   "source": [
    "# Compile\n",
    "model_2 = compile_model(model_2)"
   ]
  },
  {
   "cell_type": "code",
   "execution_count": 25,
   "metadata": {},
   "outputs": [
    {
     "name": "stdout",
     "output_type": "stream",
     "text": [
      "Found 20668 images belonging to 2 classes.\n",
      "Found 5510 images belonging to 2 classes.\n",
      "Found 1376 images belonging to 2 classes.\n"
     ]
    }
   ],
   "source": [
    "#Create the generators\n",
    "train_generator = get_train_generator(img_height, img_width)\n",
    "validation_generator = get_validation_generator(img_height, img_width)\n",
    "test_generator = get_test_generator(img_height, img_width)"
   ]
  },
  {
   "cell_type": "code",
   "execution_count": 26,
   "metadata": {},
   "outputs": [
    {
     "name": "stdout",
     "output_type": "stream",
     "text": [
      "Epoch 1/20\n",
      "321/322 [============================>.] - ETA: 0s - loss: 0.4439 - accuracy: 0.7903 - MCC: 0.5806\n",
      "Epoch 00001: val_MCC improved from -inf to 0.00109, saving model to best_model_2.h5\n",
      "322/322 [==============================] - 33s 103ms/step - loss: 0.4430 - accuracy: 0.7908 - MCC: 0.5816 - val_loss: 2.6968 - val_accuracy: 0.5005 - val_MCC: 0.0011\n",
      "Epoch 2/20\n",
      "321/322 [============================>.] - ETA: 0s - loss: 0.1776 - accuracy: 0.9403 - MCC: 0.8805\n",
      "Epoch 00002: val_MCC did not improve from 0.00109\n",
      "322/322 [==============================] - 32s 101ms/step - loss: 0.1774 - accuracy: 0.9403 - MCC: 0.8806 - val_loss: 3.4972 - val_accuracy: 0.5005 - val_MCC: 0.0011\n",
      "Epoch 3/20\n",
      "321/322 [============================>.] - ETA: 0s - loss: 0.1690 - accuracy: 0.9441 - MCC: 0.8882\n",
      "Epoch 00003: val_MCC did not improve from 0.00109\n",
      "322/322 [==============================] - 32s 101ms/step - loss: 0.1689 - accuracy: 0.9442 - MCC: 0.8884 - val_loss: 2.4234 - val_accuracy: 0.5005 - val_MCC: 0.0011\n",
      "Epoch 4/20\n",
      "321/322 [============================>.] - ETA: 0s - loss: 0.1631 - accuracy: 0.9451 - MCC: 0.8903\n",
      "Epoch 00004: val_MCC did not improve from 0.00109\n",
      "322/322 [==============================] - 32s 100ms/step - loss: 0.1629 - accuracy: 0.9452 - MCC: 0.8904 - val_loss: 2.7993 - val_accuracy: 0.5005 - val_MCC: 0.0011\n",
      "Epoch 5/20\n",
      "321/322 [============================>.] - ETA: 0s - loss: 0.1658 - accuracy: 0.9449 - MCC: 0.8899\n",
      "Epoch 00005: val_MCC did not improve from 0.00109\n",
      "322/322 [==============================] - 32s 100ms/step - loss: 0.1656 - accuracy: 0.9451 - MCC: 0.8901 - val_loss: 2.5582 - val_accuracy: 0.5005 - val_MCC: 0.0011\n",
      "Epoch 6/20\n",
      "321/322 [============================>.] - ETA: 0s - loss: 0.1635 - accuracy: 0.9465 - MCC: 0.8930\n",
      "Epoch 00006: val_MCC improved from 0.00109 to 0.00145, saving model to best_model_2.h5\n",
      "322/322 [==============================] - 32s 99ms/step - loss: 0.1633 - accuracy: 0.9466 - MCC: 0.8931 - val_loss: 2.5065 - val_accuracy: 0.5007 - val_MCC: 0.0015\n",
      "Epoch 7/20\n",
      "321/322 [============================>.] - ETA: 0s - loss: 0.1610 - accuracy: 0.9475 - MCC: 0.8950\n",
      "Epoch 00007: val_MCC did not improve from 0.00145\n",
      "322/322 [==============================] - 32s 100ms/step - loss: 0.1611 - accuracy: 0.9475 - MCC: 0.8950 - val_loss: 2.5178 - val_accuracy: 0.5007 - val_MCC: 0.0015\n",
      "Epoch 8/20\n",
      "321/322 [============================>.] - ETA: 0s - loss: 0.1616 - accuracy: 0.9470 - MCC: 0.8940\n",
      "Epoch 00008: val_MCC did not improve from 0.00145\n",
      "322/322 [==============================] - 32s 100ms/step - loss: 0.1614 - accuracy: 0.9470 - MCC: 0.8941 - val_loss: 2.5174 - val_accuracy: 0.5007 - val_MCC: 0.0015\n",
      "Epoch 9/20\n",
      "321/322 [============================>.] - ETA: 0s - loss: 0.1595 - accuracy: 0.9475 - MCC: 0.8949\n",
      "Epoch 00009: val_MCC did not improve from 0.00145\n",
      "322/322 [==============================] - 32s 99ms/step - loss: 0.1600 - accuracy: 0.9474 - MCC: 0.8948 - val_loss: 2.5175 - val_accuracy: 0.5007 - val_MCC: 0.0015\n",
      "Epoch 10/20\n",
      "321/322 [============================>.] - ETA: 0s - loss: 0.1655 - accuracy: 0.9463 - MCC: 0.8927\n",
      "Epoch 00010: val_MCC did not improve from 0.00145\n",
      "322/322 [==============================] - 32s 100ms/step - loss: 0.1652 - accuracy: 0.9465 - MCC: 0.8929 - val_loss: 2.5126 - val_accuracy: 0.5007 - val_MCC: 0.0015\n",
      "Epoch 11/20\n",
      "321/322 [============================>.] - ETA: 0s - loss: 0.1604 - accuracy: 0.9466 - MCC: 0.8933\n",
      "Epoch 00011: val_MCC did not improve from 0.00145\n",
      "322/322 [==============================] - 32s 100ms/step - loss: 0.1604 - accuracy: 0.9466 - MCC: 0.8932 - val_loss: 2.5296 - val_accuracy: 0.5007 - val_MCC: 0.0015\n",
      "Epoch 12/20\n",
      "321/322 [============================>.] - ETA: 0s - loss: 0.1622 - accuracy: 0.9463 - MCC: 0.8925\n",
      "Epoch 00012: val_MCC did not improve from 0.00145\n",
      "322/322 [==============================] - 32s 101ms/step - loss: 0.1626 - accuracy: 0.9462 - MCC: 0.8923 - val_loss: 2.5233 - val_accuracy: 0.5007 - val_MCC: 0.0015\n",
      "Epoch 13/20\n",
      "321/322 [============================>.] - ETA: 0s - loss: 0.1584 - accuracy: 0.9468 - MCC: 0.8936\n",
      "Epoch 00013: val_MCC improved from 0.00145 to 0.00182, saving model to best_model_2.h5\n",
      "322/322 [==============================] - 32s 100ms/step - loss: 0.1581 - accuracy: 0.9469 - MCC: 0.8938 - val_loss: 2.5082 - val_accuracy: 0.5009 - val_MCC: 0.0018\n",
      "Epoch 14/20\n",
      "321/322 [============================>.] - ETA: 0s - loss: 0.1605 - accuracy: 0.9470 - MCC: 0.8940\n",
      "Epoch 00014: val_MCC did not improve from 0.00182\n",
      "322/322 [==============================] - 32s 100ms/step - loss: 0.1604 - accuracy: 0.9470 - MCC: 0.8940 - val_loss: 2.5230 - val_accuracy: 0.5007 - val_MCC: 0.0015\n",
      "Epoch 15/20\n",
      "321/322 [============================>.] - ETA: 0s - loss: 0.1643 - accuracy: 0.9461 - MCC: 0.8922\n",
      "Epoch 00015: val_MCC did not improve from 0.00182\n",
      "322/322 [==============================] - 32s 100ms/step - loss: 0.1641 - accuracy: 0.9462 - MCC: 0.8924 - val_loss: 2.5187 - val_accuracy: 0.5007 - val_MCC: 0.0015\n",
      "Epoch 16/20\n",
      "321/322 [============================>.] - ETA: 0s - loss: 0.1619 - accuracy: 0.9471 - MCC: 0.8943\n",
      "Epoch 00016: val_MCC did not improve from 0.00182\n",
      "322/322 [==============================] - 32s 100ms/step - loss: 0.1619 - accuracy: 0.9471 - MCC: 0.8943 - val_loss: 2.4974 - val_accuracy: 0.5009 - val_MCC: 0.0018\n",
      "Epoch 17/20\n",
      "321/322 [============================>.] - ETA: 0s - loss: 0.1627 - accuracy: 0.9462 - MCC: 0.8924\n",
      "Epoch 00017: val_MCC did not improve from 0.00182\n",
      "322/322 [==============================] - 32s 100ms/step - loss: 0.1628 - accuracy: 0.9462 - MCC: 0.8923 - val_loss: 2.5146 - val_accuracy: 0.5007 - val_MCC: 0.0015\n",
      "Epoch 18/20\n",
      "321/322 [============================>.] - ETA: 0s - loss: 0.1612 - accuracy: 0.9478 - MCC: 0.8955\n",
      "Epoch 00018: val_MCC did not improve from 0.00182\n",
      "322/322 [==============================] - 32s 100ms/step - loss: 0.1610 - accuracy: 0.9479 - MCC: 0.8958 - val_loss: 2.5171 - val_accuracy: 0.5007 - val_MCC: 0.0015\n",
      "Epoch 19/20\n",
      "321/322 [============================>.] - ETA: 0s - loss: 0.1614 - accuracy: 0.9469 - MCC: 0.8939\n",
      "Epoch 00019: val_MCC did not improve from 0.00182\n",
      "322/322 [==============================] - 32s 100ms/step - loss: 0.1611 - accuracy: 0.9471 - MCC: 0.8942 - val_loss: 2.5080 - val_accuracy: 0.5009 - val_MCC: 0.0018\n",
      "Epoch 20/20\n",
      "321/322 [============================>.] - ETA: 0s - loss: 0.1605 - accuracy: 0.9459 - MCC: 0.8918\n",
      "Epoch 00020: val_MCC did not improve from 0.00182\n",
      "322/322 [==============================] - 32s 101ms/step - loss: 0.1604 - accuracy: 0.9459 - MCC: 0.8919 - val_loss: 2.4982 - val_accuracy: 0.5009 - val_MCC: 0.0018\n"
     ]
    }
   ],
   "source": [
    "# Train\n",
    "history, model_2 = fit_model(model_2, train_generator, validation_generator, MODEL_2_NAME)"
   ]
  },
  {
   "cell_type": "code",
   "execution_count": 27,
   "metadata": {},
   "outputs": [],
   "source": [
    "# Save model\n",
    "save_model(model_2, MODEL_2_NAME)"
   ]
  },
  {
   "cell_type": "code",
   "execution_count": 28,
   "metadata": {},
   "outputs": [
    {
     "name": "stdout",
     "output_type": "stream",
     "text": [
      "loss: 2.4982\n",
      "accuracy: 0.5009\n",
      "MCC: 0.0018\n"
     ]
    }
   ],
   "source": [
    "# Evaluate\n",
    "metrics = evaluate_model(model_2, validation_generator)\n",
    "show_eval_metrics(model_2, metrics)"
   ]
  },
  {
   "cell_type": "code",
   "execution_count": 29,
   "metadata": {},
   "outputs": [
    {
     "data": {
      "image/png": "[encoded data removed]",
      "text/plain": [
       "<Figure size 1080x720 with 3 Axes>"
      ]
     },
     "metadata": {
      "needs_background": "light"
     },
     "output_type": "display_data"
    }
   ],
   "source": [
    "# Plot metrics from history\n",
    "plot_metrics(history)"
   ]
  },
  {
   "cell_type": "code",
   "execution_count": 30,
   "metadata": {},
   "outputs": [],
   "source": [
    "# Predict\n",
    "predictions = get_predictions(model_2, test_generator)"
   ]
  },
  {
   "cell_type": "code",
   "execution_count": 31,
   "metadata": {},
   "outputs": [
    {
     "name": "stdout",
     "output_type": "stream",
     "text": [
      "              precision    recall  f1-score   support\n",
      "\n",
      " parasitized       0.50      1.00      0.67       688\n",
      "  uninfected       0.00      0.00      0.00       688\n",
      "\n",
      "    accuracy                           0.50      1376\n",
      "   macro avg       0.25      0.50      0.33      1376\n",
      "weighted avg       0.25      0.50      0.33      1376\n",
      "\n",
      "acc: 0.5000\n",
      "sensitivity: 1.0000\n",
      "specificity: 0.0000\n"
     ]
    },
    {
     "name": "stderr",
     "output_type": "stream",
     "text": [
      "/usr/local/lib/python3.6/dist-packages/sklearn/metrics/classification.py:1437: UndefinedMetricWarning: Precision and F-score are ill-defined and being set to 0.0 in labels with no predicted samples.\n",
      "  'precision', 'predicted', average, warn_for)\n"
     ]
    }
   ],
   "source": [
    "# Show final metrics\n",
    "show_test_metrics(predictions, test_generator)"
   ]
  },
  {
   "cell_type": "markdown",
   "metadata": {},
   "source": [
    "### Create next model with a size of images of 260x260"
   ]
  },
  {
   "cell_type": "code",
   "execution_count": 32,
   "metadata": {},
   "outputs": [
    {
     "name": "stdout",
     "output_type": "stream",
     "text": [
      "Model: \"sequential_2\"\n",
      "_________________________________________________________________\n",
      "Layer (type)                 Output Shape              Param #   \n",
      "=================================================================\n",
      "conv2d_8 (Conv2D)            (None, 144, 144, 32)      896       \n",
      "_________________________________________________________________\n",
      "activation_8 (Activation)    (None, 144, 144, 32)      0         \n",
      "_________________________________________________________________\n",
      "max_pooling2d_3 (MaxPooling2 (None, 72, 72, 32)        0         \n",
      "_________________________________________________________________\n",
      "dropout_3 (Dropout)          (None, 72, 72, 32)        0         \n",
      "_________________________________________________________________\n",
      "batch_normalization_3 (Batch (None, 72, 72, 32)        128       \n",
      "_________________________________________________________________\n",
      "conv2d_9 (Conv2D)            (None, 72, 72, 32)        9248      \n",
      "_________________________________________________________________\n",
      "activation_7 (Activation)    (None, 72, 72, 32)        0         \n",
      "_________________________________________________________________\n",
      "max_pooling2d_2 (MaxPooling2 (None, 36, 36, 32)        0         \n",
      "_________________________________________________________________\n",
      "dropout_2 (Dropout)          (None, 36, 36, 32)        0         \n",
      "_________________________________________________________________\n",
      "batch_normalization_2 (Batch (None, 36, 36, 32)        128       \n",
      "_________________________________________________________________\n",
      "conv2d_7 (Conv2D)            (None, 36, 36, 32)        9248      \n",
      "_________________________________________________________________\n",
      "activation (Activation)      (None, 36, 36, 32)        0         \n",
      "_________________________________________________________________\n",
      "max_pooling2d (MaxPooling2D) (None, 18, 18, 32)        0         \n",
      "_________________________________________________________________\n",
      "dropout (Dropout)            (None, 18, 18, 32)        0         \n",
      "_________________________________________________________________\n",
      "batch_normalization (BatchNo (None, 18, 18, 32)        128       \n",
      "_________________________________________________________________\n",
      "conv2d_1 (Conv2D)            (None, 18, 18, 64)        18496     \n",
      "_________________________________________________________________\n",
      "activation_1 (Activation)    (None, 18, 18, 64)        0         \n",
      "_________________________________________________________________\n",
      "conv2d_2 (Conv2D)            (None, 18, 18, 64)        36928     \n",
      "_________________________________________________________________\n",
      "activation_2 (Activation)    (None, 18, 18, 64)        0         \n",
      "_________________________________________________________________\n",
      "max_pooling2d_1 (MaxPooling2 (None, 9, 9, 64)          0         \n",
      "_________________________________________________________________\n",
      "dropout_1 (Dropout)          (None, 9, 9, 64)          0         \n",
      "_________________________________________________________________\n",
      "batch_normalization_1 (Batch (None, 9, 9, 64)          256       \n",
      "_________________________________________________________________\n",
      "conv2d_3 (Conv2D)            (None, 9, 9, 128)         73856     \n",
      "_________________________________________________________________\n",
      "activation_3 (Activation)    (None, 9, 9, 128)         0         \n",
      "_________________________________________________________________\n",
      "conv2d_4 (Conv2D)            (None, 9, 9, 128)         147584    \n",
      "_________________________________________________________________\n",
      "activation_4 (Activation)    (None, 9, 9, 128)         0         \n",
      "_________________________________________________________________\n",
      "conv2d_5 (Conv2D)            (None, 9, 9, 128)         147584    \n",
      "_________________________________________________________________\n",
      "activation_5 (Activation)    (None, 9, 9, 128)         0         \n",
      "_________________________________________________________________\n",
      "global_average_pooling2d (Gl (None, 128)               0         \n",
      "_________________________________________________________________\n",
      "dense (Dense)                (None, 2)                 258       \n",
      "_________________________________________________________________\n",
      "activation_6 (Activation)    (None, 2)                 0         \n",
      "=================================================================\n",
      "Total params: 444,738\n",
      "Trainable params: 10,208\n",
      "Non-trainable params: 434,530\n",
      "_________________________________________________________________\n"
     ]
    }
   ],
   "source": [
    "# Create a new model for the next size and train\n",
    "MODEL_3_NAME = \"model_3\"\n",
    "\n",
    "img_height = 144\n",
    "img_width = 144\n",
    "\n",
    "model_3 = Sequential()\n",
    "model_3.add(Conv2D(32, (3,3), padding=\"same\", input_shape=(img_width, img_height, img_depth)))\n",
    "model_3.add(Activation(\"relu\"))\n",
    "model_3.add(MaxPooling2D(pool_size=(2,2)))\n",
    "model_3.add(Dropout(0.25))\n",
    "model_3.add(BatchNormalization())\n",
    "model_3.add(Conv2D(32, (3,3), padding=\"same\"))\n",
    "\n",
    "# Load the pretrained model\n",
    "prior = load_model(MODEL_2_NAME + '.h5', custom_objects={'MCC': MCC})\n",
    "#prior.summary()\n",
    "\n",
    "# Stack the new model over the old one, removing the original input layers\n",
    "for layer in prior.layers[1:]:\n",
    "    layer.trainable = False\n",
    "    model_3.add(layer)\n",
    "\n",
    "model_3.summary()"
   ]
  },
  {
   "cell_type": "code",
   "execution_count": 33,
   "metadata": {},
   "outputs": [],
   "source": [
    "# Compile\n",
    "model_3 = compile_model(model_3)"
   ]
  },
  {
   "cell_type": "code",
   "execution_count": 34,
   "metadata": {},
   "outputs": [
    {
     "name": "stdout",
     "output_type": "stream",
     "text": [
      "Found 20668 images belonging to 2 classes.\n",
      "Found 5510 images belonging to 2 classes.\n",
      "Found 1376 images belonging to 2 classes.\n"
     ]
    }
   ],
   "source": [
    "#Create the generators\n",
    "train_generator = get_train_generator(img_height, img_width)\n",
    "validation_generator = get_validation_generator(img_height, img_width)\n",
    "test_generator = get_test_generator(img_height, img_width)"
   ]
  },
  {
   "cell_type": "code",
   "execution_count": 35,
   "metadata": {},
   "outputs": [
    {
     "name": "stdout",
     "output_type": "stream",
     "text": [
      "Epoch 1/20\n",
      "321/322 [============================>.] - ETA: 0s - loss: 0.5445 - accuracy: 0.7347 - MCC: 0.4695\n",
      "Epoch 00001: val_MCC improved from -inf to 0.00109, saving model to best_model_3.h5\n",
      "322/322 [==============================] - 70s 218ms/step - loss: 0.5434 - accuracy: 0.7353 - MCC: 0.4708 - val_loss: 8.0503 - val_accuracy: 0.5005 - val_MCC: 0.0011\n",
      "Epoch 2/20\n",
      "321/322 [============================>.] - ETA: 0s - loss: 0.1753 - accuracy: 0.9422 - MCC: 0.8843\n",
      "Epoch 00002: val_MCC did not improve from 0.00109\n",
      "322/322 [==============================] - 69s 214ms/step - loss: 0.1751 - accuracy: 0.9422 - MCC: 0.8844 - val_loss: 8.0503 - val_accuracy: 0.5005 - val_MCC: 0.0011\n",
      "Epoch 3/20\n",
      "321/322 [============================>.] - ETA: 0s - loss: 0.1723 - accuracy: 0.9447 - MCC: 0.8894\n",
      "Epoch 00003: val_MCC did not improve from 0.00109\n",
      "322/322 [==============================] - 69s 214ms/step - loss: 0.1726 - accuracy: 0.9446 - MCC: 0.8892 - val_loss: 8.0503 - val_accuracy: 0.5005 - val_MCC: 0.0011\n",
      "Epoch 4/20\n",
      "321/322 [============================>.] - ETA: 0s - loss: 0.1801 - accuracy: 0.9391 - MCC: 0.8782\n",
      "Epoch 00004: val_MCC did not improve from 0.00109\n",
      "322/322 [==============================] - 69s 213ms/step - loss: 0.1799 - accuracy: 0.9391 - MCC: 0.8783 - val_loss: 8.0503 - val_accuracy: 0.5005 - val_MCC: 0.0011\n",
      "Epoch 5/20\n",
      "321/322 [============================>.] - ETA: 0s - loss: 0.1745 - accuracy: 0.9418 - MCC: 0.8835 ETA: 4s - loss:\n",
      "Epoch 00005: val_MCC did not improve from 0.00109\n",
      "322/322 [==============================] - 68s 212ms/step - loss: 0.1742 - accuracy: 0.9419 - MCC: 0.8837 - val_loss: 8.0503 - val_accuracy: 0.5005 - val_MCC: 0.0011\n",
      "Epoch 6/20\n",
      "321/322 [============================>.] - ETA: 0s - loss: 0.1699 - accuracy: 0.9440 - MCC: 0.8880 ETA - ETA: 3s - loss: 0.1\n",
      "Epoch 00006: val_MCC did not improve from 0.00109\n",
      "322/322 [==============================] - 68s 212ms/step - loss: 0.1698 - accuracy: 0.9440 - MCC: 0.8881 - val_loss: 8.0503 - val_accuracy: 0.5005 - val_MCC: 0.0011\n",
      "Epoch 7/20\n",
      "321/322 [============================>.] - ETA: 0s - loss: 0.1704 - accuracy: 0.9427 - MCC: 0.8855\n",
      "Epoch 00007: val_MCC did not improve from 0.00109\n",
      "322/322 [==============================] - 68s 213ms/step - loss: 0.1706 - accuracy: 0.9426 - MCC: 0.8852 - val_loss: 8.0503 - val_accuracy: 0.5005 - val_MCC: 0.0011\n",
      "Epoch 8/20\n",
      "321/322 [============================>.] - ETA: 0s - loss: 0.1707 - accuracy: 0.9426 - MCC: 0.8851\n",
      "Epoch 00008: val_MCC did not improve from 0.00109\n",
      "322/322 [==============================] - 68s 211ms/step - loss: 0.1706 - accuracy: 0.9426 - MCC: 0.8853 - val_loss: 8.0503 - val_accuracy: 0.5005 - val_MCC: 0.0011\n",
      "Epoch 9/20\n",
      "321/322 [============================>.] - ETA: 0s - loss: 0.1666 - accuracy: 0.9448 - MCC: 0.8896\n",
      "Epoch 00009: val_MCC did not improve from 0.00109\n",
      "322/322 [==============================] - 68s 210ms/step - loss: 0.1670 - accuracy: 0.9446 - MCC: 0.8893 - val_loss: 8.0503 - val_accuracy: 0.5005 - val_MCC: 0.0011\n",
      "Epoch 10/20\n",
      "321/322 [============================>.] - ETA: 0s - loss: 0.1680 - accuracy: 0.9441 - MCC: 0.8881\n",
      "Epoch 00010: val_MCC did not improve from 0.00109\n",
      "322/322 [==============================] - 68s 211ms/step - loss: 0.1685 - accuracy: 0.9438 - MCC: 0.8877 - val_loss: 8.0503 - val_accuracy: 0.5005 - val_MCC: 0.0011\n",
      "Epoch 11/20\n",
      "321/322 [============================>.] - ETA: 0s - loss: 0.1694 - accuracy: 0.9432 - MCC: 0.8865\n",
      "Epoch 00011: val_MCC did not improve from 0.00109\n",
      "322/322 [==============================] - 68s 211ms/step - loss: 0.1694 - accuracy: 0.9433 - MCC: 0.8865 - val_loss: 8.0503 - val_accuracy: 0.5005 - val_MCC: 0.0011\n",
      "Epoch 00011: early stopping\n"
     ]
    }
   ],
   "source": [
    "# Train\n",
    "history, model_3 = fit_model(model_3, train_generator, validation_generator, MODEL_3_NAME)"
   ]
  },
  {
   "cell_type": "code",
   "execution_count": 36,
   "metadata": {},
   "outputs": [],
   "source": [
    "# Save model\n",
    "save_model(model_3, MODEL_3_NAME)"
   ]
  },
  {
   "cell_type": "code",
   "execution_count": 37,
   "metadata": {},
   "outputs": [
    {
     "name": "stdout",
     "output_type": "stream",
     "text": [
      "loss: 8.0503\n",
      "accuracy: 0.5005\n",
      "MCC: 0.0011\n"
     ]
    }
   ],
   "source": [
    "# Evaluate\n",
    "metrics = evaluate_model(model_3, validation_generator)\n",
    "show_eval_metrics(model_3, metrics)"
   ]
  },
  {
   "cell_type": "code",
   "execution_count": 38,
   "metadata": {},
   "outputs": [
    {
     "data": {
      "image/png": "[encoded data removed]",
      "text/plain": [
       "<Figure size 1080x720 with 3 Axes>"
      ]
     },
     "metadata": {
      "needs_background": "light"
     },
     "output_type": "display_data"
    }
   ],
   "source": [
    "# Plot metrics from history\n",
    "plot_metrics(history)"
   ]
  },
  {
   "cell_type": "code",
   "execution_count": 39,
   "metadata": {},
   "outputs": [],
   "source": [
    "# Predict\n",
    "predictions = get_predictions(model_3, test_generator)"
   ]
  },
  {
   "cell_type": "code",
   "execution_count": 40,
   "metadata": {},
   "outputs": [
    {
     "name": "stdout",
     "output_type": "stream",
     "text": [
      "              precision    recall  f1-score   support\n",
      "\n",
      " parasitized       0.50      1.00      0.67       688\n",
      "  uninfected       0.00      0.00      0.00       688\n",
      "\n",
      "    accuracy                           0.50      1376\n",
      "   macro avg       0.25      0.50      0.33      1376\n",
      "weighted avg       0.25      0.50      0.33      1376\n",
      "\n",
      "acc: 0.5000\n",
      "sensitivity: 1.0000\n",
      "specificity: 0.0000\n"
     ]
    }
   ],
   "source": [
    "# Show final metrics\n",
    "show_test_metrics(predictions, test_generator)"
   ]
  }
 ],
 "metadata": {
  "kernelspec": {
   "display_name": "Python 3",
   "language": "python",
   "name": "python3"
  },
  "language_info": {
   "codemirror_mode": {
    "name": "ipython",
    "version": 3
   },
   "file_extension": ".py",
   "mimetype": "text/x-python",
   "name": "python",
   "nbconvert_exporter": "python",
   "pygments_lexer": "ipython3",
   "version": "3.6.7"
  }
 },
 "nbformat": 4,
 "nbformat_minor": 2
}
