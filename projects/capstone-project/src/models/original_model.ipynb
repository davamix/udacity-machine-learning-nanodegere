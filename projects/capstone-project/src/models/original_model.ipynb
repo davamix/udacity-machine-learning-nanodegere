{
 "cells": [
  {
   "cell_type": "code",
   "execution_count": 1,
   "metadata": {},
   "outputs": [],
   "source": [
    "import numpy as np\n",
    "import matplotlib.pyplot as plt\n",
    "\n",
    "from tensorflow.keras.models import Sequential\n",
    "from tensorflow.keras.layers import Conv2D, MaxPooling2D\n",
    "from tensorflow.keras.layers import Activation, Dropout, Flatten, Dense\n",
    "from tensorflow.keras.optimizers import SGD\n",
    "from tensorflow.keras.callbacks import ModelCheckpoint\n",
    "from tensorflow.keras.preprocessing.image import ImageDataGenerator, array_to_img, img_to_array, load_img\n",
    "from tensorflow.keras import regularizers\n",
    "from sklearn.metrics import classification_report\n",
    "from sklearn.metrics import confusion_matrix"
   ]
  },
  {
   "cell_type": "code",
   "execution_count": 2,
   "metadata": {},
   "outputs": [],
   "source": [
    "# Model name used to save the weights in h5 format. The name match with the Jupyter notebook\n",
    "\n",
    "MODEL_NAME = 'original_model'"
   ]
  },
  {
   "cell_type": "code",
   "execution_count": 3,
   "metadata": {},
   "outputs": [],
   "source": [
    "# DATA PATHS\n",
    "\n",
    "TRAIN_FOLDER_PATH = '../../data/train/'\n",
    "VAL_FODLER_PATH = '../../data/validation/'\n",
    "#TEST_FOLDER_PATH = '../../data/test/'\n",
    "TEST_FOLDER_PATH = '../../data/test_manual'\n",
    "PREVIEW_IMAGES_FOLDER = '../../data/preview/'\n",
    "\n",
    "PREDICTION_FILE_PATH = '../../data/' + MODEL_NAME + '.csv'"
   ]
  },
  {
   "cell_type": "code",
   "execution_count": 4,
   "metadata": {},
   "outputs": [],
   "source": [
    "# Configure hyperparameters\n",
    "img_width = 100\n",
    "img_height = 100\n",
    "img_depth = 3\n",
    "\n",
    "classes = 2\n",
    "batch_size = 64\n",
    "num_epochs = 60\n",
    "loss = \"categorical_crossentropy\"\n",
    "learning_rate = 1e-6\n",
    "decay = 1e-6\n",
    "momentum = 0.9\n",
    "l2_reg = 1e-6"
   ]
  },
  {
   "cell_type": "code",
   "execution_count": 5,
   "metadata": {},
   "outputs": [
    {
     "name": "stdout",
     "output_type": "stream",
     "text": [
      "Found 20668 images belonging to 2 classes.\n",
      "Found 5510 images belonging to 2 classes.\n",
      "Found 1376 images belonging to 2 classes.\n"
     ]
    }
   ],
   "source": [
    "# MODEL TRAINING CONFIGURATION\n",
    "\n",
    "train_datagen = ImageDataGenerator(\n",
    "    rescale=1 / 255.0,\n",
    "    rotation_range=20,\n",
    "    zoom_range=0.05,\n",
    "    width_shift_range=0.05,\n",
    "    height_shift_range=0.05,\n",
    "    shear_range=0.05,\n",
    "    horizontal_flip=True,\n",
    "    fill_mode=\"nearest\"\n",
    ")\n",
    "\n",
    "validation_datagen = ImageDataGenerator(rescale=1./255)\n",
    "test_datagen = ImageDataGenerator(rescale=1./255)\n",
    "\n",
    "train_generator = train_datagen.flow_from_directory(\n",
    "    TRAIN_FOLDER_PATH,\n",
    "    target_size = (img_height,img_width),\n",
    "    color_mode='rgb',\n",
    "    batch_size = batch_size,\n",
    "    class_mode = 'categorical',\n",
    "    shuffle = True\n",
    ")\n",
    "\n",
    "validation_generator = validation_datagen.flow_from_directory(\n",
    "    VAL_FODLER_PATH,\n",
    "    target_size = (img_height, img_width),\n",
    "    color_mode='rgb',\n",
    "    batch_size = batch_size,\n",
    "    class_mode = 'categorical',\n",
    "    shuffle = False\n",
    ")\n",
    "\n",
    "test_generator = test_datagen.flow_from_directory(\n",
    "    TEST_FOLDER_PATH,\n",
    "    target_size = (img_height, img_width),\n",
    "    color_mode='rgb',\n",
    "    batch_size = batch_size,\n",
    "    class_mode = 'categorical',\n",
    "    shuffle = False\n",
    ")"
   ]
  },
  {
   "cell_type": "code",
   "execution_count": 6,
   "metadata": {
    "scrolled": true
   },
   "outputs": [
    {
     "name": "stdout",
     "output_type": "stream",
     "text": [
      "Model: \"sequential\"\n",
      "_________________________________________________________________\n",
      "Layer (type)                 Output Shape              Param #   \n",
      "=================================================================\n",
      "conv2d (Conv2D)              (None, 98, 98, 32)        896       \n",
      "_________________________________________________________________\n",
      "activation (Activation)      (None, 98, 98, 32)        0         \n",
      "_________________________________________________________________\n",
      "max_pooling2d (MaxPooling2D) (None, 49, 49, 32)        0         \n",
      "_________________________________________________________________\n",
      "conv2d_1 (Conv2D)            (None, 47, 47, 32)        9248      \n",
      "_________________________________________________________________\n",
      "activation_1 (Activation)    (None, 47, 47, 32)        0         \n",
      "_________________________________________________________________\n",
      "max_pooling2d_1 (MaxPooling2 (None, 23, 23, 32)        0         \n",
      "_________________________________________________________________\n",
      "conv2d_2 (Conv2D)            (None, 21, 21, 64)        18496     \n",
      "_________________________________________________________________\n",
      "activation_2 (Activation)    (None, 21, 21, 64)        0         \n",
      "_________________________________________________________________\n",
      "max_pooling2d_2 (MaxPooling2 (None, 10, 10, 64)        0         \n",
      "_________________________________________________________________\n",
      "flatten (Flatten)            (None, 6400)              0         \n",
      "_________________________________________________________________\n",
      "dense (Dense)                (None, 64)                409664    \n",
      "_________________________________________________________________\n",
      "activation_3 (Activation)    (None, 64)                0         \n",
      "_________________________________________________________________\n",
      "dropout (Dropout)            (None, 64)                0         \n",
      "_________________________________________________________________\n",
      "dense_1 (Dense)              (None, 2)                 130       \n",
      "_________________________________________________________________\n",
      "activation_4 (Activation)    (None, 2)                 0         \n",
      "=================================================================\n",
      "Total params: 438,434\n",
      "Trainable params: 438,434\n",
      "Non-trainable params: 0\n",
      "_________________________________________________________________\n"
     ]
    }
   ],
   "source": [
    "# Model architecture\n",
    "inputShape = (img_height, img_width, img_depth)\n",
    "\n",
    "model = Sequential()\n",
    "model.add(Conv2D(32, (3,3), input_shape=inputShape, activity_regularizer=regularizers.l2(l2_reg)))\n",
    "model.add(Activation('relu'))\n",
    "model.add(MaxPooling2D(pool_size=(2,2)))\n",
    "\n",
    "model.add(Conv2D(32, (3,3), activity_regularizer=regularizers.l2(l2_reg)))\n",
    "model.add(Activation('relu'))\n",
    "model.add(MaxPooling2D(pool_size=(2,2)))\n",
    "\n",
    "model.add(Conv2D(64, (3,3), activity_regularizer=regularizers.l2(l2_reg)))\n",
    "model.add(Activation('relu'))\n",
    "model.add(MaxPooling2D(pool_size=(2,2)))\n",
    "\n",
    "model.add(Flatten())\n",
    "model.add(Dense(64, activity_regularizer=regularizers.l2(l2_reg)))\n",
    "model.add(Activation('relu'))\n",
    "model.add(Dropout(0.5))\n",
    "model.add(Dense(classes, activity_regularizer=regularizers.l2(l2_reg)))\n",
    "model.add(Activation('softmax'))\n",
    "\n",
    "model.summary()"
   ]
  },
  {
   "cell_type": "code",
   "execution_count": 7,
   "metadata": {},
   "outputs": [],
   "source": [
    "# Callbacks\n",
    "mc = ModelCheckpoint('best_' + MODEL_NAME + '.h5', monitor='val_accuracy', mode='max', verbose=1, save_best_only=True)"
   ]
  },
  {
   "cell_type": "code",
   "execution_count": 8,
   "metadata": {},
   "outputs": [],
   "source": [
    "# Compile the model\n",
    "opt = SGD(lr=learning_rate, decay=decay, momentum=momentum, nesterov=True)\n",
    "\n",
    "model.compile(loss=loss, optimizer = opt, metrics=[\"accuracy\"])"
   ]
  },
  {
   "cell_type": "code",
   "execution_count": 9,
   "metadata": {},
   "outputs": [
    {
     "name": "stdout",
     "output_type": "stream",
     "text": [
      "Epoch 1/60\n"
     ]
    },
    {
     "name": "stderr",
     "output_type": "stream",
     "text": [
      "WARNING: Logging before flag parsing goes to stderr.\n",
      "W0623 08:01:48.513738 139635970983744 deprecation.py:323] From /usr/local/lib/python3.6/dist-packages/tensorflow/python/ops/math_grad.py:1250: add_dispatch_support.<locals>.wrapper (from tensorflow.python.ops.array_ops) is deprecated and will be removed in a future version.\n",
      "Instructions for updating:\n",
      "Use tf.where in 2.0, which has the same broadcast rule as np.where\n"
     ]
    },
    {
     "name": "stdout",
     "output_type": "stream",
     "text": [
      "321/322 [============================>.] - ETA: 0s - loss: 0.7125 - accuracy: 0.4970\n",
      "Epoch 00001: val_accuracy improved from -inf to 0.49746, saving model to best_original_model.h5\n",
      "322/322 [==============================] - 46s 142ms/step - loss: 0.7124 - accuracy: 0.4972 - val_loss: 0.7098 - val_accuracy: 0.4975\n",
      "Epoch 2/60\n",
      "321/322 [============================>.] - ETA: 0s - loss: 0.7112 - accuracy: 0.5068\n",
      "Epoch 00002: val_accuracy did not improve from 0.49746\n",
      "322/322 [==============================] - 43s 135ms/step - loss: 0.7111 - accuracy: 0.5069 - val_loss: 0.7097 - val_accuracy: 0.4931\n",
      "Epoch 3/60\n",
      "321/322 [============================>.] - ETA: 0s - loss: 0.7115 - accuracy: 0.5048\n",
      "Epoch 00003: val_accuracy did not improve from 0.49746\n",
      "322/322 [==============================] - 43s 135ms/step - loss: 0.7115 - accuracy: 0.5048 - val_loss: 0.7095 - val_accuracy: 0.4916\n",
      "Epoch 4/60\n",
      "321/322 [============================>.] - ETA: 0s - loss: 0.7114 - accuracy: 0.5036\n",
      "Epoch 00004: val_accuracy did not improve from 0.49746\n",
      "322/322 [==============================] - 43s 134ms/step - loss: 0.7114 - accuracy: 0.5036 - val_loss: 0.7095 - val_accuracy: 0.4935\n",
      "Epoch 5/60\n",
      "321/322 [============================>.] - ETA: 0s - loss: 0.7116 - accuracy: 0.4991\n",
      "Epoch 00005: val_accuracy did not improve from 0.49746\n",
      "322/322 [==============================] - 42s 132ms/step - loss: 0.7116 - accuracy: 0.4994 - val_loss: 0.7094 - val_accuracy: 0.4927\n",
      "Epoch 6/60\n",
      "321/322 [============================>.] - ETA: 0s - loss: 0.7115 - accuracy: 0.5021\n",
      "Epoch 00006: val_accuracy improved from 0.49746 to 0.49818, saving model to best_original_model.h5\n",
      "322/322 [==============================] - 42s 131ms/step - loss: 0.7115 - accuracy: 0.5020 - val_loss: 0.7093 - val_accuracy: 0.4982\n",
      "Epoch 7/60\n",
      "321/322 [============================>.] - ETA: 0s - loss: 0.7110 - accuracy: 0.5072\n",
      "Epoch 00007: val_accuracy improved from 0.49818 to 0.50091, saving model to best_original_model.h5\n",
      "322/322 [==============================] - 42s 130ms/step - loss: 0.7110 - accuracy: 0.5070 - val_loss: 0.7092 - val_accuracy: 0.5009\n",
      "Epoch 8/60\n",
      "321/322 [============================>.] - ETA: 0s - loss: 0.7110 - accuracy: 0.5089\n",
      "Epoch 00008: val_accuracy improved from 0.50091 to 0.50273, saving model to best_original_model.h5\n",
      "322/322 [==============================] - 42s 131ms/step - loss: 0.7110 - accuracy: 0.5087 - val_loss: 0.7091 - val_accuracy: 0.5027\n",
      "Epoch 9/60\n",
      "321/322 [============================>.] - ETA: 0s - loss: 0.7108 - accuracy: 0.5110\n",
      "Epoch 00009: val_accuracy improved from 0.50273 to 0.50709, saving model to best_original_model.h5\n",
      "322/322 [==============================] - 42s 132ms/step - loss: 0.7108 - accuracy: 0.5112 - val_loss: 0.7091 - val_accuracy: 0.5071\n",
      "Epoch 10/60\n",
      "321/322 [============================>.] - ETA: 0s - loss: 0.7115 - accuracy: 0.5037\n",
      "Epoch 00010: val_accuracy improved from 0.50709 to 0.51036, saving model to best_original_model.h5\n",
      "322/322 [==============================] - 42s 130ms/step - loss: 0.7116 - accuracy: 0.5036 - val_loss: 0.7090 - val_accuracy: 0.5104\n",
      "Epoch 11/60\n",
      "321/322 [============================>.] - ETA: 0s - loss: 0.7106 - accuracy: 0.5079\n",
      "Epoch 00011: val_accuracy improved from 0.51036 to 0.51235, saving model to best_original_model.h5\n",
      "322/322 [==============================] - 42s 131ms/step - loss: 0.7106 - accuracy: 0.5079 - val_loss: 0.7089 - val_accuracy: 0.5124\n",
      "Epoch 12/60\n",
      "321/322 [============================>.] - ETA: 0s - loss: 0.7109 - accuracy: 0.5049\n",
      "Epoch 00012: val_accuracy improved from 0.51235 to 0.52017, saving model to best_original_model.h5\n",
      "322/322 [==============================] - 41s 129ms/step - loss: 0.7109 - accuracy: 0.5045 - val_loss: 0.7089 - val_accuracy: 0.5202\n",
      "Epoch 13/60\n",
      "321/322 [============================>.] - ETA: 0s - loss: 0.7115 - accuracy: 0.4986\n",
      "Epoch 00013: val_accuracy improved from 0.52017 to 0.52725, saving model to best_original_model.h5\n",
      "322/322 [==============================] - 41s 128ms/step - loss: 0.7115 - accuracy: 0.4986 - val_loss: 0.7088 - val_accuracy: 0.5273\n",
      "Epoch 14/60\n",
      "321/322 [============================>.] - ETA: 0s - loss: 0.7106 - accuracy: 0.5095\n",
      "Epoch 00014: val_accuracy improved from 0.52725 to 0.53416, saving model to best_original_model.h5\n",
      "322/322 [==============================] - 42s 130ms/step - loss: 0.7105 - accuracy: 0.5097 - val_loss: 0.7087 - val_accuracy: 0.5342\n",
      "Epoch 15/60\n",
      "321/322 [============================>.] - ETA: 0s - loss: 0.7103 - accuracy: 0.5080\n",
      "Epoch 00015: val_accuracy improved from 0.53416 to 0.53507, saving model to best_original_model.h5\n",
      "322/322 [==============================] - 42s 132ms/step - loss: 0.7103 - accuracy: 0.5085 - val_loss: 0.7087 - val_accuracy: 0.5351\n",
      "Epoch 16/60\n",
      "321/322 [============================>.] - ETA: 0s - loss: 0.7104 - accuracy: 0.5068\n",
      "Epoch 00016: val_accuracy improved from 0.53507 to 0.53579, saving model to best_original_model.h5\n",
      "322/322 [==============================] - 42s 131ms/step - loss: 0.7104 - accuracy: 0.5068 - val_loss: 0.7086 - val_accuracy: 0.5358\n",
      "Epoch 17/60\n",
      "321/322 [============================>.] - ETA: 0s - loss: 0.7102 - accuracy: 0.5054\n",
      "Epoch 00017: val_accuracy improved from 0.53579 to 0.54070, saving model to best_original_model.h5\n",
      "322/322 [==============================] - 42s 130ms/step - loss: 0.7102 - accuracy: 0.5053 - val_loss: 0.7085 - val_accuracy: 0.5407\n",
      "Epoch 18/60\n",
      "321/322 [============================>.] - ETA: 0s - loss: 0.7094 - accuracy: 0.5121\n",
      "Epoch 00018: val_accuracy did not improve from 0.54070\n",
      "322/322 [==============================] - 42s 130ms/step - loss: 0.7094 - accuracy: 0.5124 - val_loss: 0.7085 - val_accuracy: 0.5402\n",
      "Epoch 19/60\n",
      "321/322 [============================>.] - ETA: 0s - loss: 0.7102 - accuracy: 0.5094\n",
      "Epoch 00019: val_accuracy improved from 0.54070 to 0.54379, saving model to best_original_model.h5\n",
      "322/322 [==============================] - 42s 131ms/step - loss: 0.7102 - accuracy: 0.5091 - val_loss: 0.7084 - val_accuracy: 0.5438\n",
      "Epoch 20/60\n",
      "321/322 [============================>.] - ETA: 0s - loss: 0.7104 - accuracy: 0.5057\n",
      "Epoch 00020: val_accuracy improved from 0.54379 to 0.54633, saving model to best_original_model.h5\n",
      "322/322 [==============================] - 42s 130ms/step - loss: 0.7104 - accuracy: 0.5060 - val_loss: 0.7084 - val_accuracy: 0.5463\n",
      "Epoch 21/60\n",
      "321/322 [============================>.] - ETA: 0s - loss: 0.7101 - accuracy: 0.5054\n",
      "Epoch 00021: val_accuracy improved from 0.54633 to 0.54978, saving model to best_original_model.h5\n",
      "322/322 [==============================] - 43s 132ms/step - loss: 0.7101 - accuracy: 0.5054 - val_loss: 0.7083 - val_accuracy: 0.5498\n",
      "Epoch 22/60\n",
      "321/322 [============================>.] - ETA: 0s - loss: 0.7096 - accuracy: 0.5121\n",
      "Epoch 00022: val_accuracy improved from 0.54978 to 0.55160, saving model to best_original_model.h5\n",
      "322/322 [==============================] - 42s 132ms/step - loss: 0.7095 - accuracy: 0.5126 - val_loss: 0.7082 - val_accuracy: 0.5516\n",
      "Epoch 23/60\n",
      "321/322 [============================>.] - ETA: 0s - loss: 0.7095 - accuracy: 0.5139\n",
      "Epoch 00023: val_accuracy improved from 0.55160 to 0.55305, saving model to best_original_model.h5\n",
      "322/322 [==============================] - 42s 131ms/step - loss: 0.7095 - accuracy: 0.5141 - val_loss: 0.7082 - val_accuracy: 0.5531\n",
      "Epoch 24/60\n",
      "321/322 [============================>.] - ETA: 0s - loss: 0.7094 - accuracy: 0.5133\n",
      "Epoch 00024: val_accuracy improved from 0.55305 to 0.55741, saving model to best_original_model.h5\n",
      "322/322 [==============================] - 42s 130ms/step - loss: 0.7094 - accuracy: 0.5132 - val_loss: 0.7081 - val_accuracy: 0.5574\n",
      "Epoch 25/60\n",
      "321/322 [============================>.] - ETA: 0s - loss: 0.7094 - accuracy: 0.5093\n",
      "Epoch 00025: val_accuracy improved from 0.55741 to 0.56141, saving model to best_original_model.h5\n",
      "322/322 [==============================] - 42s 129ms/step - loss: 0.7094 - accuracy: 0.5095 - val_loss: 0.7081 - val_accuracy: 0.5614\n",
      "Epoch 26/60\n",
      "321/322 [============================>.] - ETA: 0s - loss: 0.7091 - accuracy: 0.5149\n",
      "Epoch 00026: val_accuracy improved from 0.56141 to 0.56177, saving model to best_original_model.h5\n",
      "322/322 [==============================] - 42s 131ms/step - loss: 0.7091 - accuracy: 0.5147 - val_loss: 0.7080 - val_accuracy: 0.5618\n"
     ]
    },
    {
     "name": "stdout",
     "output_type": "stream",
     "text": [
      "Epoch 27/60\n",
      "321/322 [============================>.] - ETA: 0s - loss: 0.7090 - accuracy: 0.5130\n",
      "Epoch 00027: val_accuracy improved from 0.56177 to 0.56286, saving model to best_original_model.h5\n",
      "322/322 [==============================] - 42s 132ms/step - loss: 0.7091 - accuracy: 0.5127 - val_loss: 0.7079 - val_accuracy: 0.5629\n",
      "Epoch 28/60\n",
      "321/322 [============================>.] - ETA: 0s - loss: 0.7091 - accuracy: 0.5166\n",
      "Epoch 00028: val_accuracy improved from 0.56286 to 0.56577, saving model to best_original_model.h5\n",
      "322/322 [==============================] - 42s 132ms/step - loss: 0.7091 - accuracy: 0.5166 - val_loss: 0.7079 - val_accuracy: 0.5658\n",
      "Epoch 29/60\n",
      "321/322 [============================>.] - ETA: 0s - loss: 0.7097 - accuracy: 0.5074\n",
      "Epoch 00029: val_accuracy did not improve from 0.56577\n",
      "322/322 [==============================] - 42s 130ms/step - loss: 0.7097 - accuracy: 0.5077 - val_loss: 0.7078 - val_accuracy: 0.5652\n",
      "Epoch 30/60\n",
      "321/322 [============================>.] - ETA: 0s - loss: 0.7089 - accuracy: 0.5144\n",
      "Epoch 00030: val_accuracy improved from 0.56577 to 0.56613, saving model to best_original_model.h5\n",
      "322/322 [==============================] - 43s 133ms/step - loss: 0.7089 - accuracy: 0.5144 - val_loss: 0.7077 - val_accuracy: 0.5661\n",
      "Epoch 31/60\n",
      "321/322 [============================>.] - ETA: 0s - loss: 0.7091 - accuracy: 0.5142\n",
      "Epoch 00031: val_accuracy did not improve from 0.56613\n",
      "322/322 [==============================] - 43s 134ms/step - loss: 0.7092 - accuracy: 0.5138 - val_loss: 0.7077 - val_accuracy: 0.5661\n",
      "Epoch 32/60\n",
      "321/322 [============================>.] - ETA: 0s - loss: 0.7086 - accuracy: 0.5133\n",
      "Epoch 00032: val_accuracy improved from 0.56613 to 0.56759, saving model to best_original_model.h5\n",
      "322/322 [==============================] - 43s 133ms/step - loss: 0.7086 - accuracy: 0.5132 - val_loss: 0.7076 - val_accuracy: 0.5676\n",
      "Epoch 33/60\n",
      "321/322 [============================>.] - ETA: 0s - loss: 0.7093 - accuracy: 0.5088\n",
      "Epoch 00033: val_accuracy improved from 0.56759 to 0.56831, saving model to best_original_model.h5\n",
      "322/322 [==============================] - 42s 132ms/step - loss: 0.7093 - accuracy: 0.5089 - val_loss: 0.7076 - val_accuracy: 0.5683\n",
      "Epoch 34/60\n",
      "321/322 [============================>.] - ETA: 0s - loss: 0.7086 - accuracy: 0.5116\n",
      "Epoch 00034: val_accuracy did not improve from 0.56831\n",
      "322/322 [==============================] - 42s 130ms/step - loss: 0.7086 - accuracy: 0.5116 - val_loss: 0.7075 - val_accuracy: 0.5676\n",
      "Epoch 35/60\n",
      "321/322 [============================>.] - ETA: 0s - loss: 0.7082 - accuracy: 0.5187\n",
      "Epoch 00035: val_accuracy did not improve from 0.56831\n",
      "322/322 [==============================] - 42s 131ms/step - loss: 0.7081 - accuracy: 0.5185 - val_loss: 0.7074 - val_accuracy: 0.5674\n",
      "Epoch 36/60\n",
      "321/322 [============================>.] - ETA: 0s - loss: 0.7087 - accuracy: 0.5147\n",
      "Epoch 00036: val_accuracy improved from 0.56831 to 0.56940, saving model to best_original_model.h5\n",
      "322/322 [==============================] - 43s 133ms/step - loss: 0.7087 - accuracy: 0.5148 - val_loss: 0.7074 - val_accuracy: 0.5694\n",
      "Epoch 37/60\n",
      "321/322 [============================>.] - ETA: 0s - loss: 0.7091 - accuracy: 0.5126\n",
      "Epoch 00037: val_accuracy improved from 0.56940 to 0.57013, saving model to best_original_model.h5\n",
      "322/322 [==============================] - 43s 134ms/step - loss: 0.7091 - accuracy: 0.5128 - val_loss: 0.7073 - val_accuracy: 0.5701\n",
      "Epoch 38/60\n",
      "321/322 [============================>.] - ETA: 0s - loss: 0.7085 - accuracy: 0.5138\n",
      "Epoch 00038: val_accuracy improved from 0.57013 to 0.57068, saving model to best_original_model.h5\n",
      "322/322 [==============================] - 43s 132ms/step - loss: 0.7084 - accuracy: 0.5143 - val_loss: 0.7073 - val_accuracy: 0.5707\n",
      "Epoch 39/60\n",
      "321/322 [============================>.] - ETA: 0s - loss: 0.7080 - accuracy: 0.5161\n",
      "Epoch 00039: val_accuracy did not improve from 0.57068\n",
      "322/322 [==============================] - 43s 132ms/step - loss: 0.7081 - accuracy: 0.5157 - val_loss: 0.7072 - val_accuracy: 0.5701\n",
      "Epoch 40/60\n",
      "321/322 [============================>.] - ETA: 0s - loss: 0.7079 - accuracy: 0.5189\n",
      "Epoch 00040: val_accuracy improved from 0.57068 to 0.57140, saving model to best_original_model.h5\n",
      "322/322 [==============================] - 43s 134ms/step - loss: 0.7079 - accuracy: 0.5189 - val_loss: 0.7071 - val_accuracy: 0.5714\n",
      "Epoch 41/60\n",
      "321/322 [============================>.] - ETA: 0s - loss: 0.7084 - accuracy: 0.5174\n",
      "Epoch 00041: val_accuracy did not improve from 0.57140\n",
      "322/322 [==============================] - 43s 133ms/step - loss: 0.7084 - accuracy: 0.5172 - val_loss: 0.7071 - val_accuracy: 0.5714\n",
      "Epoch 42/60\n",
      "321/322 [============================>.] - ETA: 0s - loss: 0.7084 - accuracy: 0.5099\n",
      "Epoch 00042: val_accuracy improved from 0.57140 to 0.57231, saving model to best_original_model.h5\n",
      "322/322 [==============================] - 43s 133ms/step - loss: 0.7084 - accuracy: 0.5099 - val_loss: 0.7070 - val_accuracy: 0.5723\n",
      "Epoch 43/60\n",
      "321/322 [============================>.] - ETA: 0s - loss: 0.7083 - accuracy: 0.5149\n",
      "Epoch 00043: val_accuracy improved from 0.57231 to 0.57249, saving model to best_original_model.h5\n",
      "322/322 [==============================] - 44s 136ms/step - loss: 0.7083 - accuracy: 0.5145 - val_loss: 0.7070 - val_accuracy: 0.5725\n",
      "Epoch 44/60\n",
      "321/322 [============================>.] - ETA: 0s - loss: 0.7082 - accuracy: 0.5166\n",
      "Epoch 00044: val_accuracy did not improve from 0.57249\n",
      "322/322 [==============================] - 43s 133ms/step - loss: 0.7082 - accuracy: 0.5165 - val_loss: 0.7069 - val_accuracy: 0.5725\n",
      "Epoch 45/60\n",
      "321/322 [============================>.] - ETA: 0s - loss: 0.7080 - accuracy: 0.5161\n",
      "Epoch 00045: val_accuracy improved from 0.57249 to 0.57267, saving model to best_original_model.h5\n",
      "322/322 [==============================] - 43s 134ms/step - loss: 0.7080 - accuracy: 0.5163 - val_loss: 0.7069 - val_accuracy: 0.5727\n",
      "Epoch 46/60\n",
      "321/322 [============================>.] - ETA: 0s - loss: 0.7080 - accuracy: 0.5187\n",
      "Epoch 00046: val_accuracy did not improve from 0.57267\n",
      "322/322 [==============================] - 43s 134ms/step - loss: 0.7080 - accuracy: 0.5185 - val_loss: 0.7068 - val_accuracy: 0.5727\n",
      "Epoch 47/60\n",
      "321/322 [============================>.] - ETA: 0s - loss: 0.7080 - accuracy: 0.5163\n",
      "Epoch 00047: val_accuracy improved from 0.57267 to 0.57304, saving model to best_original_model.h5\n",
      "322/322 [==============================] - 43s 133ms/step - loss: 0.7080 - accuracy: 0.5163 - val_loss: 0.7068 - val_accuracy: 0.5730\n",
      "Epoch 48/60\n",
      "321/322 [============================>.] - ETA: 0s - loss: 0.7072 - accuracy: 0.5231\n",
      "Epoch 00048: val_accuracy did not improve from 0.57304\n",
      "322/322 [==============================] - 43s 134ms/step - loss: 0.7071 - accuracy: 0.5232 - val_loss: 0.7067 - val_accuracy: 0.5727\n",
      "Epoch 49/60\n",
      "321/322 [============================>.] - ETA: 0s - loss: 0.7077 - accuracy: 0.5165\n",
      "Epoch 00049: val_accuracy did not improve from 0.57304\n",
      "322/322 [==============================] - 43s 134ms/step - loss: 0.7078 - accuracy: 0.5161 - val_loss: 0.7066 - val_accuracy: 0.5730\n",
      "Epoch 50/60\n",
      "321/322 [============================>.] - ETA: 0s - loss: 0.7078 - accuracy: 0.5171\n",
      "Epoch 00050: val_accuracy did not improve from 0.57304\n",
      "322/322 [==============================] - 43s 135ms/step - loss: 0.7078 - accuracy: 0.5172 - val_loss: 0.7066 - val_accuracy: 0.5725\n",
      "Epoch 51/60\n",
      "321/322 [============================>.] - ETA: 0s - loss: 0.7073 - accuracy: 0.5212\n",
      "Epoch 00051: val_accuracy did not improve from 0.57304\n",
      "322/322 [==============================] - 43s 135ms/step - loss: 0.7074 - accuracy: 0.5206 - val_loss: 0.7065 - val_accuracy: 0.5725\n",
      "Epoch 52/60\n",
      "321/322 [============================>.] - ETA: 0s - loss: 0.7081 - accuracy: 0.5185\n",
      "Epoch 00052: val_accuracy improved from 0.57304 to 0.57395, saving model to best_original_model.h5\n",
      "322/322 [==============================] - 43s 134ms/step - loss: 0.7082 - accuracy: 0.5185 - val_loss: 0.7065 - val_accuracy: 0.5739\n",
      "Epoch 53/60\n",
      "321/322 [============================>.] - ETA: 0s - loss: 0.7077 - accuracy: 0.5211\n",
      "Epoch 00053: val_accuracy did not improve from 0.57395\n",
      "322/322 [==============================] - 43s 134ms/step - loss: 0.7077 - accuracy: 0.5210 - val_loss: 0.7064 - val_accuracy: 0.5738\n"
     ]
    },
    {
     "name": "stdout",
     "output_type": "stream",
     "text": [
      "Epoch 54/60\n",
      "321/322 [============================>.] - ETA: 0s - loss: 0.7074 - accuracy: 0.5227\n",
      "Epoch 00054: val_accuracy improved from 0.57395 to 0.57431, saving model to best_original_model.h5\n",
      "322/322 [==============================] - 43s 134ms/step - loss: 0.7074 - accuracy: 0.5225 - val_loss: 0.7064 - val_accuracy: 0.5743\n",
      "Epoch 55/60\n",
      "321/322 [============================>.] - ETA: 0s - loss: 0.7078 - accuracy: 0.5185\n",
      "Epoch 00055: val_accuracy did not improve from 0.57431\n",
      "322/322 [==============================] - 43s 133ms/step - loss: 0.7078 - accuracy: 0.5183 - val_loss: 0.7063 - val_accuracy: 0.5741\n",
      "Epoch 56/60\n",
      "321/322 [============================>.] - ETA: 0s - loss: 0.7075 - accuracy: 0.5201\n",
      "Epoch 00056: val_accuracy did not improve from 0.57431\n",
      "322/322 [==============================] - 43s 133ms/step - loss: 0.7075 - accuracy: 0.5202 - val_loss: 0.7063 - val_accuracy: 0.5738\n",
      "Epoch 57/60\n",
      "321/322 [============================>.] - ETA: 0s - loss: 0.7070 - accuracy: 0.5222\n",
      "Epoch 00057: val_accuracy improved from 0.57431 to 0.57449, saving model to best_original_model.h5\n",
      "322/322 [==============================] - 43s 133ms/step - loss: 0.7070 - accuracy: 0.5226 - val_loss: 0.7062 - val_accuracy: 0.5745\n",
      "Epoch 58/60\n",
      "321/322 [============================>.] - ETA: 0s - loss: 0.7076 - accuracy: 0.5190\n",
      "Epoch 00058: val_accuracy did not improve from 0.57449\n",
      "322/322 [==============================] - 43s 133ms/step - loss: 0.7076 - accuracy: 0.5193 - val_loss: 0.7062 - val_accuracy: 0.5743\n",
      "Epoch 59/60\n",
      "321/322 [============================>.] - ETA: 0s - loss: 0.7068 - accuracy: 0.5247\n",
      "Epoch 00059: val_accuracy improved from 0.57449 to 0.57467, saving model to best_original_model.h5\n",
      "322/322 [==============================] - 43s 133ms/step - loss: 0.7068 - accuracy: 0.5247 - val_loss: 0.7061 - val_accuracy: 0.5747\n",
      "Epoch 60/60\n",
      "321/322 [============================>.] - ETA: 0s - loss: 0.7072 - accuracy: 0.5173\n",
      "Epoch 00060: val_accuracy improved from 0.57467 to 0.57504, saving model to best_original_model.h5\n",
      "322/322 [==============================] - 43s 133ms/step - loss: 0.7072 - accuracy: 0.5172 - val_loss: 0.7061 - val_accuracy: 0.5750\n"
     ]
    }
   ],
   "source": [
    "# Fit the model\n",
    "history = model.fit_generator(\n",
    "    train_generator,\n",
    "    steps_per_epoch = train_generator.n // train_generator.batch_size,\n",
    "    epochs = num_epochs,\n",
    "    validation_data = validation_generator,\n",
    "    validation_steps = validation_generator.n // validation_generator.batch_size,\n",
    "    use_multiprocessing = False,\n",
    "    callbacks = [mc]\n",
    ")"
   ]
  },
  {
   "cell_type": "code",
   "execution_count": 10,
   "metadata": {},
   "outputs": [],
   "source": [
    "# Save model\n",
    "model.save_weights(MODEL_NAME + '.h5')"
   ]
  },
  {
   "cell_type": "code",
   "execution_count": 11,
   "metadata": {},
   "outputs": [
    {
     "data": {
      "image/png": "[encoded data removed]",
      "text/plain": [
       "<Figure size 432x288 with 1 Axes>"
      ]
     },
     "metadata": {
      "needs_background": "light"
     },
     "output_type": "display_data"
    },
    {
     "data": {
      "image/png": "[encoded data removed]",
      "text/plain": [
       "<Figure size 432x288 with 1 Axes>"
      ]
     },
     "metadata": {
      "needs_background": "light"
     },
     "output_type": "display_data"
    }
   ],
   "source": [
    "# Plot accuracy and loss values\n",
    "\n",
    "plt.plot(history.history['accuracy'])\n",
    "plt.plot(history.history['val_accuracy'])\n",
    "plt.title('model accuracy')\n",
    "plt.ylabel('accuracy')\n",
    "plt.xlabel('epoch')\n",
    "plt.legend(['train', 'test'], loc='upper left')\n",
    "plt.show()\n",
    "# summarize history for loss\n",
    "plt.plot(history.history['loss'])\n",
    "plt.plot(history.history['val_loss'])\n",
    "plt.title('model loss')\n",
    "plt.ylabel('loss')\n",
    "plt.xlabel('epoch')\n",
    "plt.legend(['train', 'test'], loc='upper left')\n",
    "plt.show()"
   ]
  },
  {
   "cell_type": "code",
   "execution_count": 12,
   "metadata": {},
   "outputs": [
    {
     "data": {
      "text/plain": [
       "[0.7060819032580353, 0.57503635]"
      ]
     },
     "execution_count": 12,
     "metadata": {},
     "output_type": "execute_result"
    }
   ],
   "source": [
    "# Evaluate the model\n",
    "model.evaluate_generator(validation_generator, steps = validation_generator.n // validation_generator.batch_size)"
   ]
  },
  {
   "cell_type": "code",
   "execution_count": 13,
   "metadata": {},
   "outputs": [
    {
     "name": "stdout",
     "output_type": "stream",
     "text": [
      "              precision    recall  f1-score   support\n",
      "\n",
      " parasitized       0.58      0.46      0.51       688\n",
      "  uninfected       0.55      0.67      0.61       688\n",
      "\n",
      "    accuracy                           0.56      1376\n",
      "   macro avg       0.57      0.56      0.56      1376\n",
      "weighted avg       0.57      0.56      0.56      1376\n",
      "\n"
     ]
    }
   ],
   "source": [
    "# Predictions\n",
    "\n",
    "test_generator.reset()\n",
    "predIdxs = model.predict_generator(test_generator,steps=(test_generator.n // test_generator.batch_size) + 1)\n",
    "\n",
    "# for each image in the testing set we need to find the index of the\n",
    "# label with corresponding largest predicted probability\n",
    "predIdxs = np.argmax(predIdxs, axis=1)\n",
    "\n",
    "# show classification report\n",
    "print(classification_report(test_generator.classes, predIdxs, target_names=test_generator.class_indices.keys()))"
   ]
  },
  {
   "cell_type": "code",
   "execution_count": 14,
   "metadata": {},
   "outputs": [
    {
     "name": "stdout",
     "output_type": "stream",
     "text": [
      "acc: 0.5647\n",
      "sensitivity: 0.4622\n",
      "specificity: 0.6672\n"
     ]
    }
   ],
   "source": [
    "cm = confusion_matrix(test_generator.classes, predIdxs)\n",
    "total = sum(sum(cm))\n",
    "acc = (cm[0,0] + cm[1,1]) / total\n",
    "sensitivity = cm[0,0] / (cm[0,0] + cm[0,1])\n",
    "specificity = cm[1,1] / (cm[1,0] + cm[1,1])\n",
    "\n",
    "print(\"acc: {:.4f}\".format(acc))\n",
    "print(\"sensitivity: {:.4f}\".format(sensitivity))\n",
    "print(\"specificity: {:.4f}\".format(specificity))"
   ]
  },
  {
   "cell_type": "code",
   "execution_count": null,
   "metadata": {},
   "outputs": [],
   "source": []
  }
 ],
 "metadata": {
  "kernelspec": {
   "display_name": "Python 3",
   "language": "python",
   "name": "python3"
  },
  "language_info": {
   "codemirror_mode": {
    "name": "ipython",
    "version": 3
   },
   "file_extension": ".py",
   "mimetype": "text/x-python",
   "name": "python",
   "nbconvert_exporter": "python",
   "pygments_lexer": "ipython3",
   "version": "3.6.7"
  }
 },
 "nbformat": 4,
 "nbformat_minor": 2
}
