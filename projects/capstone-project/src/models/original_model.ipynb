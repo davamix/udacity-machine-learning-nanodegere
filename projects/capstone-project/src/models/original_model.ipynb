{
 "cells": [
  {
   "cell_type": "code",
   "execution_count": 1,
   "metadata": {},
   "outputs": [],
   "source": [
    "import numpy as np\n",
    "import matplotlib.pyplot as plt\n",
    "\n",
    "from tensorflow.keras.models import Sequential\n",
    "from tensorflow.keras.layers import Conv2D, MaxPooling2D\n",
    "from tensorflow.keras.layers import Activation, Dropout, Flatten, Dense\n",
    "from tensorflow.keras.optimizers import SGD\n",
    "from tensorflow.keras.callbacks import ModelCheckpoint\n",
    "from tensorflow.keras.preprocessing.image import ImageDataGenerator, array_to_img, img_to_array, load_img\n",
    "from sklearn.metrics import classification_report\n",
    "from sklearn.metrics import confusion_matrix"
   ]
  },
  {
   "cell_type": "code",
   "execution_count": 2,
   "metadata": {},
   "outputs": [],
   "source": [
    "# Model name used to save the weights in h5 format. The name match with the Jupyter notebook\n",
    "\n",
    "MODEL_NAME = 'original_model'"
   ]
  },
  {
   "cell_type": "code",
   "execution_count": 3,
   "metadata": {},
   "outputs": [],
   "source": [
    "# DATA PATHS\n",
    "\n",
    "TRAIN_FOLDER_PATH = '../../data/train/'\n",
    "VAL_FODLER_PATH = '../../data/validation/'\n",
    "#TEST_FOLDER_PATH = '../../data/test/'\n",
    "TEST_FOLDER_PATH = '../../data/test_manual'\n",
    "PREVIEW_IMAGES_FOLDER = '../../data/preview/'\n",
    "\n",
    "PREDICTION_FILE_PATH = '../../data/' + MODEL_NAME + '.csv'"
   ]
  },
  {
   "cell_type": "code",
   "execution_count": 4,
   "metadata": {},
   "outputs": [],
   "source": [
    "# Configure hyperparameters\n",
    "img_width = 100\n",
    "img_height = 100\n",
    "img_depth = 3\n",
    "\n",
    "classes = 2\n",
    "batch_size = 1\n",
    "num_epochs = 60\n",
    "loss = \"categorical_crossentropy\"\n",
    "learning_rate = 0.000001\n",
    "decay = 1e-6\n",
    "momentum = 0.9"
   ]
  },
  {
   "cell_type": "code",
   "execution_count": 5,
   "metadata": {},
   "outputs": [
    {
     "name": "stdout",
     "output_type": "stream",
     "text": [
      "Found 20668 images belonging to 2 classes.\n",
      "Found 5510 images belonging to 2 classes.\n",
      "Found 1376 images belonging to 2 classes.\n"
     ]
    }
   ],
   "source": [
    "# MODEL TRAINING CONFIGURATION\n",
    "\n",
    "train_datagen = ImageDataGenerator(\n",
    "    rescale=1 / 255.0,\n",
    "    rotation_range=20,\n",
    "    zoom_range=0.05,\n",
    "    width_shift_range=0.05,\n",
    "    height_shift_range=0.05,\n",
    "    shear_range=0.05,\n",
    "    horizontal_flip=True,\n",
    "    fill_mode=\"nearest\"\n",
    ")\n",
    "\n",
    "validation_datagen = ImageDataGenerator(rescale=1./255)\n",
    "test_datagen = ImageDataGenerator(rescale=1./255)\n",
    "\n",
    "train_generator = train_datagen.flow_from_directory(\n",
    "    TRAIN_FOLDER_PATH,\n",
    "    target_size = (img_height,img_width),\n",
    "    color_mode='rgb',\n",
    "    batch_size = batch_size,\n",
    "    class_mode = 'categorical',\n",
    "    shuffle = True\n",
    ")\n",
    "\n",
    "validation_generator = validation_datagen.flow_from_directory(\n",
    "    VAL_FODLER_PATH,\n",
    "    target_size = (img_height, img_width),\n",
    "    color_mode='rgb',\n",
    "    batch_size = batch_size,\n",
    "    class_mode = 'categorical',\n",
    "    shuffle = False\n",
    ")\n",
    "\n",
    "test_generator = test_datagen.flow_from_directory(\n",
    "    TEST_FOLDER_PATH,\n",
    "    target_size = (img_height, img_width),\n",
    "    color_mode='rgb',\n",
    "    batch_size = batch_size,\n",
    "    class_mode = 'categorical',\n",
    "    shuffle = False\n",
    ")"
   ]
  },
  {
   "cell_type": "code",
   "execution_count": 6,
   "metadata": {},
   "outputs": [
    {
     "name": "stdout",
     "output_type": "stream",
     "text": [
      "Model: \"sequential\"\n",
      "_________________________________________________________________\n",
      "Layer (type)                 Output Shape              Param #   \n",
      "=================================================================\n",
      "conv2d (Conv2D)              (None, 98, 98, 32)        896       \n",
      "_________________________________________________________________\n",
      "activation (Activation)      (None, 98, 98, 32)        0         \n",
      "_________________________________________________________________\n",
      "max_pooling2d (MaxPooling2D) (None, 49, 49, 32)        0         \n",
      "_________________________________________________________________\n",
      "conv2d_1 (Conv2D)            (None, 47, 47, 32)        9248      \n",
      "_________________________________________________________________\n",
      "activation_1 (Activation)    (None, 47, 47, 32)        0         \n",
      "_________________________________________________________________\n",
      "max_pooling2d_1 (MaxPooling2 (None, 23, 23, 32)        0         \n",
      "_________________________________________________________________\n",
      "conv2d_2 (Conv2D)            (None, 23, 23, 64)        2112      \n",
      "_________________________________________________________________\n",
      "activation_2 (Activation)    (None, 23, 23, 64)        0         \n",
      "_________________________________________________________________\n",
      "max_pooling2d_2 (MaxPooling2 (None, 11, 11, 64)        0         \n",
      "_________________________________________________________________\n",
      "flatten (Flatten)            (None, 7744)              0         \n",
      "_________________________________________________________________\n",
      "dense (Dense)                (None, 64)                495680    \n",
      "_________________________________________________________________\n",
      "activation_3 (Activation)    (None, 64)                0         \n",
      "_________________________________________________________________\n",
      "dropout (Dropout)            (None, 64)                0         \n",
      "_________________________________________________________________\n",
      "dense_1 (Dense)              (None, 2)                 130       \n",
      "_________________________________________________________________\n",
      "activation_4 (Activation)    (None, 2)                 0         \n",
      "=================================================================\n",
      "Total params: 508,066\n",
      "Trainable params: 508,066\n",
      "Non-trainable params: 0\n",
      "_________________________________________________________________\n"
     ]
    }
   ],
   "source": [
    "# Model architecture\n",
    "inputShape = (img_height, img_width, img_depth)\n",
    "\n",
    "model = Sequential()\n",
    "model.add(Conv2D(32, (3,3), input_shape=inputShape))\n",
    "model.add(Activation('relu'))\n",
    "model.add(MaxPooling2D(pool_size=(2,2)))\n",
    "model.add(Conv2D(32, (3,3)))\n",
    "model.add(Activation('relu'))\n",
    "model.add(MaxPooling2D(pool_size=(2,2)))\n",
    "model.add(Conv2D(64, (1,1)))\n",
    "model.add(Activation('relu'))\n",
    "model.add(MaxPooling2D(pool_size=(2,2)))\n",
    "model.add(Flatten())\n",
    "model.add(Dense(64))\n",
    "model.add(Activation('relu'))\n",
    "model.add(Dropout(0.5))\n",
    "model.add(Dense(classes))\n",
    "model.add(Activation('softmax'))\n",
    "\n",
    "model.summary()"
   ]
  },
  {
   "cell_type": "code",
   "execution_count": 7,
   "metadata": {},
   "outputs": [],
   "source": [
    "# Callbacks\n",
    "mc = ModelCheckpoint('best_' + MODEL_NAME + '.h5', monitor='val_accuracy', mode='max', verbose=1, save_best_only=True)"
   ]
  },
  {
   "cell_type": "code",
   "execution_count": 8,
   "metadata": {},
   "outputs": [],
   "source": [
    "# Compile the model\n",
    "opt = SGD(lr=learning_rate, decay=decay, momentum=momentum, nesterov=True)\n",
    "\n",
    "model.compile(loss=loss, optimizer = opt, metrics=[\"accuracy\"])"
   ]
  },
  {
   "cell_type": "code",
   "execution_count": 9,
   "metadata": {},
   "outputs": [
    {
     "name": "stdout",
     "output_type": "stream",
     "text": [
      "Epoch 1/60\n"
     ]
    },
    {
     "name": "stderr",
     "output_type": "stream",
     "text": [
      "WARNING: Logging before flag parsing goes to stderr.\n",
      "W0617 02:43:14.150976 140472746571584 deprecation.py:323] From /usr/local/lib/python3.6/dist-packages/tensorflow/python/ops/math_grad.py:1250: add_dispatch_support.<locals>.wrapper (from tensorflow.python.ops.array_ops) is deprecated and will be removed in a future version.\n",
      "Instructions for updating:\n",
      "Use tf.where in 2.0, which has the same broadcast rule as np.where\n"
     ]
    },
    {
     "name": "stdout",
     "output_type": "stream",
     "text": [
      "321/322 [============================>.] - ETA: 0s - loss: 0.7030 - accuracy: 0.4989\n",
      "Epoch 00001: val_accuracy improved from -inf to 0.47220, saving model to best_original_model.h5\n",
      "322/322 [==============================] - 44s 138ms/step - loss: 0.7030 - accuracy: 0.4990 - val_loss: 0.6962 - val_accuracy: 0.4722\n",
      "Epoch 2/60\n",
      "321/322 [============================>.] - ETA: 0s - loss: 0.7022 - accuracy: 0.4965\n",
      "Epoch 00002: val_accuracy improved from 0.47220 to 0.47783, saving model to best_original_model.h5\n",
      "322/322 [==============================] - 43s 135ms/step - loss: 0.7021 - accuracy: 0.4967 - val_loss: 0.6958 - val_accuracy: 0.4778\n",
      "Epoch 3/60\n",
      "321/322 [============================>.] - ETA: 0s - loss: 0.7021 - accuracy: 0.4982\n",
      "Epoch 00003: val_accuracy improved from 0.47783 to 0.47820, saving model to best_original_model.h5\n",
      "322/322 [==============================] - 43s 134ms/step - loss: 0.7021 - accuracy: 0.4983 - val_loss: 0.6956 - val_accuracy: 0.4782\n",
      "Epoch 4/60\n",
      "321/322 [============================>.] - ETA: 0s - loss: 0.7004 - accuracy: 0.5010\n",
      "Epoch 00004: val_accuracy did not improve from 0.47820\n",
      "322/322 [==============================] - 43s 135ms/step - loss: 0.7004 - accuracy: 0.5008 - val_loss: 0.6953 - val_accuracy: 0.4775\n",
      "Epoch 5/60\n",
      "321/322 [============================>.] - ETA: 0s - loss: 0.7007 - accuracy: 0.4987\n",
      "Epoch 00005: val_accuracy did not improve from 0.47820\n",
      "322/322 [==============================] - 43s 134ms/step - loss: 0.7006 - accuracy: 0.4989 - val_loss: 0.6952 - val_accuracy: 0.4764\n",
      "Epoch 6/60\n",
      "321/322 [============================>.] - ETA: 0s - loss: 0.7006 - accuracy: 0.5003\n",
      "Epoch 00006: val_accuracy did not improve from 0.47820\n",
      "322/322 [==============================] - 43s 134ms/step - loss: 0.7005 - accuracy: 0.5006 - val_loss: 0.6951 - val_accuracy: 0.4775\n",
      "Epoch 7/60\n",
      "321/322 [============================>.] - ETA: 0s - loss: 0.7009 - accuracy: 0.5032\n",
      "Epoch 00007: val_accuracy improved from 0.47820 to 0.48129, saving model to best_original_model.h5\n",
      "322/322 [==============================] - 43s 134ms/step - loss: 0.7009 - accuracy: 0.5030 - val_loss: 0.6950 - val_accuracy: 0.4813\n",
      "Epoch 8/60\n",
      "321/322 [============================>.] - ETA: 0s - loss: 0.6990 - accuracy: 0.5059\n",
      "Epoch 00008: val_accuracy did not improve from 0.48129\n",
      "322/322 [==============================] - 43s 132ms/step - loss: 0.6990 - accuracy: 0.5060 - val_loss: 0.6949 - val_accuracy: 0.4797\n",
      "Epoch 9/60\n",
      "321/322 [============================>.] - ETA: 0s - loss: 0.6996 - accuracy: 0.4996\n",
      "Epoch 00009: val_accuracy improved from 0.48129 to 0.48765, saving model to best_original_model.h5\n",
      "322/322 [==============================] - 43s 132ms/step - loss: 0.6995 - accuracy: 0.4998 - val_loss: 0.6948 - val_accuracy: 0.4876\n",
      "Epoch 10/60\n",
      "321/322 [============================>.] - ETA: 0s - loss: 0.6997 - accuracy: 0.5056\n",
      "Epoch 00010: val_accuracy improved from 0.48765 to 0.48783, saving model to best_original_model.h5\n",
      "322/322 [==============================] - 43s 134ms/step - loss: 0.6997 - accuracy: 0.5057 - val_loss: 0.6948 - val_accuracy: 0.4878\n",
      "Epoch 11/60\n",
      "321/322 [============================>.] - ETA: 0s - loss: 0.7003 - accuracy: 0.5015\n",
      "Epoch 00011: val_accuracy improved from 0.48783 to 0.49055, saving model to best_original_model.h5\n",
      "322/322 [==============================] - 43s 133ms/step - loss: 0.7003 - accuracy: 0.5016 - val_loss: 0.6947 - val_accuracy: 0.4906\n",
      "Epoch 12/60\n",
      "321/322 [============================>.] - ETA: 0s - loss: 0.6989 - accuracy: 0.5039\n",
      "Epoch 00012: val_accuracy improved from 0.49055 to 0.49310, saving model to best_original_model.h5\n",
      "322/322 [==============================] - 42s 130ms/step - loss: 0.6988 - accuracy: 0.5042 - val_loss: 0.6947 - val_accuracy: 0.4931\n",
      "Epoch 13/60\n",
      "321/322 [============================>.] - ETA: 0s - loss: 0.6996 - accuracy: 0.5031\n",
      "Epoch 00013: val_accuracy improved from 0.49310 to 0.49982, saving model to best_original_model.h5\n",
      "322/322 [==============================] - 43s 133ms/step - loss: 0.6996 - accuracy: 0.5031 - val_loss: 0.6946 - val_accuracy: 0.4998\n",
      "Epoch 14/60\n",
      "321/322 [============================>.] - ETA: 0s - loss: 0.6991 - accuracy: 0.5013\n",
      "Epoch 00014: val_accuracy improved from 0.49982 to 0.50109, saving model to best_original_model.h5\n",
      "322/322 [==============================] - 42s 131ms/step - loss: 0.6991 - accuracy: 0.5016 - val_loss: 0.6945 - val_accuracy: 0.5011\n",
      "Epoch 15/60\n",
      "321/322 [============================>.] - ETA: 0s - loss: 0.6983 - accuracy: 0.5048\n",
      "Epoch 00015: val_accuracy improved from 0.50109 to 0.50164, saving model to best_original_model.h5\n",
      "322/322 [==============================] - 42s 131ms/step - loss: 0.6984 - accuracy: 0.5046 - val_loss: 0.6945 - val_accuracy: 0.5016\n",
      "Epoch 16/60\n",
      "321/322 [============================>.] - ETA: 0s - loss: 0.7003 - accuracy: 0.4995\n",
      "Epoch 00016: val_accuracy improved from 0.50164 to 0.50273, saving model to best_original_model.h5\n",
      "322/322 [==============================] - 43s 133ms/step - loss: 0.7003 - accuracy: 0.4990 - val_loss: 0.6944 - val_accuracy: 0.5027\n",
      "Epoch 17/60\n",
      "321/322 [============================>.] - ETA: 0s - loss: 0.6983 - accuracy: 0.5043\n",
      "Epoch 00017: val_accuracy improved from 0.50273 to 0.50454, saving model to best_original_model.h5\n",
      "322/322 [==============================] - 42s 132ms/step - loss: 0.6983 - accuracy: 0.5041 - val_loss: 0.6944 - val_accuracy: 0.5045\n",
      "Epoch 18/60\n",
      "321/322 [============================>.] - ETA: 0s - loss: 0.6974 - accuracy: 0.5008\n",
      "Epoch 00018: val_accuracy improved from 0.50454 to 0.50581, saving model to best_original_model.h5\n",
      "322/322 [==============================] - 42s 131ms/step - loss: 0.6974 - accuracy: 0.5008 - val_loss: 0.6944 - val_accuracy: 0.5058\n",
      "Epoch 19/60\n",
      "321/322 [============================>.] - ETA: 0s - loss: 0.6987 - accuracy: 0.5034\n",
      "Epoch 00019: val_accuracy improved from 0.50581 to 0.50654, saving model to best_original_model.h5\n",
      "322/322 [==============================] - 42s 131ms/step - loss: 0.6987 - accuracy: 0.5033 - val_loss: 0.6943 - val_accuracy: 0.5065\n",
      "Epoch 20/60\n",
      "321/322 [============================>.] - ETA: 0s - loss: 0.6979 - accuracy: 0.5054\n",
      "Epoch 00020: val_accuracy improved from 0.50654 to 0.50727, saving model to best_original_model.h5\n",
      "322/322 [==============================] - 42s 131ms/step - loss: 0.6979 - accuracy: 0.5053 - val_loss: 0.6943 - val_accuracy: 0.5073\n",
      "Epoch 21/60\n",
      "321/322 [============================>.] - ETA: 0s - loss: 0.6979 - accuracy: 0.5034\n",
      "Epoch 00021: val_accuracy did not improve from 0.50727\n",
      "322/322 [==============================] - 42s 131ms/step - loss: 0.6979 - accuracy: 0.5033 - val_loss: 0.6942 - val_accuracy: 0.5069\n",
      "Epoch 22/60\n",
      "321/322 [============================>.] - ETA: 0s - loss: 0.6976 - accuracy: 0.5045\n",
      "Epoch 00022: val_accuracy did not improve from 0.50727\n",
      "322/322 [==============================] - 42s 131ms/step - loss: 0.6976 - accuracy: 0.5046 - val_loss: 0.6942 - val_accuracy: 0.5073\n",
      "Epoch 23/60\n",
      "321/322 [============================>.] - ETA: 0s - loss: 0.6972 - accuracy: 0.5090\n",
      "Epoch 00023: val_accuracy improved from 0.50727 to 0.50908, saving model to best_original_model.h5\n",
      "322/322 [==============================] - 43s 132ms/step - loss: 0.6972 - accuracy: 0.5090 - val_loss: 0.6941 - val_accuracy: 0.5091\n",
      "Epoch 24/60\n",
      "321/322 [============================>.] - ETA: 0s - loss: 0.6989 - accuracy: 0.5009\n",
      "Epoch 00024: val_accuracy improved from 0.50908 to 0.51017, saving model to best_original_model.h5\n",
      "322/322 [==============================] - 43s 133ms/step - loss: 0.6990 - accuracy: 0.5008 - val_loss: 0.6941 - val_accuracy: 0.5102\n",
      "Epoch 25/60\n",
      "321/322 [============================>.] - ETA: 0s - loss: 0.6989 - accuracy: 0.5039\n",
      "Epoch 00025: val_accuracy improved from 0.51017 to 0.51054, saving model to best_original_model.h5\n",
      "322/322 [==============================] - 43s 133ms/step - loss: 0.6990 - accuracy: 0.5037 - val_loss: 0.6940 - val_accuracy: 0.5105\n",
      "Epoch 26/60\n",
      "321/322 [============================>.] - ETA: 0s - loss: 0.6975 - accuracy: 0.5054\n",
      "Epoch 00026: val_accuracy improved from 0.51054 to 0.51108, saving model to best_original_model.h5\n",
      "322/322 [==============================] - 43s 132ms/step - loss: 0.6975 - accuracy: 0.5053 - val_loss: 0.6940 - val_accuracy: 0.5111\n"
     ]
    },
    {
     "name": "stdout",
     "output_type": "stream",
     "text": [
      "Epoch 27/60\n",
      "321/322 [============================>.] - ETA: 0s - loss: 0.6977 - accuracy: 0.5082\n",
      "Epoch 00027: val_accuracy improved from 0.51108 to 0.51145, saving model to best_original_model.h5\n",
      "322/322 [==============================] - 43s 133ms/step - loss: 0.6977 - accuracy: 0.5083 - val_loss: 0.6939 - val_accuracy: 0.5114\n",
      "Epoch 28/60\n",
      "321/322 [============================>.] - ETA: 0s - loss: 0.6963 - accuracy: 0.5028\n",
      "Epoch 00028: val_accuracy improved from 0.51145 to 0.51217, saving model to best_original_model.h5\n",
      "322/322 [==============================] - 42s 131ms/step - loss: 0.6963 - accuracy: 0.5029 - val_loss: 0.6939 - val_accuracy: 0.5122\n",
      "Epoch 29/60\n",
      "321/322 [============================>.] - ETA: 0s - loss: 0.6985 - accuracy: 0.4996\n",
      "Epoch 00029: val_accuracy did not improve from 0.51217\n",
      "322/322 [==============================] - 42s 132ms/step - loss: 0.6986 - accuracy: 0.4992 - val_loss: 0.6938 - val_accuracy: 0.5118\n",
      "Epoch 30/60\n",
      "321/322 [============================>.] - ETA: 0s - loss: 0.6973 - accuracy: 0.5098\n",
      "Epoch 00030: val_accuracy improved from 0.51217 to 0.51308, saving model to best_original_model.h5\n",
      "322/322 [==============================] - 43s 132ms/step - loss: 0.6973 - accuracy: 0.5096 - val_loss: 0.6938 - val_accuracy: 0.5131\n",
      "Epoch 31/60\n",
      "321/322 [============================>.] - ETA: 0s - loss: 0.6974 - accuracy: 0.5054\n",
      "Epoch 00031: val_accuracy did not improve from 0.51308\n",
      "322/322 [==============================] - 42s 131ms/step - loss: 0.6974 - accuracy: 0.5052 - val_loss: 0.6937 - val_accuracy: 0.5125\n",
      "Epoch 32/60\n",
      "321/322 [============================>.] - ETA: 0s - loss: 0.6978 - accuracy: 0.5059\n",
      "Epoch 00032: val_accuracy improved from 0.51308 to 0.51417, saving model to best_original_model.h5\n",
      "322/322 [==============================] - 42s 131ms/step - loss: 0.6978 - accuracy: 0.5058 - val_loss: 0.6937 - val_accuracy: 0.5142\n",
      "Epoch 33/60\n",
      "321/322 [============================>.] - ETA: 0s - loss: 0.6979 - accuracy: 0.5012\n",
      "Epoch 00033: val_accuracy did not improve from 0.51417\n",
      "322/322 [==============================] - 42s 132ms/step - loss: 0.6979 - accuracy: 0.5013 - val_loss: 0.6936 - val_accuracy: 0.5129\n",
      "Epoch 34/60\n",
      "321/322 [============================>.] - ETA: 0s - loss: 0.6970 - accuracy: 0.5080\n",
      "Epoch 00034: val_accuracy did not improve from 0.51417\n",
      "322/322 [==============================] - 42s 131ms/step - loss: 0.6969 - accuracy: 0.5080 - val_loss: 0.6936 - val_accuracy: 0.5136\n",
      "Epoch 35/60\n",
      "321/322 [============================>.] - ETA: 0s - loss: 0.6979 - accuracy: 0.5002\n",
      "Epoch 00035: val_accuracy improved from 0.51417 to 0.51453, saving model to best_original_model.h5\n",
      "322/322 [==============================] - 42s 131ms/step - loss: 0.6978 - accuracy: 0.5004 - val_loss: 0.6935 - val_accuracy: 0.5145\n",
      "Epoch 36/60\n",
      "321/322 [============================>.] - ETA: 0s - loss: 0.6967 - accuracy: 0.5026\n",
      "Epoch 00036: val_accuracy did not improve from 0.51453\n",
      "322/322 [==============================] - 42s 131ms/step - loss: 0.6967 - accuracy: 0.5024 - val_loss: 0.6935 - val_accuracy: 0.5138\n",
      "Epoch 37/60\n",
      "321/322 [============================>.] - ETA: 0s - loss: 0.6973 - accuracy: 0.5008\n",
      "Epoch 00037: val_accuracy did not improve from 0.51453\n",
      "322/322 [==============================] - 42s 132ms/step - loss: 0.6973 - accuracy: 0.5011 - val_loss: 0.6934 - val_accuracy: 0.5144\n",
      "Epoch 38/60\n",
      "321/322 [============================>.] - ETA: 0s - loss: 0.6975 - accuracy: 0.5025\n",
      "Epoch 00038: val_accuracy did not improve from 0.51453\n",
      "322/322 [==============================] - 43s 132ms/step - loss: 0.6974 - accuracy: 0.5027 - val_loss: 0.6934 - val_accuracy: 0.5129\n",
      "Epoch 39/60\n",
      "321/322 [============================>.] - ETA: 0s - loss: 0.6960 - accuracy: 0.5080\n",
      "Epoch 00039: val_accuracy did not improve from 0.51453\n",
      "322/322 [==============================] - 43s 132ms/step - loss: 0.6960 - accuracy: 0.5080 - val_loss: 0.6934 - val_accuracy: 0.5144\n",
      "Epoch 40/60\n",
      "321/322 [============================>.] - ETA: 0s - loss: 0.6970 - accuracy: 0.5049\n",
      "Epoch 00040: val_accuracy did not improve from 0.51453\n",
      "322/322 [==============================] - 42s 130ms/step - loss: 0.6970 - accuracy: 0.5050 - val_loss: 0.6933 - val_accuracy: 0.5136\n",
      "Epoch 41/60\n",
      "321/322 [============================>.] - ETA: 0s - loss: 0.6950 - accuracy: 0.5095\n",
      "Epoch 00041: val_accuracy did not improve from 0.51453\n",
      "322/322 [==============================] - 43s 133ms/step - loss: 0.6950 - accuracy: 0.5096 - val_loss: 0.6933 - val_accuracy: 0.5133\n",
      "Epoch 42/60\n",
      "321/322 [============================>.] - ETA: 0s - loss: 0.6955 - accuracy: 0.5104\n",
      "Epoch 00042: val_accuracy did not improve from 0.51453\n",
      "322/322 [==============================] - 42s 132ms/step - loss: 0.6956 - accuracy: 0.5103 - val_loss: 0.6932 - val_accuracy: 0.5133\n",
      "Epoch 43/60\n",
      "321/322 [============================>.] - ETA: 0s - loss: 0.6954 - accuracy: 0.5113\n",
      "Epoch 00043: val_accuracy did not improve from 0.51453\n",
      "322/322 [==============================] - 42s 131ms/step - loss: 0.6954 - accuracy: 0.5112 - val_loss: 0.6932 - val_accuracy: 0.5129\n",
      "Epoch 44/60\n",
      "321/322 [============================>.] - ETA: 0s - loss: 0.6962 - accuracy: 0.5078\n",
      "Epoch 00044: val_accuracy did not improve from 0.51453\n",
      "322/322 [==============================] - 42s 130ms/step - loss: 0.6961 - accuracy: 0.5080 - val_loss: 0.6932 - val_accuracy: 0.5133\n",
      "Epoch 45/60\n",
      "321/322 [============================>.] - ETA: 0s - loss: 0.6966 - accuracy: 0.5064\n",
      "Epoch 00045: val_accuracy did not improve from 0.51453\n",
      "322/322 [==============================] - 42s 131ms/step - loss: 0.6966 - accuracy: 0.5062 - val_loss: 0.6931 - val_accuracy: 0.5133\n",
      "Epoch 46/60\n",
      "321/322 [============================>.] - ETA: 0s - loss: 0.6960 - accuracy: 0.5058\n",
      "Epoch 00046: val_accuracy did not improve from 0.51453\n",
      "322/322 [==============================] - 41s 129ms/step - loss: 0.6960 - accuracy: 0.5058 - val_loss: 0.6931 - val_accuracy: 0.5144\n",
      "Epoch 47/60\n",
      "321/322 [============================>.] - ETA: 0s - loss: 0.6944 - accuracy: 0.5099\n",
      "Epoch 00047: val_accuracy did not improve from 0.51453\n",
      "322/322 [==============================] - 41s 129ms/step - loss: 0.6943 - accuracy: 0.5101 - val_loss: 0.6930 - val_accuracy: 0.5145\n",
      "Epoch 48/60\n",
      "321/322 [============================>.] - ETA: 0s - loss: 0.6961 - accuracy: 0.5086\n",
      "Epoch 00048: val_accuracy did not improve from 0.51453\n",
      "322/322 [==============================] - 42s 130ms/step - loss: 0.6961 - accuracy: 0.5086 - val_loss: 0.6930 - val_accuracy: 0.5142\n",
      "Epoch 49/60\n",
      "321/322 [============================>.] - ETA: 0s - loss: 0.6947 - accuracy: 0.5106\n",
      "Epoch 00049: val_accuracy improved from 0.51453 to 0.51508, saving model to best_original_model.h5\n",
      "322/322 [==============================] - 42s 129ms/step - loss: 0.6947 - accuracy: 0.5107 - val_loss: 0.6929 - val_accuracy: 0.5151\n",
      "Epoch 50/60\n",
      "321/322 [============================>.] - ETA: 0s - loss: 0.6947 - accuracy: 0.5137\n",
      "Epoch 00050: val_accuracy improved from 0.51508 to 0.51526, saving model to best_original_model.h5\n",
      "322/322 [==============================] - 41s 129ms/step - loss: 0.6946 - accuracy: 0.5138 - val_loss: 0.6929 - val_accuracy: 0.5153\n",
      "Epoch 51/60\n",
      "321/322 [============================>.] - ETA: 0s - loss: 0.6962 - accuracy: 0.5020\n",
      "Epoch 00051: val_accuracy did not improve from 0.51526\n",
      "322/322 [==============================] - 41s 129ms/step - loss: 0.6962 - accuracy: 0.5019 - val_loss: 0.6929 - val_accuracy: 0.5142\n",
      "Epoch 52/60\n",
      "321/322 [============================>.] - ETA: 0s - loss: 0.6946 - accuracy: 0.5114\n",
      "Epoch 00052: val_accuracy improved from 0.51526 to 0.51544, saving model to best_original_model.h5\n",
      "322/322 [==============================] - 42s 129ms/step - loss: 0.6946 - accuracy: 0.5116 - val_loss: 0.6928 - val_accuracy: 0.5154\n",
      "Epoch 53/60\n",
      "321/322 [============================>.] - ETA: 0s - loss: 0.6950 - accuracy: 0.5085\n",
      "Epoch 00053: val_accuracy did not improve from 0.51544\n",
      "322/322 [==============================] - 41s 128ms/step - loss: 0.6950 - accuracy: 0.5084 - val_loss: 0.6928 - val_accuracy: 0.5154\n",
      "Epoch 54/60\n",
      "321/322 [============================>.] - ETA: 0s - loss: 0.6947 - accuracy: 0.5120\n",
      "Epoch 00054: val_accuracy did not improve from 0.51544\n",
      "322/322 [==============================] - 41s 127ms/step - loss: 0.6947 - accuracy: 0.5122 - val_loss: 0.6927 - val_accuracy: 0.5153\n"
     ]
    },
    {
     "name": "stdout",
     "output_type": "stream",
     "text": [
      "Epoch 55/60\n",
      "321/322 [============================>.] - ETA: 0s - loss: 0.6934 - accuracy: 0.5152\n",
      "Epoch 00055: val_accuracy did not improve from 0.51544\n",
      "322/322 [==============================] - 41s 127ms/step - loss: 0.6934 - accuracy: 0.5148 - val_loss: 0.6927 - val_accuracy: 0.5154\n",
      "Epoch 56/60\n",
      "321/322 [============================>.] - ETA: 0s - loss: 0.6946 - accuracy: 0.5090\n",
      "Epoch 00056: val_accuracy improved from 0.51544 to 0.51653, saving model to best_original_model.h5\n",
      "322/322 [==============================] - 41s 128ms/step - loss: 0.6946 - accuracy: 0.5092 - val_loss: 0.6926 - val_accuracy: 0.5165\n",
      "Epoch 57/60\n",
      "321/322 [============================>.] - ETA: 0s - loss: 0.6946 - accuracy: 0.5092\n",
      "Epoch 00057: val_accuracy did not improve from 0.51653\n",
      "322/322 [==============================] - 42s 129ms/step - loss: 0.6945 - accuracy: 0.5093 - val_loss: 0.6926 - val_accuracy: 0.5162\n",
      "Epoch 58/60\n",
      "321/322 [============================>.] - ETA: 0s - loss: 0.6957 - accuracy: 0.5033\n",
      "Epoch 00058: val_accuracy improved from 0.51653 to 0.51672, saving model to best_original_model.h5\n",
      "322/322 [==============================] - 42s 130ms/step - loss: 0.6956 - accuracy: 0.5034 - val_loss: 0.6926 - val_accuracy: 0.5167\n",
      "Epoch 59/60\n",
      "321/322 [============================>.] - ETA: 0s - loss: 0.6955 - accuracy: 0.5017\n",
      "Epoch 00059: val_accuracy did not improve from 0.51672\n",
      "322/322 [==============================] - 42s 130ms/step - loss: 0.6956 - accuracy: 0.5017 - val_loss: 0.6925 - val_accuracy: 0.5162\n",
      "Epoch 60/60\n",
      "321/322 [============================>.] - ETA: 0s - loss: 0.6946 - accuracy: 0.5102\n",
      "Epoch 00060: val_accuracy improved from 0.51672 to 0.51744, saving model to best_original_model.h5\n",
      "322/322 [==============================] - 41s 128ms/step - loss: 0.6946 - accuracy: 0.5103 - val_loss: 0.6925 - val_accuracy: 0.5174\n"
     ]
    }
   ],
   "source": [
    "# Fit the model\n",
    "history = model.fit_generator(\n",
    "    train_generator,\n",
    "    steps_per_epoch = train_generator.n // train_generator.batch_size,\n",
    "    epochs = num_epochs,\n",
    "    validation_data = validation_generator,\n",
    "    validation_steps = validation_generator.n // validation_generator.batch_size,\n",
    "    use_multiprocessing = True,\n",
    "    callbacks = [mc]\n",
    ")"
   ]
  },
  {
   "cell_type": "code",
   "execution_count": 10,
   "metadata": {},
   "outputs": [],
   "source": [
    "# Save model\n",
    "model.save_weights(MODEL_NAME + '.h5')"
   ]
  },
  {
   "cell_type": "code",
   "execution_count": 11,
   "metadata": {},
   "outputs": [
    {
     "data": {
      "image/png": "[encoded data removed]",
      "text/plain": [
       "<Figure size 432x288 with 1 Axes>"
      ]
     },
     "metadata": {
      "needs_background": "light"
     },
     "output_type": "display_data"
    },
    {
     "data": {
      "image/png": "[encoded data removed]",
      "text/plain": [
       "<Figure size 432x288 with 1 Axes>"
      ]
     },
     "metadata": {
      "needs_background": "light"
     },
     "output_type": "display_data"
    }
   ],
   "source": [
    "# Plot accuracy and loss values\n",
    "\n",
    "plt.plot(history.history['accuracy'])\n",
    "plt.plot(history.history['val_accuracy'])\n",
    "plt.title('model accuracy')\n",
    "plt.ylabel('accuracy')\n",
    "plt.xlabel('epoch')\n",
    "plt.legend(['train', 'test'], loc='upper left')\n",
    "plt.show()\n",
    "# summarize history for loss\n",
    "plt.plot(history.history['loss'])\n",
    "plt.plot(history.history['val_loss'])\n",
    "plt.title('model loss')\n",
    "plt.ylabel('loss')\n",
    "plt.xlabel('epoch')\n",
    "plt.legend(['train', 'test'], loc='upper left')\n",
    "plt.show()"
   ]
  },
  {
   "cell_type": "code",
   "execution_count": 12,
   "metadata": {},
   "outputs": [
    {
     "data": {
      "text/plain": [
       "[0.6924901791783267, 0.51744187]"
      ]
     },
     "execution_count": 12,
     "metadata": {},
     "output_type": "execute_result"
    }
   ],
   "source": [
    "# Evaluate the model\n",
    "model.evaluate_generator(validation_generator, steps = validation_generator.n // validation_generator.batch_size)"
   ]
  },
  {
   "cell_type": "code",
   "execution_count": 13,
   "metadata": {},
   "outputs": [
    {
     "name": "stdout",
     "output_type": "stream",
     "text": [
      "              precision    recall  f1-score   support\n",
      "\n",
      " parasitized       0.55      0.21      0.30       688\n",
      "  uninfected       0.51      0.83      0.63       688\n",
      "\n",
      "    accuracy                           0.52      1376\n",
      "   macro avg       0.53      0.52      0.47      1376\n",
      "weighted avg       0.53      0.52      0.47      1376\n",
      "\n"
     ]
    }
   ],
   "source": [
    "# Predictions\n",
    "\n",
    "test_generator.reset()\n",
    "predIdxs = model.predict_generator(test_generator,steps=(test_generator.n // test_generator.batch_size) + 1)\n",
    "\n",
    "# for each image in the testing set we need to find the index of the\n",
    "# label with corresponding largest predicted probability\n",
    "predIdxs = np.argmax(predIdxs, axis=1)\n",
    "\n",
    "# show classification report\n",
    "print(classification_report(test_generator.classes, predIdxs, target_names=test_generator.class_indices.keys()))"
   ]
  },
  {
   "cell_type": "code",
   "execution_count": 14,
   "metadata": {},
   "outputs": [
    {
     "name": "stdout",
     "output_type": "stream",
     "text": [
      "acc: 0.5203\n",
      "sensitivity: 0.2093\n",
      "specificity: 0.8314\n"
     ]
    }
   ],
   "source": [
    "cm = confusion_matrix(test_generator.classes, predIdxs)\n",
    "total = sum(sum(cm))\n",
    "acc = (cm[0,0] + cm[1,1]) / total\n",
    "sensitivity = cm[0,0] / (cm[0,0] + cm[0,1])\n",
    "specificity = cm[1,1] / (cm[1,0] + cm[1,1])\n",
    "\n",
    "print(\"acc: {:.4f}\".format(acc))\n",
    "print(\"sensitivity: {:.4f}\".format(sensitivity))\n",
    "print(\"specificity: {:.4f}\".format(specificity))"
   ]
  },
  {
   "cell_type": "code",
   "execution_count": null,
   "metadata": {},
   "outputs": [],
   "source": []
  }
 ],
 "metadata": {
  "kernelspec": {
   "display_name": "Python 3",
   "language": "python",
   "name": "python3"
  },
  "language_info": {
   "codemirror_mode": {
    "name": "ipython",
    "version": 3
   },
   "file_extension": ".py",
   "mimetype": "text/x-python",
   "name": "python",
   "nbconvert_exporter": "python",
   "pygments_lexer": "ipython3",
   "version": "3.6.7"
  }
 },
 "nbformat": 4,
 "nbformat_minor": 2
}
